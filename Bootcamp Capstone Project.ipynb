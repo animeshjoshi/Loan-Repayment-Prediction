{
 "cells": [
  {
   "cell_type": "markdown",
   "id": "8f4bc34a",
   "metadata": {},
   "source": [
    "## Loan Status Prediction From Lending Club Dataset"
   ]
  },
  {
   "cell_type": "markdown",
   "id": "3b8779d3",
   "metadata": {},
   "source": [
    "Import the necessary libraries for machine learning, data analysis and data visualization"
   ]
  },
  {
   "cell_type": "code",
   "execution_count": 165,
   "id": "33bed5cc",
   "metadata": {},
   "outputs": [],
   "source": [
    "import pandas as pd\n",
    "import numpy as np\n",
    "import seaborn as sns\n",
    "import matplotlib.pyplot as plt\n",
    "import tensorflow as tf"
   ]
  },
  {
   "cell_type": "markdown",
   "id": "585bc110",
   "metadata": {},
   "source": [
    "## Data Set-Up"
   ]
  },
  {
   "cell_type": "markdown",
   "id": "a329f9b4",
   "metadata": {},
   "source": [
    "Read in the information about each column in the larger dataset into a dataframe"
   ]
  },
  {
   "cell_type": "code",
   "execution_count": 166,
   "id": "be600c6b",
   "metadata": {},
   "outputs": [],
   "source": [
    "data = pd.read_csv('../DATA/lending_club_info.csv',index_col='LoanStatNew')"
   ]
  },
  {
   "cell_type": "code",
   "execution_count": 167,
   "id": "59c7a86d",
   "metadata": {},
   "outputs": [
    {
     "data": {
      "text/html": [
       "<div>\n",
       "<style scoped>\n",
       "    .dataframe tbody tr th:only-of-type {\n",
       "        vertical-align: middle;\n",
       "    }\n",
       "\n",
       "    .dataframe tbody tr th {\n",
       "        vertical-align: top;\n",
       "    }\n",
       "\n",
       "    .dataframe thead th {\n",
       "        text-align: right;\n",
       "    }\n",
       "</style>\n",
       "<table border=\"1\" class=\"dataframe\">\n",
       "  <thead>\n",
       "    <tr style=\"text-align: right;\">\n",
       "      <th></th>\n",
       "      <th>Description</th>\n",
       "    </tr>\n",
       "    <tr>\n",
       "      <th>LoanStatNew</th>\n",
       "      <th></th>\n",
       "    </tr>\n",
       "  </thead>\n",
       "  <tbody>\n",
       "    <tr>\n",
       "      <th>loan_amnt</th>\n",
       "      <td>The listed amount of the loan applied for by t...</td>\n",
       "    </tr>\n",
       "    <tr>\n",
       "      <th>term</th>\n",
       "      <td>The number of payments on the loan. Values are...</td>\n",
       "    </tr>\n",
       "    <tr>\n",
       "      <th>int_rate</th>\n",
       "      <td>Interest Rate on the loan</td>\n",
       "    </tr>\n",
       "    <tr>\n",
       "      <th>installment</th>\n",
       "      <td>The monthly payment owed by the borrower if th...</td>\n",
       "    </tr>\n",
       "    <tr>\n",
       "      <th>grade</th>\n",
       "      <td>LC assigned loan grade</td>\n",
       "    </tr>\n",
       "  </tbody>\n",
       "</table>\n",
       "</div>"
      ],
      "text/plain": [
       "                                                   Description\n",
       "LoanStatNew                                                   \n",
       "loan_amnt    The listed amount of the loan applied for by t...\n",
       "term         The number of payments on the loan. Values are...\n",
       "int_rate                             Interest Rate on the loan\n",
       "installment  The monthly payment owed by the borrower if th...\n",
       "grade                                   LC assigned loan grade"
      ]
     },
     "execution_count": 167,
     "metadata": {},
     "output_type": "execute_result"
    }
   ],
   "source": [
    "data.head()"
   ]
  },
  {
   "cell_type": "markdown",
   "id": "167188c2",
   "metadata": {},
   "source": [
    "Read in the .csv data file which will be analyzed to predict the status of loans."
   ]
  },
  {
   "cell_type": "code",
   "execution_count": 168,
   "id": "26c5d360",
   "metadata": {},
   "outputs": [],
   "source": [
    "df = pd.read_csv('../DATA/lending_club_loan_two.csv')"
   ]
  },
  {
   "cell_type": "code",
   "execution_count": 169,
   "id": "e434778e",
   "metadata": {},
   "outputs": [
    {
     "data": {
      "text/html": [
       "<div>\n",
       "<style scoped>\n",
       "    .dataframe tbody tr th:only-of-type {\n",
       "        vertical-align: middle;\n",
       "    }\n",
       "\n",
       "    .dataframe tbody tr th {\n",
       "        vertical-align: top;\n",
       "    }\n",
       "\n",
       "    .dataframe thead th {\n",
       "        text-align: right;\n",
       "    }\n",
       "</style>\n",
       "<table border=\"1\" class=\"dataframe\">\n",
       "  <thead>\n",
       "    <tr style=\"text-align: right;\">\n",
       "      <th></th>\n",
       "      <th>loan_amnt</th>\n",
       "      <th>term</th>\n",
       "      <th>int_rate</th>\n",
       "      <th>installment</th>\n",
       "      <th>grade</th>\n",
       "      <th>sub_grade</th>\n",
       "      <th>emp_title</th>\n",
       "      <th>emp_length</th>\n",
       "      <th>home_ownership</th>\n",
       "      <th>annual_inc</th>\n",
       "      <th>...</th>\n",
       "      <th>open_acc</th>\n",
       "      <th>pub_rec</th>\n",
       "      <th>revol_bal</th>\n",
       "      <th>revol_util</th>\n",
       "      <th>total_acc</th>\n",
       "      <th>initial_list_status</th>\n",
       "      <th>application_type</th>\n",
       "      <th>mort_acc</th>\n",
       "      <th>pub_rec_bankruptcies</th>\n",
       "      <th>address</th>\n",
       "    </tr>\n",
       "  </thead>\n",
       "  <tbody>\n",
       "    <tr>\n",
       "      <th>0</th>\n",
       "      <td>10000.0</td>\n",
       "      <td>36 months</td>\n",
       "      <td>11.44</td>\n",
       "      <td>329.48</td>\n",
       "      <td>B</td>\n",
       "      <td>B4</td>\n",
       "      <td>Marketing</td>\n",
       "      <td>10+ years</td>\n",
       "      <td>RENT</td>\n",
       "      <td>117000.0</td>\n",
       "      <td>...</td>\n",
       "      <td>16.0</td>\n",
       "      <td>0.0</td>\n",
       "      <td>36369.0</td>\n",
       "      <td>41.8</td>\n",
       "      <td>25.0</td>\n",
       "      <td>w</td>\n",
       "      <td>INDIVIDUAL</td>\n",
       "      <td>0.0</td>\n",
       "      <td>0.0</td>\n",
       "      <td>0174 Michelle Gateway\\nMendozaberg, OK 22690</td>\n",
       "    </tr>\n",
       "    <tr>\n",
       "      <th>1</th>\n",
       "      <td>8000.0</td>\n",
       "      <td>36 months</td>\n",
       "      <td>11.99</td>\n",
       "      <td>265.68</td>\n",
       "      <td>B</td>\n",
       "      <td>B5</td>\n",
       "      <td>Credit analyst</td>\n",
       "      <td>4 years</td>\n",
       "      <td>MORTGAGE</td>\n",
       "      <td>65000.0</td>\n",
       "      <td>...</td>\n",
       "      <td>17.0</td>\n",
       "      <td>0.0</td>\n",
       "      <td>20131.0</td>\n",
       "      <td>53.3</td>\n",
       "      <td>27.0</td>\n",
       "      <td>f</td>\n",
       "      <td>INDIVIDUAL</td>\n",
       "      <td>3.0</td>\n",
       "      <td>0.0</td>\n",
       "      <td>1076 Carney Fort Apt. 347\\nLoganmouth, SD 05113</td>\n",
       "    </tr>\n",
       "    <tr>\n",
       "      <th>2</th>\n",
       "      <td>15600.0</td>\n",
       "      <td>36 months</td>\n",
       "      <td>10.49</td>\n",
       "      <td>506.97</td>\n",
       "      <td>B</td>\n",
       "      <td>B3</td>\n",
       "      <td>Statistician</td>\n",
       "      <td>&lt; 1 year</td>\n",
       "      <td>RENT</td>\n",
       "      <td>43057.0</td>\n",
       "      <td>...</td>\n",
       "      <td>13.0</td>\n",
       "      <td>0.0</td>\n",
       "      <td>11987.0</td>\n",
       "      <td>92.2</td>\n",
       "      <td>26.0</td>\n",
       "      <td>f</td>\n",
       "      <td>INDIVIDUAL</td>\n",
       "      <td>0.0</td>\n",
       "      <td>0.0</td>\n",
       "      <td>87025 Mark Dale Apt. 269\\nNew Sabrina, WV 05113</td>\n",
       "    </tr>\n",
       "    <tr>\n",
       "      <th>3</th>\n",
       "      <td>7200.0</td>\n",
       "      <td>36 months</td>\n",
       "      <td>6.49</td>\n",
       "      <td>220.65</td>\n",
       "      <td>A</td>\n",
       "      <td>A2</td>\n",
       "      <td>Client Advocate</td>\n",
       "      <td>6 years</td>\n",
       "      <td>RENT</td>\n",
       "      <td>54000.0</td>\n",
       "      <td>...</td>\n",
       "      <td>6.0</td>\n",
       "      <td>0.0</td>\n",
       "      <td>5472.0</td>\n",
       "      <td>21.5</td>\n",
       "      <td>13.0</td>\n",
       "      <td>f</td>\n",
       "      <td>INDIVIDUAL</td>\n",
       "      <td>0.0</td>\n",
       "      <td>0.0</td>\n",
       "      <td>823 Reid Ford\\nDelacruzside, MA 00813</td>\n",
       "    </tr>\n",
       "    <tr>\n",
       "      <th>4</th>\n",
       "      <td>24375.0</td>\n",
       "      <td>60 months</td>\n",
       "      <td>17.27</td>\n",
       "      <td>609.33</td>\n",
       "      <td>C</td>\n",
       "      <td>C5</td>\n",
       "      <td>Destiny Management Inc.</td>\n",
       "      <td>9 years</td>\n",
       "      <td>MORTGAGE</td>\n",
       "      <td>55000.0</td>\n",
       "      <td>...</td>\n",
       "      <td>13.0</td>\n",
       "      <td>0.0</td>\n",
       "      <td>24584.0</td>\n",
       "      <td>69.8</td>\n",
       "      <td>43.0</td>\n",
       "      <td>f</td>\n",
       "      <td>INDIVIDUAL</td>\n",
       "      <td>1.0</td>\n",
       "      <td>0.0</td>\n",
       "      <td>679 Luna Roads\\nGreggshire, VA 11650</td>\n",
       "    </tr>\n",
       "  </tbody>\n",
       "</table>\n",
       "<p>5 rows × 27 columns</p>\n",
       "</div>"
      ],
      "text/plain": [
       "   loan_amnt        term  int_rate  installment grade sub_grade  \\\n",
       "0    10000.0   36 months     11.44       329.48     B        B4   \n",
       "1     8000.0   36 months     11.99       265.68     B        B5   \n",
       "2    15600.0   36 months     10.49       506.97     B        B3   \n",
       "3     7200.0   36 months      6.49       220.65     A        A2   \n",
       "4    24375.0   60 months     17.27       609.33     C        C5   \n",
       "\n",
       "                 emp_title emp_length home_ownership  annual_inc  ...  \\\n",
       "0                Marketing  10+ years           RENT    117000.0  ...   \n",
       "1          Credit analyst     4 years       MORTGAGE     65000.0  ...   \n",
       "2             Statistician   < 1 year           RENT     43057.0  ...   \n",
       "3          Client Advocate    6 years           RENT     54000.0  ...   \n",
       "4  Destiny Management Inc.    9 years       MORTGAGE     55000.0  ...   \n",
       "\n",
       "  open_acc pub_rec revol_bal revol_util total_acc  initial_list_status  \\\n",
       "0     16.0     0.0   36369.0       41.8      25.0                    w   \n",
       "1     17.0     0.0   20131.0       53.3      27.0                    f   \n",
       "2     13.0     0.0   11987.0       92.2      26.0                    f   \n",
       "3      6.0     0.0    5472.0       21.5      13.0                    f   \n",
       "4     13.0     0.0   24584.0       69.8      43.0                    f   \n",
       "\n",
       "  application_type  mort_acc  pub_rec_bankruptcies  \\\n",
       "0       INDIVIDUAL       0.0                   0.0   \n",
       "1       INDIVIDUAL       3.0                   0.0   \n",
       "2       INDIVIDUAL       0.0                   0.0   \n",
       "3       INDIVIDUAL       0.0                   0.0   \n",
       "4       INDIVIDUAL       1.0                   0.0   \n",
       "\n",
       "                                           address  \n",
       "0     0174 Michelle Gateway\\nMendozaberg, OK 22690  \n",
       "1  1076 Carney Fort Apt. 347\\nLoganmouth, SD 05113  \n",
       "2  87025 Mark Dale Apt. 269\\nNew Sabrina, WV 05113  \n",
       "3            823 Reid Ford\\nDelacruzside, MA 00813  \n",
       "4             679 Luna Roads\\nGreggshire, VA 11650  \n",
       "\n",
       "[5 rows x 27 columns]"
      ]
     },
     "execution_count": 169,
     "metadata": {},
     "output_type": "execute_result"
    }
   ],
   "source": [
    "df.head()"
   ]
  },
  {
   "cell_type": "markdown",
   "id": "7fe32305",
   "metadata": {},
   "source": [
    "Returns summary statistics of each column in the dataframe. From this function we can see that there is quite a bit of null data that will need to be filled. We can also see that there are a few categorical columns which we will need to feature engineer so that our algorithms can use them in the predictions."
   ]
  },
  {
   "cell_type": "code",
   "execution_count": 170,
   "id": "2e6c1136",
   "metadata": {},
   "outputs": [
    {
     "data": {
      "text/html": [
       "<div>\n",
       "<style scoped>\n",
       "    .dataframe tbody tr th:only-of-type {\n",
       "        vertical-align: middle;\n",
       "    }\n",
       "\n",
       "    .dataframe tbody tr th {\n",
       "        vertical-align: top;\n",
       "    }\n",
       "\n",
       "    .dataframe thead th {\n",
       "        text-align: right;\n",
       "    }\n",
       "</style>\n",
       "<table border=\"1\" class=\"dataframe\">\n",
       "  <thead>\n",
       "    <tr style=\"text-align: right;\">\n",
       "      <th></th>\n",
       "      <th>loan_amnt</th>\n",
       "      <th>term</th>\n",
       "      <th>int_rate</th>\n",
       "      <th>installment</th>\n",
       "      <th>grade</th>\n",
       "      <th>sub_grade</th>\n",
       "      <th>emp_title</th>\n",
       "      <th>emp_length</th>\n",
       "      <th>home_ownership</th>\n",
       "      <th>annual_inc</th>\n",
       "      <th>...</th>\n",
       "      <th>open_acc</th>\n",
       "      <th>pub_rec</th>\n",
       "      <th>revol_bal</th>\n",
       "      <th>revol_util</th>\n",
       "      <th>total_acc</th>\n",
       "      <th>initial_list_status</th>\n",
       "      <th>application_type</th>\n",
       "      <th>mort_acc</th>\n",
       "      <th>pub_rec_bankruptcies</th>\n",
       "      <th>address</th>\n",
       "    </tr>\n",
       "  </thead>\n",
       "  <tbody>\n",
       "    <tr>\n",
       "      <th>count</th>\n",
       "      <td>396030.000000</td>\n",
       "      <td>396030</td>\n",
       "      <td>396030.000000</td>\n",
       "      <td>396030.000000</td>\n",
       "      <td>396030</td>\n",
       "      <td>396030</td>\n",
       "      <td>373103</td>\n",
       "      <td>377729</td>\n",
       "      <td>396030</td>\n",
       "      <td>3.960300e+05</td>\n",
       "      <td>...</td>\n",
       "      <td>396030.000000</td>\n",
       "      <td>396030.000000</td>\n",
       "      <td>3.960300e+05</td>\n",
       "      <td>395754.000000</td>\n",
       "      <td>396030.000000</td>\n",
       "      <td>396030</td>\n",
       "      <td>396030</td>\n",
       "      <td>358235.000000</td>\n",
       "      <td>395495.000000</td>\n",
       "      <td>396030</td>\n",
       "    </tr>\n",
       "    <tr>\n",
       "      <th>unique</th>\n",
       "      <td>NaN</td>\n",
       "      <td>2</td>\n",
       "      <td>NaN</td>\n",
       "      <td>NaN</td>\n",
       "      <td>7</td>\n",
       "      <td>35</td>\n",
       "      <td>173105</td>\n",
       "      <td>11</td>\n",
       "      <td>6</td>\n",
       "      <td>NaN</td>\n",
       "      <td>...</td>\n",
       "      <td>NaN</td>\n",
       "      <td>NaN</td>\n",
       "      <td>NaN</td>\n",
       "      <td>NaN</td>\n",
       "      <td>NaN</td>\n",
       "      <td>2</td>\n",
       "      <td>3</td>\n",
       "      <td>NaN</td>\n",
       "      <td>NaN</td>\n",
       "      <td>393700</td>\n",
       "    </tr>\n",
       "    <tr>\n",
       "      <th>top</th>\n",
       "      <td>NaN</td>\n",
       "      <td>36 months</td>\n",
       "      <td>NaN</td>\n",
       "      <td>NaN</td>\n",
       "      <td>B</td>\n",
       "      <td>B3</td>\n",
       "      <td>Teacher</td>\n",
       "      <td>10+ years</td>\n",
       "      <td>MORTGAGE</td>\n",
       "      <td>NaN</td>\n",
       "      <td>...</td>\n",
       "      <td>NaN</td>\n",
       "      <td>NaN</td>\n",
       "      <td>NaN</td>\n",
       "      <td>NaN</td>\n",
       "      <td>NaN</td>\n",
       "      <td>f</td>\n",
       "      <td>INDIVIDUAL</td>\n",
       "      <td>NaN</td>\n",
       "      <td>NaN</td>\n",
       "      <td>USNS Johnson\\nFPO AE 05113</td>\n",
       "    </tr>\n",
       "    <tr>\n",
       "      <th>freq</th>\n",
       "      <td>NaN</td>\n",
       "      <td>302005</td>\n",
       "      <td>NaN</td>\n",
       "      <td>NaN</td>\n",
       "      <td>116018</td>\n",
       "      <td>26655</td>\n",
       "      <td>4389</td>\n",
       "      <td>126041</td>\n",
       "      <td>198348</td>\n",
       "      <td>NaN</td>\n",
       "      <td>...</td>\n",
       "      <td>NaN</td>\n",
       "      <td>NaN</td>\n",
       "      <td>NaN</td>\n",
       "      <td>NaN</td>\n",
       "      <td>NaN</td>\n",
       "      <td>238066</td>\n",
       "      <td>395319</td>\n",
       "      <td>NaN</td>\n",
       "      <td>NaN</td>\n",
       "      <td>8</td>\n",
       "    </tr>\n",
       "    <tr>\n",
       "      <th>mean</th>\n",
       "      <td>14113.888089</td>\n",
       "      <td>NaN</td>\n",
       "      <td>13.639400</td>\n",
       "      <td>431.849698</td>\n",
       "      <td>NaN</td>\n",
       "      <td>NaN</td>\n",
       "      <td>NaN</td>\n",
       "      <td>NaN</td>\n",
       "      <td>NaN</td>\n",
       "      <td>7.420318e+04</td>\n",
       "      <td>...</td>\n",
       "      <td>11.311153</td>\n",
       "      <td>0.178191</td>\n",
       "      <td>1.584454e+04</td>\n",
       "      <td>53.791749</td>\n",
       "      <td>25.414744</td>\n",
       "      <td>NaN</td>\n",
       "      <td>NaN</td>\n",
       "      <td>1.813991</td>\n",
       "      <td>0.121648</td>\n",
       "      <td>NaN</td>\n",
       "    </tr>\n",
       "    <tr>\n",
       "      <th>std</th>\n",
       "      <td>8357.441341</td>\n",
       "      <td>NaN</td>\n",
       "      <td>4.472157</td>\n",
       "      <td>250.727790</td>\n",
       "      <td>NaN</td>\n",
       "      <td>NaN</td>\n",
       "      <td>NaN</td>\n",
       "      <td>NaN</td>\n",
       "      <td>NaN</td>\n",
       "      <td>6.163762e+04</td>\n",
       "      <td>...</td>\n",
       "      <td>5.137649</td>\n",
       "      <td>0.530671</td>\n",
       "      <td>2.059184e+04</td>\n",
       "      <td>24.452193</td>\n",
       "      <td>11.886991</td>\n",
       "      <td>NaN</td>\n",
       "      <td>NaN</td>\n",
       "      <td>2.147930</td>\n",
       "      <td>0.356174</td>\n",
       "      <td>NaN</td>\n",
       "    </tr>\n",
       "    <tr>\n",
       "      <th>min</th>\n",
       "      <td>500.000000</td>\n",
       "      <td>NaN</td>\n",
       "      <td>5.320000</td>\n",
       "      <td>16.080000</td>\n",
       "      <td>NaN</td>\n",
       "      <td>NaN</td>\n",
       "      <td>NaN</td>\n",
       "      <td>NaN</td>\n",
       "      <td>NaN</td>\n",
       "      <td>0.000000e+00</td>\n",
       "      <td>...</td>\n",
       "      <td>0.000000</td>\n",
       "      <td>0.000000</td>\n",
       "      <td>0.000000e+00</td>\n",
       "      <td>0.000000</td>\n",
       "      <td>2.000000</td>\n",
       "      <td>NaN</td>\n",
       "      <td>NaN</td>\n",
       "      <td>0.000000</td>\n",
       "      <td>0.000000</td>\n",
       "      <td>NaN</td>\n",
       "    </tr>\n",
       "    <tr>\n",
       "      <th>25%</th>\n",
       "      <td>8000.000000</td>\n",
       "      <td>NaN</td>\n",
       "      <td>10.490000</td>\n",
       "      <td>250.330000</td>\n",
       "      <td>NaN</td>\n",
       "      <td>NaN</td>\n",
       "      <td>NaN</td>\n",
       "      <td>NaN</td>\n",
       "      <td>NaN</td>\n",
       "      <td>4.500000e+04</td>\n",
       "      <td>...</td>\n",
       "      <td>8.000000</td>\n",
       "      <td>0.000000</td>\n",
       "      <td>6.025000e+03</td>\n",
       "      <td>35.800000</td>\n",
       "      <td>17.000000</td>\n",
       "      <td>NaN</td>\n",
       "      <td>NaN</td>\n",
       "      <td>0.000000</td>\n",
       "      <td>0.000000</td>\n",
       "      <td>NaN</td>\n",
       "    </tr>\n",
       "    <tr>\n",
       "      <th>50%</th>\n",
       "      <td>12000.000000</td>\n",
       "      <td>NaN</td>\n",
       "      <td>13.330000</td>\n",
       "      <td>375.430000</td>\n",
       "      <td>NaN</td>\n",
       "      <td>NaN</td>\n",
       "      <td>NaN</td>\n",
       "      <td>NaN</td>\n",
       "      <td>NaN</td>\n",
       "      <td>6.400000e+04</td>\n",
       "      <td>...</td>\n",
       "      <td>10.000000</td>\n",
       "      <td>0.000000</td>\n",
       "      <td>1.118100e+04</td>\n",
       "      <td>54.800000</td>\n",
       "      <td>24.000000</td>\n",
       "      <td>NaN</td>\n",
       "      <td>NaN</td>\n",
       "      <td>1.000000</td>\n",
       "      <td>0.000000</td>\n",
       "      <td>NaN</td>\n",
       "    </tr>\n",
       "    <tr>\n",
       "      <th>75%</th>\n",
       "      <td>20000.000000</td>\n",
       "      <td>NaN</td>\n",
       "      <td>16.490000</td>\n",
       "      <td>567.300000</td>\n",
       "      <td>NaN</td>\n",
       "      <td>NaN</td>\n",
       "      <td>NaN</td>\n",
       "      <td>NaN</td>\n",
       "      <td>NaN</td>\n",
       "      <td>9.000000e+04</td>\n",
       "      <td>...</td>\n",
       "      <td>14.000000</td>\n",
       "      <td>0.000000</td>\n",
       "      <td>1.962000e+04</td>\n",
       "      <td>72.900000</td>\n",
       "      <td>32.000000</td>\n",
       "      <td>NaN</td>\n",
       "      <td>NaN</td>\n",
       "      <td>3.000000</td>\n",
       "      <td>0.000000</td>\n",
       "      <td>NaN</td>\n",
       "    </tr>\n",
       "    <tr>\n",
       "      <th>max</th>\n",
       "      <td>40000.000000</td>\n",
       "      <td>NaN</td>\n",
       "      <td>30.990000</td>\n",
       "      <td>1533.810000</td>\n",
       "      <td>NaN</td>\n",
       "      <td>NaN</td>\n",
       "      <td>NaN</td>\n",
       "      <td>NaN</td>\n",
       "      <td>NaN</td>\n",
       "      <td>8.706582e+06</td>\n",
       "      <td>...</td>\n",
       "      <td>90.000000</td>\n",
       "      <td>86.000000</td>\n",
       "      <td>1.743266e+06</td>\n",
       "      <td>892.300000</td>\n",
       "      <td>151.000000</td>\n",
       "      <td>NaN</td>\n",
       "      <td>NaN</td>\n",
       "      <td>34.000000</td>\n",
       "      <td>8.000000</td>\n",
       "      <td>NaN</td>\n",
       "    </tr>\n",
       "  </tbody>\n",
       "</table>\n",
       "<p>11 rows × 27 columns</p>\n",
       "</div>"
      ],
      "text/plain": [
       "            loan_amnt        term       int_rate    installment   grade  \\\n",
       "count   396030.000000      396030  396030.000000  396030.000000  396030   \n",
       "unique            NaN           2            NaN            NaN       7   \n",
       "top               NaN   36 months            NaN            NaN       B   \n",
       "freq              NaN      302005            NaN            NaN  116018   \n",
       "mean     14113.888089         NaN      13.639400     431.849698     NaN   \n",
       "std       8357.441341         NaN       4.472157     250.727790     NaN   \n",
       "min        500.000000         NaN       5.320000      16.080000     NaN   \n",
       "25%       8000.000000         NaN      10.490000     250.330000     NaN   \n",
       "50%      12000.000000         NaN      13.330000     375.430000     NaN   \n",
       "75%      20000.000000         NaN      16.490000     567.300000     NaN   \n",
       "max      40000.000000         NaN      30.990000    1533.810000     NaN   \n",
       "\n",
       "       sub_grade emp_title emp_length home_ownership    annual_inc  ...  \\\n",
       "count     396030    373103     377729         396030  3.960300e+05  ...   \n",
       "unique        35    173105         11              6           NaN  ...   \n",
       "top           B3   Teacher  10+ years       MORTGAGE           NaN  ...   \n",
       "freq       26655      4389     126041         198348           NaN  ...   \n",
       "mean         NaN       NaN        NaN            NaN  7.420318e+04  ...   \n",
       "std          NaN       NaN        NaN            NaN  6.163762e+04  ...   \n",
       "min          NaN       NaN        NaN            NaN  0.000000e+00  ...   \n",
       "25%          NaN       NaN        NaN            NaN  4.500000e+04  ...   \n",
       "50%          NaN       NaN        NaN            NaN  6.400000e+04  ...   \n",
       "75%          NaN       NaN        NaN            NaN  9.000000e+04  ...   \n",
       "max          NaN       NaN        NaN            NaN  8.706582e+06  ...   \n",
       "\n",
       "             open_acc        pub_rec     revol_bal     revol_util  \\\n",
       "count   396030.000000  396030.000000  3.960300e+05  395754.000000   \n",
       "unique            NaN            NaN           NaN            NaN   \n",
       "top               NaN            NaN           NaN            NaN   \n",
       "freq              NaN            NaN           NaN            NaN   \n",
       "mean        11.311153       0.178191  1.584454e+04      53.791749   \n",
       "std          5.137649       0.530671  2.059184e+04      24.452193   \n",
       "min          0.000000       0.000000  0.000000e+00       0.000000   \n",
       "25%          8.000000       0.000000  6.025000e+03      35.800000   \n",
       "50%         10.000000       0.000000  1.118100e+04      54.800000   \n",
       "75%         14.000000       0.000000  1.962000e+04      72.900000   \n",
       "max         90.000000      86.000000  1.743266e+06     892.300000   \n",
       "\n",
       "            total_acc  initial_list_status application_type       mort_acc  \\\n",
       "count   396030.000000               396030           396030  358235.000000   \n",
       "unique            NaN                    2                3            NaN   \n",
       "top               NaN                    f       INDIVIDUAL            NaN   \n",
       "freq              NaN               238066           395319            NaN   \n",
       "mean        25.414744                  NaN              NaN       1.813991   \n",
       "std         11.886991                  NaN              NaN       2.147930   \n",
       "min          2.000000                  NaN              NaN       0.000000   \n",
       "25%         17.000000                  NaN              NaN       0.000000   \n",
       "50%         24.000000                  NaN              NaN       1.000000   \n",
       "75%         32.000000                  NaN              NaN       3.000000   \n",
       "max        151.000000                  NaN              NaN      34.000000   \n",
       "\n",
       "        pub_rec_bankruptcies                     address  \n",
       "count          395495.000000                      396030  \n",
       "unique                   NaN                      393700  \n",
       "top                      NaN  USNS Johnson\\nFPO AE 05113  \n",
       "freq                     NaN                           8  \n",
       "mean                0.121648                         NaN  \n",
       "std                 0.356174                         NaN  \n",
       "min                 0.000000                         NaN  \n",
       "25%                 0.000000                         NaN  \n",
       "50%                 0.000000                         NaN  \n",
       "75%                 0.000000                         NaN  \n",
       "max                 8.000000                         NaN  \n",
       "\n",
       "[11 rows x 27 columns]"
      ]
     },
     "execution_count": 170,
     "metadata": {},
     "output_type": "execute_result"
    }
   ],
   "source": [
    "df.describe(include=\"all\")"
   ]
  },
  {
   "cell_type": "code",
   "execution_count": 171,
   "id": "4b3bce3e",
   "metadata": {},
   "outputs": [
    {
     "data": {
      "text/plain": [
       "Index(['loan_amnt', 'term', 'int_rate', 'installment', 'grade', 'sub_grade',\n",
       "       'emp_title', 'emp_length', 'home_ownership', 'annual_inc',\n",
       "       'verification_status', 'issue_d', 'loan_status', 'purpose', 'title',\n",
       "       'dti', 'earliest_cr_line', 'open_acc', 'pub_rec', 'revol_bal',\n",
       "       'revol_util', 'total_acc', 'initial_list_status', 'application_type',\n",
       "       'mort_acc', 'pub_rec_bankruptcies', 'address'],\n",
       "      dtype='object')"
      ]
     },
     "execution_count": 171,
     "metadata": {},
     "output_type": "execute_result"
    }
   ],
   "source": [
    "df.columns"
   ]
  },
  {
   "cell_type": "markdown",
   "id": "28054571",
   "metadata": {},
   "source": [
    "## EXPLORATORY DATA ANALYSIS + VISUALIZATION"
   ]
  },
  {
   "cell_type": "markdown",
   "id": "541a2ff9",
   "metadata": {},
   "source": [
    "Creates a countplot of the different loan statuses. We can see that a vast majority of the loans are fully paid off. Thus, we will need a very accurate model, otherwise, simply predicting that every loan will be fully paid will outperform a poor model."
   ]
  },
  {
   "cell_type": "code",
   "execution_count": 172,
   "id": "c3a85d2f",
   "metadata": {},
   "outputs": [
    {
     "name": "stderr",
     "output_type": "stream",
     "text": [
      "C:\\Users\\anime\\anaconda3\\envs\\tensor\\lib\\site-packages\\seaborn\\_decorators.py:43: FutureWarning: Pass the following variable as a keyword arg: x. From version 0.12, the only valid positional argument will be `data`, and passing other arguments without an explicit keyword will result in an error or misinterpretation.\n",
      "  FutureWarning\n"
     ]
    },
    {
     "data": {
      "text/plain": [
       "<AxesSubplot:xlabel='loan_status', ylabel='count'>"
      ]
     },
     "execution_count": 172,
     "metadata": {},
     "output_type": "execute_result"
    },
    {
     "data": {
      "image/png": "[encoded data removed]",
      "text/plain": [
       "<Figure size 432x288 with 1 Axes>"
      ]
     },
     "metadata": {
      "needs_background": "light"
     },
     "output_type": "display_data"
    }
   ],
   "source": [
    "sns.countplot(df[\"loan_status\"])"
   ]
  },
  {
   "cell_type": "markdown",
   "id": "7fff87ac",
   "metadata": {},
   "source": [
    "Return the information about each column of the dataframe to see which columns have a data type of \"object\" and thus need to be feature engineered."
   ]
  },
  {
   "cell_type": "code",
   "execution_count": 173,
   "id": "f1a1e224",
   "metadata": {},
   "outputs": [
    {
     "name": "stdout",
     "output_type": "stream",
     "text": [
      "<class 'pandas.core.frame.DataFrame'>\n",
      "RangeIndex: 396030 entries, 0 to 396029\n",
      "Data columns (total 27 columns):\n",
      " #   Column                Non-Null Count   Dtype  \n",
      "---  ------                --------------   -----  \n",
      " 0   loan_amnt             396030 non-null  float64\n",
      " 1   term                  396030 non-null  object \n",
      " 2   int_rate              396030 non-null  float64\n",
      " 3   installment           396030 non-null  float64\n",
      " 4   grade                 396030 non-null  object \n",
      " 5   sub_grade             396030 non-null  object \n",
      " 6   emp_title             373103 non-null  object \n",
      " 7   emp_length            377729 non-null  object \n",
      " 8   home_ownership        396030 non-null  object \n",
      " 9   annual_inc            396030 non-null  float64\n",
      " 10  verification_status   396030 non-null  object \n",
      " 11  issue_d               396030 non-null  object \n",
      " 12  loan_status           396030 non-null  object \n",
      " 13  purpose               396030 non-null  object \n",
      " 14  title                 394275 non-null  object \n",
      " 15  dti                   396030 non-null  float64\n",
      " 16  earliest_cr_line      396030 non-null  object \n",
      " 17  open_acc              396030 non-null  float64\n",
      " 18  pub_rec               396030 non-null  float64\n",
      " 19  revol_bal             396030 non-null  float64\n",
      " 20  revol_util            395754 non-null  float64\n",
      " 21  total_acc             396030 non-null  float64\n",
      " 22  initial_list_status   396030 non-null  object \n",
      " 23  application_type      396030 non-null  object \n",
      " 24  mort_acc              358235 non-null  float64\n",
      " 25  pub_rec_bankruptcies  395495 non-null  float64\n",
      " 26  address               396030 non-null  object \n",
      "dtypes: float64(12), object(15)\n",
      "memory usage: 81.6+ MB\n"
     ]
    }
   ],
   "source": [
    "df.info()"
   ]
  },
  {
   "cell_type": "markdown",
   "id": "68374ceb",
   "metadata": {},
   "source": [
    "Accesses first 20 loan amount values to get an idea of format of variables, and general idea of the range of possible values. Histogram plot shows that a majority of the loans range from 0-2,000 dollars."
   ]
  },
  {
   "cell_type": "code",
   "execution_count": 174,
   "id": "bba65271",
   "metadata": {},
   "outputs": [
    {
     "data": {
      "text/plain": [
       "0     10000.0\n",
       "1      8000.0\n",
       "2     15600.0\n",
       "3      7200.0\n",
       "4     24375.0\n",
       "5     20000.0\n",
       "6     18000.0\n",
       "7     13000.0\n",
       "8     18900.0\n",
       "9     26300.0\n",
       "10    10000.0\n",
       "11    35000.0\n",
       "12     7500.0\n",
       "13    35000.0\n",
       "14    25975.0\n",
       "15    18000.0\n",
       "16    32350.0\n",
       "17    11200.0\n",
       "18    34000.0\n",
       "19    20000.0\n",
       "Name: loan_amnt, dtype: float64"
      ]
     },
     "execution_count": 174,
     "metadata": {},
     "output_type": "execute_result"
    }
   ],
   "source": [
    "df['loan_amnt'][0:20]"
   ]
  },
  {
   "cell_type": "code",
   "execution_count": 175,
   "id": "70f5b0e9",
   "metadata": {},
   "outputs": [
    {
     "name": "stderr",
     "output_type": "stream",
     "text": [
      "C:\\Users\\anime\\anaconda3\\envs\\tensor\\lib\\site-packages\\seaborn\\distributions.py:2619: FutureWarning: `distplot` is a deprecated function and will be removed in a future version. Please adapt your code to use either `displot` (a figure-level function with similar flexibility) or `histplot` (an axes-level function for histograms).\n",
      "  warnings.warn(msg, FutureWarning)\n"
     ]
    },
    {
     "data": {
      "text/plain": [
       "<AxesSubplot:ylabel='Density'>"
      ]
     },
     "execution_count": 175,
     "metadata": {},
     "output_type": "execute_result"
    },
    {
     "data": {
      "image/png": "[encoded data removed]",
      "text/plain": [
       "<Figure size 432x288 with 1 Axes>"
      ]
     },
     "metadata": {
      "needs_background": "light"
     },
     "output_type": "display_data"
    }
   ],
   "source": [
    "sns.distplot(x=df['loan_amnt'], kde = True)"
   ]
  },
  {
   "cell_type": "markdown",
   "id": "723fb63c",
   "metadata": {},
   "source": [
    "Creates a boxplot which shows how the interest rate affects the status of the loan, we can see that loans which are not paid off typically have higher interest rates as opposed to those which are paid off."
   ]
  },
  {
   "cell_type": "code",
   "execution_count": 176,
   "id": "4312d132",
   "metadata": {},
   "outputs": [
    {
     "data": {
      "text/plain": [
       "<AxesSubplot:xlabel='loan_status', ylabel='int_rate'>"
      ]
     },
     "execution_count": 176,
     "metadata": {},
     "output_type": "execute_result"
    },
    {
     "data": {
      "image/png": "[encoded data removed]",
      "text/plain": [
       "<Figure size 432x288 with 1 Axes>"
      ]
     },
     "metadata": {
      "needs_background": "light"
     },
     "output_type": "display_data"
    }
   ],
   "source": [
    "sns.boxplot(x='loan_status', y='int_rate', data=df)"
   ]
  },
  {
   "cell_type": "markdown",
   "id": "5a572a73",
   "metadata": {},
   "source": [
    "Box plot which shows the difference between the distribution of loan amound depending on the loan status. This graph tells us that loans which are not paid off tend to have higher amounts."
   ]
  },
  {
   "cell_type": "code",
   "execution_count": 177,
   "id": "147c1840",
   "metadata": {},
   "outputs": [
    {
     "data": {
      "text/plain": [
       "<AxesSubplot:xlabel='loan_status', ylabel='loan_amnt'>"
      ]
     },
     "execution_count": 177,
     "metadata": {},
     "output_type": "execute_result"
    },
    {
     "data": {
      "image/png": "[encoded data removed]",
      "text/plain": [
       "<Figure size 432x288 with 1 Axes>"
      ]
     },
     "metadata": {
      "needs_background": "light"
     },
     "output_type": "display_data"
    }
   ],
   "source": [
    "sns.boxplot(x=\"loan_status\", y=\"loan_amnt\", data=df)"
   ]
  },
  {
   "cell_type": "code",
   "execution_count": 178,
   "id": "a5afc539",
   "metadata": {},
   "outputs": [
    {
     "name": "stdout",
     "output_type": "stream",
     "text": [
      "<class 'pandas.core.frame.DataFrame'>\n",
      "RangeIndex: 396030 entries, 0 to 396029\n",
      "Data columns (total 27 columns):\n",
      " #   Column                Non-Null Count   Dtype  \n",
      "---  ------                --------------   -----  \n",
      " 0   loan_amnt             396030 non-null  float64\n",
      " 1   term                  396030 non-null  object \n",
      " 2   int_rate              396030 non-null  float64\n",
      " 3   installment           396030 non-null  float64\n",
      " 4   grade                 396030 non-null  object \n",
      " 5   sub_grade             396030 non-null  object \n",
      " 6   emp_title             373103 non-null  object \n",
      " 7   emp_length            377729 non-null  object \n",
      " 8   home_ownership        396030 non-null  object \n",
      " 9   annual_inc            396030 non-null  float64\n",
      " 10  verification_status   396030 non-null  object \n",
      " 11  issue_d               396030 non-null  object \n",
      " 12  loan_status           396030 non-null  object \n",
      " 13  purpose               396030 non-null  object \n",
      " 14  title                 394275 non-null  object \n",
      " 15  dti                   396030 non-null  float64\n",
      " 16  earliest_cr_line      396030 non-null  object \n",
      " 17  open_acc              396030 non-null  float64\n",
      " 18  pub_rec               396030 non-null  float64\n",
      " 19  revol_bal             396030 non-null  float64\n",
      " 20  revol_util            395754 non-null  float64\n",
      " 21  total_acc             396030 non-null  float64\n",
      " 22  initial_list_status   396030 non-null  object \n",
      " 23  application_type      396030 non-null  object \n",
      " 24  mort_acc              358235 non-null  float64\n",
      " 25  pub_rec_bankruptcies  395495 non-null  float64\n",
      " 26  address               396030 non-null  object \n",
      "dtypes: float64(12), object(15)\n",
      "memory usage: 81.6+ MB\n"
     ]
    }
   ],
   "source": [
    "df.info()"
   ]
  },
  {
   "cell_type": "code",
   "execution_count": 179,
   "id": "996f6742",
   "metadata": {},
   "outputs": [
    {
     "data": {
      "text/plain": [
       " 36 months    302005\n",
       " 60 months     94025\n",
       "Name: term, dtype: int64"
      ]
     },
     "execution_count": 179,
     "metadata": {},
     "output_type": "execute_result"
    }
   ],
   "source": [
    "df['term'].value_counts()"
   ]
  },
  {
   "cell_type": "markdown",
   "id": "e7659a43",
   "metadata": {},
   "source": [
    "Below is a countplot which shows how many loans are on a 36 month and 60 month term, respectively. It also shows what the ratio of fully paid 60 month loans to fully paid 30 month loans. From this plot, we can see that a higher percentage of 60 month loans fail compared to 30 month loan. Therefore, this column will be a useful feature, and getting therefore, dummy variables are generated."
   ]
  },
  {
   "cell_type": "code",
   "execution_count": 180,
   "id": "c213d338",
   "metadata": {},
   "outputs": [
    {
     "name": "stderr",
     "output_type": "stream",
     "text": [
      "C:\\Users\\anime\\anaconda3\\envs\\tensor\\lib\\site-packages\\seaborn\\_decorators.py:43: FutureWarning: Pass the following variable as a keyword arg: x. From version 0.12, the only valid positional argument will be `data`, and passing other arguments without an explicit keyword will result in an error or misinterpretation.\n",
      "  FutureWarning\n"
     ]
    },
    {
     "data": {
      "text/plain": [
       "<AxesSubplot:xlabel='loan_status', ylabel='count'>"
      ]
     },
     "execution_count": 180,
     "metadata": {},
     "output_type": "execute_result"
    },
    {
     "data": {
      "image/png": "[encoded data removed]",
      "text/plain": [
       "<Figure size 432x288 with 1 Axes>"
      ]
     },
     "metadata": {
      "needs_background": "light"
     },
     "output_type": "display_data"
    }
   ],
   "source": [
    "sns.countplot(df['loan_status'], hue = df['term'])"
   ]
  },
  {
   "cell_type": "code",
   "execution_count": 181,
   "id": "5498e776",
   "metadata": {},
   "outputs": [],
   "source": [
    "df = pd.get_dummies(df, columns=['term'], drop_first = True)"
   ]
  },
  {
   "cell_type": "code",
   "execution_count": 182,
   "id": "d474f52f",
   "metadata": {},
   "outputs": [
    {
     "name": "stdout",
     "output_type": "stream",
     "text": [
      "<class 'pandas.core.frame.DataFrame'>\n",
      "RangeIndex: 396030 entries, 0 to 396029\n",
      "Data columns (total 27 columns):\n",
      " #   Column                Non-Null Count   Dtype  \n",
      "---  ------                --------------   -----  \n",
      " 0   loan_amnt             396030 non-null  float64\n",
      " 1   int_rate              396030 non-null  float64\n",
      " 2   installment           396030 non-null  float64\n",
      " 3   grade                 396030 non-null  object \n",
      " 4   sub_grade             396030 non-null  object \n",
      " 5   emp_title             373103 non-null  object \n",
      " 6   emp_length            377729 non-null  object \n",
      " 7   home_ownership        396030 non-null  object \n",
      " 8   annual_inc            396030 non-null  float64\n",
      " 9   verification_status   396030 non-null  object \n",
      " 10  issue_d               396030 non-null  object \n",
      " 11  loan_status           396030 non-null  object \n",
      " 12  purpose               396030 non-null  object \n",
      " 13  title                 394275 non-null  object \n",
      " 14  dti                   396030 non-null  float64\n",
      " 15  earliest_cr_line      396030 non-null  object \n",
      " 16  open_acc              396030 non-null  float64\n",
      " 17  pub_rec               396030 non-null  float64\n",
      " 18  revol_bal             396030 non-null  float64\n",
      " 19  revol_util            395754 non-null  float64\n",
      " 20  total_acc             396030 non-null  float64\n",
      " 21  initial_list_status   396030 non-null  object \n",
      " 22  application_type      396030 non-null  object \n",
      " 23  mort_acc              358235 non-null  float64\n",
      " 24  pub_rec_bankruptcies  395495 non-null  float64\n",
      " 25  address               396030 non-null  object \n",
      " 26  term_ 60 months       396030 non-null  uint8  \n",
      "dtypes: float64(12), object(14), uint8(1)\n",
      "memory usage: 78.9+ MB\n"
     ]
    }
   ],
   "source": [
    "df.info()"
   ]
  },
  {
   "cell_type": "code",
   "execution_count": 183,
   "id": "6b7055ef",
   "metadata": {},
   "outputs": [
    {
     "data": {
      "text/plain": [
       "<bound method Series.unique of 0         329.48\n",
       "1         265.68\n",
       "2         506.97\n",
       "3         220.65\n",
       "4         609.33\n",
       "           ...  \n",
       "396025    217.38\n",
       "396026    700.42\n",
       "396027    161.32\n",
       "396028    503.02\n",
       "396029     67.98\n",
       "Name: installment, Length: 396030, dtype: float64>"
      ]
     },
     "execution_count": 183,
     "metadata": {},
     "output_type": "execute_result"
    }
   ],
   "source": [
    "df['installment'].unique"
   ]
  },
  {
   "cell_type": "code",
   "execution_count": 184,
   "id": "d01efe8e",
   "metadata": {},
   "outputs": [
    {
     "data": {
      "text/html": [
       "<div>\n",
       "<style scoped>\n",
       "    .dataframe tbody tr th:only-of-type {\n",
       "        vertical-align: middle;\n",
       "    }\n",
       "\n",
       "    .dataframe tbody tr th {\n",
       "        vertical-align: top;\n",
       "    }\n",
       "\n",
       "    .dataframe thead th {\n",
       "        text-align: right;\n",
       "    }\n",
       "</style>\n",
       "<table border=\"1\" class=\"dataframe\">\n",
       "  <thead>\n",
       "    <tr style=\"text-align: right;\">\n",
       "      <th></th>\n",
       "      <th>Description</th>\n",
       "    </tr>\n",
       "    <tr>\n",
       "      <th>LoanStatNew</th>\n",
       "      <th></th>\n",
       "    </tr>\n",
       "  </thead>\n",
       "  <tbody>\n",
       "    <tr>\n",
       "      <th>loan_amnt</th>\n",
       "      <td>The listed amount of the loan applied for by t...</td>\n",
       "    </tr>\n",
       "    <tr>\n",
       "      <th>term</th>\n",
       "      <td>The number of payments on the loan. Values are...</td>\n",
       "    </tr>\n",
       "    <tr>\n",
       "      <th>int_rate</th>\n",
       "      <td>Interest Rate on the loan</td>\n",
       "    </tr>\n",
       "    <tr>\n",
       "      <th>installment</th>\n",
       "      <td>The monthly payment owed by the borrower if th...</td>\n",
       "    </tr>\n",
       "    <tr>\n",
       "      <th>grade</th>\n",
       "      <td>LC assigned loan grade</td>\n",
       "    </tr>\n",
       "    <tr>\n",
       "      <th>sub_grade</th>\n",
       "      <td>LC assigned loan subgrade</td>\n",
       "    </tr>\n",
       "    <tr>\n",
       "      <th>emp_title</th>\n",
       "      <td>The job title supplied by the Borrower when ap...</td>\n",
       "    </tr>\n",
       "    <tr>\n",
       "      <th>emp_length</th>\n",
       "      <td>Employment length in years. Possible values ar...</td>\n",
       "    </tr>\n",
       "    <tr>\n",
       "      <th>home_ownership</th>\n",
       "      <td>The home ownership status provided by the borr...</td>\n",
       "    </tr>\n",
       "    <tr>\n",
       "      <th>annual_inc</th>\n",
       "      <td>The self-reported annual income provided by th...</td>\n",
       "    </tr>\n",
       "    <tr>\n",
       "      <th>verification_status</th>\n",
       "      <td>Indicates if income was verified by LC, not ve...</td>\n",
       "    </tr>\n",
       "    <tr>\n",
       "      <th>issue_d</th>\n",
       "      <td>The month which the loan was funded</td>\n",
       "    </tr>\n",
       "    <tr>\n",
       "      <th>loan_status</th>\n",
       "      <td>Current status of the loan</td>\n",
       "    </tr>\n",
       "    <tr>\n",
       "      <th>purpose</th>\n",
       "      <td>A category provided by the borrower for the lo...</td>\n",
       "    </tr>\n",
       "    <tr>\n",
       "      <th>title</th>\n",
       "      <td>The loan title provided by the borrower</td>\n",
       "    </tr>\n",
       "    <tr>\n",
       "      <th>zip_code</th>\n",
       "      <td>The first 3 numbers of the zip code provided b...</td>\n",
       "    </tr>\n",
       "    <tr>\n",
       "      <th>addr_state</th>\n",
       "      <td>The state provided by the borrower in the loan...</td>\n",
       "    </tr>\n",
       "    <tr>\n",
       "      <th>dti</th>\n",
       "      <td>A ratio calculated using the borrower’s total ...</td>\n",
       "    </tr>\n",
       "    <tr>\n",
       "      <th>earliest_cr_line</th>\n",
       "      <td>The month the borrower's earliest reported cre...</td>\n",
       "    </tr>\n",
       "    <tr>\n",
       "      <th>open_acc</th>\n",
       "      <td>The number of open credit lines in the borrowe...</td>\n",
       "    </tr>\n",
       "    <tr>\n",
       "      <th>pub_rec</th>\n",
       "      <td>Number of derogatory public records</td>\n",
       "    </tr>\n",
       "    <tr>\n",
       "      <th>revol_bal</th>\n",
       "      <td>Total credit revolving balance</td>\n",
       "    </tr>\n",
       "    <tr>\n",
       "      <th>revol_util</th>\n",
       "      <td>Revolving line utilization rate, or the amount...</td>\n",
       "    </tr>\n",
       "    <tr>\n",
       "      <th>total_acc</th>\n",
       "      <td>The total number of credit lines currently in ...</td>\n",
       "    </tr>\n",
       "    <tr>\n",
       "      <th>initial_list_status</th>\n",
       "      <td>The initial listing status of the loan. Possib...</td>\n",
       "    </tr>\n",
       "    <tr>\n",
       "      <th>application_type</th>\n",
       "      <td>Indicates whether the loan is an individual ap...</td>\n",
       "    </tr>\n",
       "    <tr>\n",
       "      <th>mort_acc</th>\n",
       "      <td>Number of mortgage accounts.</td>\n",
       "    </tr>\n",
       "    <tr>\n",
       "      <th>pub_rec_bankruptcies</th>\n",
       "      <td>Number of public record bankruptcies</td>\n",
       "    </tr>\n",
       "  </tbody>\n",
       "</table>\n",
       "</div>"
      ],
      "text/plain": [
       "                                                            Description\n",
       "LoanStatNew                                                            \n",
       "loan_amnt             The listed amount of the loan applied for by t...\n",
       "term                  The number of payments on the loan. Values are...\n",
       "int_rate                                      Interest Rate on the loan\n",
       "installment           The monthly payment owed by the borrower if th...\n",
       "grade                                            LC assigned loan grade\n",
       "sub_grade                                     LC assigned loan subgrade\n",
       "emp_title             The job title supplied by the Borrower when ap...\n",
       "emp_length            Employment length in years. Possible values ar...\n",
       "home_ownership        The home ownership status provided by the borr...\n",
       "annual_inc            The self-reported annual income provided by th...\n",
       "verification_status   Indicates if income was verified by LC, not ve...\n",
       "issue_d                             The month which the loan was funded\n",
       "loan_status                                  Current status of the loan\n",
       "purpose               A category provided by the borrower for the lo...\n",
       "title                           The loan title provided by the borrower\n",
       "zip_code              The first 3 numbers of the zip code provided b...\n",
       "addr_state            The state provided by the borrower in the loan...\n",
       "dti                   A ratio calculated using the borrower’s total ...\n",
       "earliest_cr_line      The month the borrower's earliest reported cre...\n",
       "open_acc              The number of open credit lines in the borrowe...\n",
       "pub_rec                             Number of derogatory public records\n",
       "revol_bal                                Total credit revolving balance\n",
       "revol_util            Revolving line utilization rate, or the amount...\n",
       "total_acc             The total number of credit lines currently in ...\n",
       "initial_list_status   The initial listing status of the loan. Possib...\n",
       "application_type      Indicates whether the loan is an individual ap...\n",
       "mort_acc                                   Number of mortgage accounts.\n",
       "pub_rec_bankruptcies               Number of public record bankruptcies"
      ]
     },
     "execution_count": 184,
     "metadata": {},
     "output_type": "execute_result"
    }
   ],
   "source": [
    "data"
   ]
  },
  {
   "cell_type": "code",
   "execution_count": 185,
   "id": "82c1f3fa",
   "metadata": {},
   "outputs": [
    {
     "data": {
      "text/plain": [
       "Index(['Description'], dtype='object')"
      ]
     },
     "execution_count": 185,
     "metadata": {},
     "output_type": "execute_result"
    }
   ],
   "source": [
    "data.columns"
   ]
  },
  {
   "cell_type": "code",
   "execution_count": 186,
   "id": "8b6e72cf",
   "metadata": {},
   "outputs": [
    {
     "name": "stdout",
     "output_type": "stream",
     "text": [
      "<pandas.core.indexing._iLocIndexer object at 0x000001DA8D698278>\n"
     ]
    }
   ],
   "source": [
    "print(data.iloc(0))"
   ]
  },
  {
   "cell_type": "code",
   "execution_count": 187,
   "id": "ec133673",
   "metadata": {},
   "outputs": [
    {
     "data": {
      "text/plain": [
       "{}"
      ]
     },
     "execution_count": 187,
     "metadata": {},
     "output_type": "execute_result"
    }
   ],
   "source": [
    "data.attrs"
   ]
  },
  {
   "cell_type": "code",
   "execution_count": 188,
   "id": "b9ef6021",
   "metadata": {},
   "outputs": [
    {
     "data": {
      "text/html": [
       "<div>\n",
       "<style scoped>\n",
       "    .dataframe tbody tr th:only-of-type {\n",
       "        vertical-align: middle;\n",
       "    }\n",
       "\n",
       "    .dataframe tbody tr th {\n",
       "        vertical-align: top;\n",
       "    }\n",
       "\n",
       "    .dataframe thead th {\n",
       "        text-align: right;\n",
       "    }\n",
       "</style>\n",
       "<table border=\"1\" class=\"dataframe\">\n",
       "  <thead>\n",
       "    <tr style=\"text-align: right;\">\n",
       "      <th></th>\n",
       "      <th>Description</th>\n",
       "    </tr>\n",
       "    <tr>\n",
       "      <th>LoanStatNew</th>\n",
       "      <th></th>\n",
       "    </tr>\n",
       "  </thead>\n",
       "  <tbody>\n",
       "    <tr>\n",
       "      <th>loan_amnt</th>\n",
       "      <td>The listed amount of the loan applied for by t...</td>\n",
       "    </tr>\n",
       "    <tr>\n",
       "      <th>term</th>\n",
       "      <td>The number of payments on the loan. Values are...</td>\n",
       "    </tr>\n",
       "    <tr>\n",
       "      <th>int_rate</th>\n",
       "      <td>Interest Rate on the loan</td>\n",
       "    </tr>\n",
       "    <tr>\n",
       "      <th>installment</th>\n",
       "      <td>The monthly payment owed by the borrower if th...</td>\n",
       "    </tr>\n",
       "    <tr>\n",
       "      <th>grade</th>\n",
       "      <td>LC assigned loan grade</td>\n",
       "    </tr>\n",
       "  </tbody>\n",
       "</table>\n",
       "</div>"
      ],
      "text/plain": [
       "                                                   Description\n",
       "LoanStatNew                                                   \n",
       "loan_amnt    The listed amount of the loan applied for by t...\n",
       "term         The number of payments on the loan. Values are...\n",
       "int_rate                             Interest Rate on the loan\n",
       "installment  The monthly payment owed by the borrower if th...\n",
       "grade                                   LC assigned loan grade"
      ]
     },
     "execution_count": 188,
     "metadata": {},
     "output_type": "execute_result"
    }
   ],
   "source": [
    "data.head()"
   ]
  },
  {
   "cell_type": "code",
   "execution_count": 189,
   "id": "23bdba4b",
   "metadata": {},
   "outputs": [
    {
     "data": {
      "text/plain": [
       "array(['The monthly payment owed by the borrower if the loan originates.'],\n",
       "      dtype=object)"
      ]
     },
     "execution_count": 189,
     "metadata": {},
     "output_type": "execute_result"
    }
   ],
   "source": [
    "data.to_numpy()[3]"
   ]
  },
  {
   "cell_type": "markdown",
   "id": "f6d98a5f",
   "metadata": {},
   "source": [
    "The boxplot below shows that the distribution of monthly installments for failed loans is higher than the distribution for paid loans. "
   ]
  },
  {
   "cell_type": "code",
   "execution_count": 190,
   "id": "50f82831",
   "metadata": {
    "scrolled": true
   },
   "outputs": [
    {
     "data": {
      "text/plain": [
       "<AxesSubplot:xlabel='loan_status', ylabel='installment'>"
      ]
     },
     "execution_count": 190,
     "metadata": {},
     "output_type": "execute_result"
    },
    {
     "data": {
      "image/png": "[encoded data removed]",
      "text/plain": [
       "<Figure size 432x288 with 1 Axes>"
      ]
     },
     "metadata": {
      "needs_background": "light"
     },
     "output_type": "display_data"
    }
   ],
   "source": [
    "sns.boxplot(y=df['installment'], x=df['loan_status'])"
   ]
  },
  {
   "cell_type": "code",
   "execution_count": 191,
   "id": "bf3b520a",
   "metadata": {},
   "outputs": [
    {
     "data": {
      "text/html": [
       "<div>\n",
       "<style scoped>\n",
       "    .dataframe tbody tr th:only-of-type {\n",
       "        vertical-align: middle;\n",
       "    }\n",
       "\n",
       "    .dataframe tbody tr th {\n",
       "        vertical-align: top;\n",
       "    }\n",
       "\n",
       "    .dataframe thead th {\n",
       "        text-align: right;\n",
       "    }\n",
       "</style>\n",
       "<table border=\"1\" class=\"dataframe\">\n",
       "  <thead>\n",
       "    <tr style=\"text-align: right;\">\n",
       "      <th></th>\n",
       "      <th>loan_amnt</th>\n",
       "      <th>int_rate</th>\n",
       "      <th>installment</th>\n",
       "      <th>annual_inc</th>\n",
       "      <th>dti</th>\n",
       "      <th>open_acc</th>\n",
       "      <th>pub_rec</th>\n",
       "      <th>revol_bal</th>\n",
       "      <th>revol_util</th>\n",
       "      <th>total_acc</th>\n",
       "      <th>mort_acc</th>\n",
       "      <th>pub_rec_bankruptcies</th>\n",
       "      <th>term_ 60 months</th>\n",
       "    </tr>\n",
       "  </thead>\n",
       "  <tbody>\n",
       "    <tr>\n",
       "      <th>loan_amnt</th>\n",
       "      <td>1.000000</td>\n",
       "      <td>0.168921</td>\n",
       "      <td>0.953929</td>\n",
       "      <td>0.336887</td>\n",
       "      <td>0.016636</td>\n",
       "      <td>0.198556</td>\n",
       "      <td>-0.077779</td>\n",
       "      <td>0.328320</td>\n",
       "      <td>0.099911</td>\n",
       "      <td>0.223886</td>\n",
       "      <td>0.222315</td>\n",
       "      <td>-0.106539</td>\n",
       "      <td>0.393862</td>\n",
       "    </tr>\n",
       "    <tr>\n",
       "      <th>int_rate</th>\n",
       "      <td>0.168921</td>\n",
       "      <td>1.000000</td>\n",
       "      <td>0.162758</td>\n",
       "      <td>-0.056771</td>\n",
       "      <td>0.079038</td>\n",
       "      <td>0.011649</td>\n",
       "      <td>0.060986</td>\n",
       "      <td>-0.011280</td>\n",
       "      <td>0.293659</td>\n",
       "      <td>-0.036404</td>\n",
       "      <td>-0.082583</td>\n",
       "      <td>0.057450</td>\n",
       "      <td>0.434594</td>\n",
       "    </tr>\n",
       "    <tr>\n",
       "      <th>installment</th>\n",
       "      <td>0.953929</td>\n",
       "      <td>0.162758</td>\n",
       "      <td>1.000000</td>\n",
       "      <td>0.330381</td>\n",
       "      <td>0.015786</td>\n",
       "      <td>0.188973</td>\n",
       "      <td>-0.067892</td>\n",
       "      <td>0.316455</td>\n",
       "      <td>0.123915</td>\n",
       "      <td>0.202430</td>\n",
       "      <td>0.193694</td>\n",
       "      <td>-0.098628</td>\n",
       "      <td>0.153378</td>\n",
       "    </tr>\n",
       "    <tr>\n",
       "      <th>annual_inc</th>\n",
       "      <td>0.336887</td>\n",
       "      <td>-0.056771</td>\n",
       "      <td>0.330381</td>\n",
       "      <td>1.000000</td>\n",
       "      <td>-0.081685</td>\n",
       "      <td>0.136150</td>\n",
       "      <td>-0.013720</td>\n",
       "      <td>0.299773</td>\n",
       "      <td>0.027871</td>\n",
       "      <td>0.193023</td>\n",
       "      <td>0.236320</td>\n",
       "      <td>-0.050162</td>\n",
       "      <td>0.060330</td>\n",
       "    </tr>\n",
       "    <tr>\n",
       "      <th>dti</th>\n",
       "      <td>0.016636</td>\n",
       "      <td>0.079038</td>\n",
       "      <td>0.015786</td>\n",
       "      <td>-0.081685</td>\n",
       "      <td>1.000000</td>\n",
       "      <td>0.136181</td>\n",
       "      <td>-0.017639</td>\n",
       "      <td>0.063571</td>\n",
       "      <td>0.088375</td>\n",
       "      <td>0.102128</td>\n",
       "      <td>-0.025439</td>\n",
       "      <td>-0.014558</td>\n",
       "      <td>0.036508</td>\n",
       "    </tr>\n",
       "    <tr>\n",
       "      <th>open_acc</th>\n",
       "      <td>0.198556</td>\n",
       "      <td>0.011649</td>\n",
       "      <td>0.188973</td>\n",
       "      <td>0.136150</td>\n",
       "      <td>0.136181</td>\n",
       "      <td>1.000000</td>\n",
       "      <td>-0.018392</td>\n",
       "      <td>0.221192</td>\n",
       "      <td>-0.131420</td>\n",
       "      <td>0.680728</td>\n",
       "      <td>0.109205</td>\n",
       "      <td>-0.027732</td>\n",
       "      <td>0.079575</td>\n",
       "    </tr>\n",
       "    <tr>\n",
       "      <th>pub_rec</th>\n",
       "      <td>-0.077779</td>\n",
       "      <td>0.060986</td>\n",
       "      <td>-0.067892</td>\n",
       "      <td>-0.013720</td>\n",
       "      <td>-0.017639</td>\n",
       "      <td>-0.018392</td>\n",
       "      <td>1.000000</td>\n",
       "      <td>-0.101664</td>\n",
       "      <td>-0.075910</td>\n",
       "      <td>0.019723</td>\n",
       "      <td>0.011552</td>\n",
       "      <td>0.699408</td>\n",
       "      <td>-0.018758</td>\n",
       "    </tr>\n",
       "    <tr>\n",
       "      <th>revol_bal</th>\n",
       "      <td>0.328320</td>\n",
       "      <td>-0.011280</td>\n",
       "      <td>0.316455</td>\n",
       "      <td>0.299773</td>\n",
       "      <td>0.063571</td>\n",
       "      <td>0.221192</td>\n",
       "      <td>-0.101664</td>\n",
       "      <td>1.000000</td>\n",
       "      <td>0.226346</td>\n",
       "      <td>0.191616</td>\n",
       "      <td>0.194925</td>\n",
       "      <td>-0.124532</td>\n",
       "      <td>0.084787</td>\n",
       "    </tr>\n",
       "    <tr>\n",
       "      <th>revol_util</th>\n",
       "      <td>0.099911</td>\n",
       "      <td>0.293659</td>\n",
       "      <td>0.123915</td>\n",
       "      <td>0.027871</td>\n",
       "      <td>0.088375</td>\n",
       "      <td>-0.131420</td>\n",
       "      <td>-0.075910</td>\n",
       "      <td>0.226346</td>\n",
       "      <td>1.000000</td>\n",
       "      <td>-0.104273</td>\n",
       "      <td>0.007514</td>\n",
       "      <td>-0.086751</td>\n",
       "      <td>0.055166</td>\n",
       "    </tr>\n",
       "    <tr>\n",
       "      <th>total_acc</th>\n",
       "      <td>0.223886</td>\n",
       "      <td>-0.036404</td>\n",
       "      <td>0.202430</td>\n",
       "      <td>0.193023</td>\n",
       "      <td>0.102128</td>\n",
       "      <td>0.680728</td>\n",
       "      <td>0.019723</td>\n",
       "      <td>0.191616</td>\n",
       "      <td>-0.104273</td>\n",
       "      <td>1.000000</td>\n",
       "      <td>0.381072</td>\n",
       "      <td>0.042035</td>\n",
       "      <td>0.101346</td>\n",
       "    </tr>\n",
       "    <tr>\n",
       "      <th>mort_acc</th>\n",
       "      <td>0.222315</td>\n",
       "      <td>-0.082583</td>\n",
       "      <td>0.193694</td>\n",
       "      <td>0.236320</td>\n",
       "      <td>-0.025439</td>\n",
       "      <td>0.109205</td>\n",
       "      <td>0.011552</td>\n",
       "      <td>0.194925</td>\n",
       "      <td>0.007514</td>\n",
       "      <td>0.381072</td>\n",
       "      <td>1.000000</td>\n",
       "      <td>0.027239</td>\n",
       "      <td>0.096220</td>\n",
       "    </tr>\n",
       "    <tr>\n",
       "      <th>pub_rec_bankruptcies</th>\n",
       "      <td>-0.106539</td>\n",
       "      <td>0.057450</td>\n",
       "      <td>-0.098628</td>\n",
       "      <td>-0.050162</td>\n",
       "      <td>-0.014558</td>\n",
       "      <td>-0.027732</td>\n",
       "      <td>0.699408</td>\n",
       "      <td>-0.124532</td>\n",
       "      <td>-0.086751</td>\n",
       "      <td>0.042035</td>\n",
       "      <td>0.027239</td>\n",
       "      <td>1.000000</td>\n",
       "      <td>-0.019826</td>\n",
       "    </tr>\n",
       "    <tr>\n",
       "      <th>term_ 60 months</th>\n",
       "      <td>0.393862</td>\n",
       "      <td>0.434594</td>\n",
       "      <td>0.153378</td>\n",
       "      <td>0.060330</td>\n",
       "      <td>0.036508</td>\n",
       "      <td>0.079575</td>\n",
       "      <td>-0.018758</td>\n",
       "      <td>0.084787</td>\n",
       "      <td>0.055166</td>\n",
       "      <td>0.101346</td>\n",
       "      <td>0.096220</td>\n",
       "      <td>-0.019826</td>\n",
       "      <td>1.000000</td>\n",
       "    </tr>\n",
       "  </tbody>\n",
       "</table>\n",
       "</div>"
      ],
      "text/plain": [
       "                      loan_amnt  int_rate  installment  annual_inc       dti  \\\n",
       "loan_amnt              1.000000  0.168921     0.953929    0.336887  0.016636   \n",
       "int_rate               0.168921  1.000000     0.162758   -0.056771  0.079038   \n",
       "installment            0.953929  0.162758     1.000000    0.330381  0.015786   \n",
       "annual_inc             0.336887 -0.056771     0.330381    1.000000 -0.081685   \n",
       "dti                    0.016636  0.079038     0.015786   -0.081685  1.000000   \n",
       "open_acc               0.198556  0.011649     0.188973    0.136150  0.136181   \n",
       "pub_rec               -0.077779  0.060986    -0.067892   -0.013720 -0.017639   \n",
       "revol_bal              0.328320 -0.011280     0.316455    0.299773  0.063571   \n",
       "revol_util             0.099911  0.293659     0.123915    0.027871  0.088375   \n",
       "total_acc              0.223886 -0.036404     0.202430    0.193023  0.102128   \n",
       "mort_acc               0.222315 -0.082583     0.193694    0.236320 -0.025439   \n",
       "pub_rec_bankruptcies  -0.106539  0.057450    -0.098628   -0.050162 -0.014558   \n",
       "term_ 60 months        0.393862  0.434594     0.153378    0.060330  0.036508   \n",
       "\n",
       "                      open_acc   pub_rec  revol_bal  revol_util  total_acc  \\\n",
       "loan_amnt             0.198556 -0.077779   0.328320    0.099911   0.223886   \n",
       "int_rate              0.011649  0.060986  -0.011280    0.293659  -0.036404   \n",
       "installment           0.188973 -0.067892   0.316455    0.123915   0.202430   \n",
       "annual_inc            0.136150 -0.013720   0.299773    0.027871   0.193023   \n",
       "dti                   0.136181 -0.017639   0.063571    0.088375   0.102128   \n",
       "open_acc              1.000000 -0.018392   0.221192   -0.131420   0.680728   \n",
       "pub_rec              -0.018392  1.000000  -0.101664   -0.075910   0.019723   \n",
       "revol_bal             0.221192 -0.101664   1.000000    0.226346   0.191616   \n",
       "revol_util           -0.131420 -0.075910   0.226346    1.000000  -0.104273   \n",
       "total_acc             0.680728  0.019723   0.191616   -0.104273   1.000000   \n",
       "mort_acc              0.109205  0.011552   0.194925    0.007514   0.381072   \n",
       "pub_rec_bankruptcies -0.027732  0.699408  -0.124532   -0.086751   0.042035   \n",
       "term_ 60 months       0.079575 -0.018758   0.084787    0.055166   0.101346   \n",
       "\n",
       "                      mort_acc  pub_rec_bankruptcies  term_ 60 months  \n",
       "loan_amnt             0.222315             -0.106539         0.393862  \n",
       "int_rate             -0.082583              0.057450         0.434594  \n",
       "installment           0.193694             -0.098628         0.153378  \n",
       "annual_inc            0.236320             -0.050162         0.060330  \n",
       "dti                  -0.025439             -0.014558         0.036508  \n",
       "open_acc              0.109205             -0.027732         0.079575  \n",
       "pub_rec               0.011552              0.699408        -0.018758  \n",
       "revol_bal             0.194925             -0.124532         0.084787  \n",
       "revol_util            0.007514             -0.086751         0.055166  \n",
       "total_acc             0.381072              0.042035         0.101346  \n",
       "mort_acc              1.000000              0.027239         0.096220  \n",
       "pub_rec_bankruptcies  0.027239              1.000000        -0.019826  \n",
       "term_ 60 months       0.096220             -0.019826         1.000000  "
      ]
     },
     "execution_count": 191,
     "metadata": {},
     "output_type": "execute_result"
    }
   ],
   "source": [
    "df.corr()"
   ]
  },
  {
   "cell_type": "markdown",
   "id": "ea55691c",
   "metadata": {},
   "source": [
    "Heatmap which shows the correlation of all categorical columns in the dataset with one another."
   ]
  },
  {
   "cell_type": "code",
   "execution_count": 192,
   "id": "3ba00b44",
   "metadata": {},
   "outputs": [
    {
     "data": {
      "text/plain": [
       "<AxesSubplot:>"
      ]
     },
     "execution_count": 192,
     "metadata": {},
     "output_type": "execute_result"
    },
    {
     "data": {
      "image/png": "[encoded data removed]",
      "text/plain": [
       "<Figure size 864x864 with 2 Axes>"
      ]
     },
     "metadata": {
      "needs_background": "light"
     },
     "output_type": "display_data"
    }
   ],
   "source": [
    "plt.figure(figsize = (12,12))\n",
    "sns.heatmap(df.corr())"
   ]
  },
  {
   "cell_type": "code",
   "execution_count": 193,
   "id": "e0812f85",
   "metadata": {},
   "outputs": [
    {
     "name": "stdout",
     "output_type": "stream",
     "text": [
      "<class 'pandas.core.frame.DataFrame'>\n",
      "RangeIndex: 396030 entries, 0 to 396029\n",
      "Data columns (total 27 columns):\n",
      " #   Column                Non-Null Count   Dtype  \n",
      "---  ------                --------------   -----  \n",
      " 0   loan_amnt             396030 non-null  float64\n",
      " 1   int_rate              396030 non-null  float64\n",
      " 2   installment           396030 non-null  float64\n",
      " 3   grade                 396030 non-null  object \n",
      " 4   sub_grade             396030 non-null  object \n",
      " 5   emp_title             373103 non-null  object \n",
      " 6   emp_length            377729 non-null  object \n",
      " 7   home_ownership        396030 non-null  object \n",
      " 8   annual_inc            396030 non-null  float64\n",
      " 9   verification_status   396030 non-null  object \n",
      " 10  issue_d               396030 non-null  object \n",
      " 11  loan_status           396030 non-null  object \n",
      " 12  purpose               396030 non-null  object \n",
      " 13  title                 394275 non-null  object \n",
      " 14  dti                   396030 non-null  float64\n",
      " 15  earliest_cr_line      396030 non-null  object \n",
      " 16  open_acc              396030 non-null  float64\n",
      " 17  pub_rec               396030 non-null  float64\n",
      " 18  revol_bal             396030 non-null  float64\n",
      " 19  revol_util            395754 non-null  float64\n",
      " 20  total_acc             396030 non-null  float64\n",
      " 21  initial_list_status   396030 non-null  object \n",
      " 22  application_type      396030 non-null  object \n",
      " 23  mort_acc              358235 non-null  float64\n",
      " 24  pub_rec_bankruptcies  395495 non-null  float64\n",
      " 25  address               396030 non-null  object \n",
      " 26  term_ 60 months       396030 non-null  uint8  \n",
      "dtypes: float64(12), object(14), uint8(1)\n",
      "memory usage: 78.9+ MB\n"
     ]
    }
   ],
   "source": [
    "df.info()"
   ]
  },
  {
   "cell_type": "code",
   "execution_count": 194,
   "id": "73c018e9",
   "metadata": {},
   "outputs": [
    {
     "data": {
      "text/plain": [
       "<bound method Series.unique of 0          Fully Paid\n",
       "1          Fully Paid\n",
       "2          Fully Paid\n",
       "3          Fully Paid\n",
       "4         Charged Off\n",
       "             ...     \n",
       "396025     Fully Paid\n",
       "396026     Fully Paid\n",
       "396027     Fully Paid\n",
       "396028     Fully Paid\n",
       "396029     Fully Paid\n",
       "Name: loan_status, Length: 396030, dtype: object>"
      ]
     },
     "execution_count": 194,
     "metadata": {},
     "output_type": "execute_result"
    }
   ],
   "source": [
    "df['loan_status'].unique"
   ]
  },
  {
   "cell_type": "markdown",
   "id": "2535eed4",
   "metadata": {},
   "source": [
    "Analysis of the grade feature in the dataset. Histogram shows that most loans have a high grade while fewer have a low grade (histogram is skewed left)."
   ]
  },
  {
   "cell_type": "code",
   "execution_count": 195,
   "id": "99d8ce51",
   "metadata": {
    "scrolled": true
   },
   "outputs": [
    {
     "data": {
      "text/plain": [
       "B    116018\n",
       "C    105987\n",
       "A     64187\n",
       "D     63524\n",
       "E     31488\n",
       "F     11772\n",
       "G      3054\n",
       "Name: grade, dtype: int64"
      ]
     },
     "execution_count": 195,
     "metadata": {},
     "output_type": "execute_result"
    }
   ],
   "source": [
    "df['grade'].value_counts()"
   ]
  },
  {
   "cell_type": "code",
   "execution_count": 196,
   "id": "2375eca4",
   "metadata": {},
   "outputs": [],
   "source": [
    "df_null = df.isnull()"
   ]
  },
  {
   "cell_type": "code",
   "execution_count": 197,
   "id": "5a81f5e2",
   "metadata": {},
   "outputs": [
    {
     "data": {
      "text/plain": [
       "(396030, 27)"
      ]
     },
     "execution_count": 197,
     "metadata": {},
     "output_type": "execute_result"
    }
   ],
   "source": [
    "df_null.shape"
   ]
  },
  {
   "cell_type": "code",
   "execution_count": 198,
   "id": "be39fbd7",
   "metadata": {},
   "outputs": [
    {
     "data": {
      "text/plain": [
       "<AxesSubplot:xlabel='grade', ylabel='Count'>"
      ]
     },
     "execution_count": 198,
     "metadata": {},
     "output_type": "execute_result"
    },
    {
     "data": {
      "image/png": "[encoded data removed]",
      "text/plain": [
       "<Figure size 432x288 with 1 Axes>"
      ]
     },
     "metadata": {
      "needs_background": "light"
     },
     "output_type": "display_data"
    }
   ],
   "source": [
    "sns.histplot(df['grade'])"
   ]
  },
  {
   "cell_type": "code",
   "execution_count": 199,
   "id": "18c1ed00",
   "metadata": {},
   "outputs": [],
   "source": [
    "def percentage_of_loan_failure(grade):\n",
    "    fail = 0\n",
    "    paid = 0\n",
    "    for x,y in zip(df['loan_status'], df['grade']):\n",
    "        \n",
    "        if x == \"Charged Off\" and y == grade:\n",
    "            \n",
    "            fail += 1\n",
    "        \n",
    "        if x == \"Fully Paid\" and y == grade:\n",
    "            \n",
    "            paid +=1\n",
    "            \n",
    "    return (fail/(paid+fail))*100.0\n",
    "    "
   ]
  },
  {
   "cell_type": "code",
   "execution_count": 200,
   "id": "2a911ec5",
   "metadata": {},
   "outputs": [
    {
     "data": {
      "text/plain": [
       "6.28787760761525"
      ]
     },
     "execution_count": 200,
     "metadata": {},
     "output_type": "execute_result"
    }
   ],
   "source": [
    "percentage_of_loan_failure(\"A\")"
   ]
  },
  {
   "cell_type": "code",
   "execution_count": 201,
   "id": "5fb32bac",
   "metadata": {},
   "outputs": [
    {
     "data": {
      "text/plain": [
       "12.573049009636437"
      ]
     },
     "execution_count": 201,
     "metadata": {},
     "output_type": "execute_result"
    }
   ],
   "source": [
    "percentage_of_loan_failure(\"B\")"
   ]
  },
  {
   "cell_type": "code",
   "execution_count": 202,
   "id": "1ff0a530",
   "metadata": {},
   "outputs": [
    {
     "data": {
      "text/plain": [
       "21.180899544283733"
      ]
     },
     "execution_count": 202,
     "metadata": {},
     "output_type": "execute_result"
    }
   ],
   "source": [
    "percentage_of_loan_failure(\"C\")"
   ]
  },
  {
   "cell_type": "code",
   "execution_count": 203,
   "id": "6c7fbf7f",
   "metadata": {},
   "outputs": [
    {
     "data": {
      "text/plain": [
       "28.86782948177067"
      ]
     },
     "execution_count": 203,
     "metadata": {},
     "output_type": "execute_result"
    }
   ],
   "source": [
    "percentage_of_loan_failure(\"D\")"
   ]
  },
  {
   "cell_type": "code",
   "execution_count": 204,
   "id": "d2dfa97d",
   "metadata": {},
   "outputs": [
    {
     "data": {
      "text/plain": [
       "37.36344004065041"
      ]
     },
     "execution_count": 204,
     "metadata": {},
     "output_type": "execute_result"
    }
   ],
   "source": [
    "percentage_of_loan_failure(\"E\")"
   ]
  },
  {
   "cell_type": "code",
   "execution_count": 205,
   "id": "af9560be",
   "metadata": {},
   "outputs": [
    {
     "data": {
      "text/plain": [
       "42.78797145769623"
      ]
     },
     "execution_count": 205,
     "metadata": {},
     "output_type": "execute_result"
    }
   ],
   "source": [
    "percentage_of_loan_failure(\"F\")"
   ]
  },
  {
   "cell_type": "code",
   "execution_count": 206,
   "id": "994f2408",
   "metadata": {},
   "outputs": [
    {
     "data": {
      "text/plain": [
       "47.83889980353634"
      ]
     },
     "execution_count": 206,
     "metadata": {},
     "output_type": "execute_result"
    }
   ],
   "source": [
    "percentage_of_loan_failure(\"G\")"
   ]
  },
  {
   "cell_type": "markdown",
   "id": "47ad1e92",
   "metadata": {},
   "source": [
    "Assigns numerical values to each element in the column."
   ]
  },
  {
   "cell_type": "code",
   "execution_count": 207,
   "id": "9824c5ac",
   "metadata": {},
   "outputs": [],
   "source": [
    "df['grade'] = df['grade'].replace([\"A\",\"B\", \"C\", \"D\", \"E\", \"F\", \"G\"], [0,1,2,3,4,5,6])"
   ]
  },
  {
   "cell_type": "code",
   "execution_count": 208,
   "id": "415db834",
   "metadata": {},
   "outputs": [
    {
     "data": {
      "text/html": [
       "<div>\n",
       "<style scoped>\n",
       "    .dataframe tbody tr th:only-of-type {\n",
       "        vertical-align: middle;\n",
       "    }\n",
       "\n",
       "    .dataframe tbody tr th {\n",
       "        vertical-align: top;\n",
       "    }\n",
       "\n",
       "    .dataframe thead th {\n",
       "        text-align: right;\n",
       "    }\n",
       "</style>\n",
       "<table border=\"1\" class=\"dataframe\">\n",
       "  <thead>\n",
       "    <tr style=\"text-align: right;\">\n",
       "      <th></th>\n",
       "      <th>loan_amnt</th>\n",
       "      <th>int_rate</th>\n",
       "      <th>installment</th>\n",
       "      <th>grade</th>\n",
       "      <th>annual_inc</th>\n",
       "      <th>dti</th>\n",
       "      <th>open_acc</th>\n",
       "      <th>pub_rec</th>\n",
       "      <th>revol_bal</th>\n",
       "      <th>revol_util</th>\n",
       "      <th>total_acc</th>\n",
       "      <th>mort_acc</th>\n",
       "      <th>pub_rec_bankruptcies</th>\n",
       "      <th>term_ 60 months</th>\n",
       "    </tr>\n",
       "  </thead>\n",
       "  <tbody>\n",
       "    <tr>\n",
       "      <th>loan_amnt</th>\n",
       "      <td>1.000000</td>\n",
       "      <td>0.168921</td>\n",
       "      <td>0.953929</td>\n",
       "      <td>0.175198</td>\n",
       "      <td>0.336887</td>\n",
       "      <td>0.016636</td>\n",
       "      <td>0.198556</td>\n",
       "      <td>-0.077779</td>\n",
       "      <td>0.328320</td>\n",
       "      <td>0.099911</td>\n",
       "      <td>0.223886</td>\n",
       "      <td>0.222315</td>\n",
       "      <td>-0.106539</td>\n",
       "      <td>0.393862</td>\n",
       "    </tr>\n",
       "    <tr>\n",
       "      <th>int_rate</th>\n",
       "      <td>0.168921</td>\n",
       "      <td>1.000000</td>\n",
       "      <td>0.162758</td>\n",
       "      <td>0.952473</td>\n",
       "      <td>-0.056771</td>\n",
       "      <td>0.079038</td>\n",
       "      <td>0.011649</td>\n",
       "      <td>0.060986</td>\n",
       "      <td>-0.011280</td>\n",
       "      <td>0.293659</td>\n",
       "      <td>-0.036404</td>\n",
       "      <td>-0.082583</td>\n",
       "      <td>0.057450</td>\n",
       "      <td>0.434594</td>\n",
       "    </tr>\n",
       "    <tr>\n",
       "      <th>installment</th>\n",
       "      <td>0.953929</td>\n",
       "      <td>0.162758</td>\n",
       "      <td>1.000000</td>\n",
       "      <td>0.157322</td>\n",
       "      <td>0.330381</td>\n",
       "      <td>0.015786</td>\n",
       "      <td>0.188973</td>\n",
       "      <td>-0.067892</td>\n",
       "      <td>0.316455</td>\n",
       "      <td>0.123915</td>\n",
       "      <td>0.202430</td>\n",
       "      <td>0.193694</td>\n",
       "      <td>-0.098628</td>\n",
       "      <td>0.153378</td>\n",
       "    </tr>\n",
       "    <tr>\n",
       "      <th>grade</th>\n",
       "      <td>0.175198</td>\n",
       "      <td>0.952473</td>\n",
       "      <td>0.157322</td>\n",
       "      <td>1.000000</td>\n",
       "      <td>-0.045862</td>\n",
       "      <td>0.078140</td>\n",
       "      <td>0.019321</td>\n",
       "      <td>0.068778</td>\n",
       "      <td>-0.008639</td>\n",
       "      <td>0.258950</td>\n",
       "      <td>-0.025932</td>\n",
       "      <td>-0.075255</td>\n",
       "      <td>0.061583</td>\n",
       "      <td>0.457524</td>\n",
       "    </tr>\n",
       "    <tr>\n",
       "      <th>annual_inc</th>\n",
       "      <td>0.336887</td>\n",
       "      <td>-0.056771</td>\n",
       "      <td>0.330381</td>\n",
       "      <td>-0.045862</td>\n",
       "      <td>1.000000</td>\n",
       "      <td>-0.081685</td>\n",
       "      <td>0.136150</td>\n",
       "      <td>-0.013720</td>\n",
       "      <td>0.299773</td>\n",
       "      <td>0.027871</td>\n",
       "      <td>0.193023</td>\n",
       "      <td>0.236320</td>\n",
       "      <td>-0.050162</td>\n",
       "      <td>0.060330</td>\n",
       "    </tr>\n",
       "    <tr>\n",
       "      <th>dti</th>\n",
       "      <td>0.016636</td>\n",
       "      <td>0.079038</td>\n",
       "      <td>0.015786</td>\n",
       "      <td>0.078140</td>\n",
       "      <td>-0.081685</td>\n",
       "      <td>1.000000</td>\n",
       "      <td>0.136181</td>\n",
       "      <td>-0.017639</td>\n",
       "      <td>0.063571</td>\n",
       "      <td>0.088375</td>\n",
       "      <td>0.102128</td>\n",
       "      <td>-0.025439</td>\n",
       "      <td>-0.014558</td>\n",
       "      <td>0.036508</td>\n",
       "    </tr>\n",
       "    <tr>\n",
       "      <th>open_acc</th>\n",
       "      <td>0.198556</td>\n",
       "      <td>0.011649</td>\n",
       "      <td>0.188973</td>\n",
       "      <td>0.019321</td>\n",
       "      <td>0.136150</td>\n",
       "      <td>0.136181</td>\n",
       "      <td>1.000000</td>\n",
       "      <td>-0.018392</td>\n",
       "      <td>0.221192</td>\n",
       "      <td>-0.131420</td>\n",
       "      <td>0.680728</td>\n",
       "      <td>0.109205</td>\n",
       "      <td>-0.027732</td>\n",
       "      <td>0.079575</td>\n",
       "    </tr>\n",
       "    <tr>\n",
       "      <th>pub_rec</th>\n",
       "      <td>-0.077779</td>\n",
       "      <td>0.060986</td>\n",
       "      <td>-0.067892</td>\n",
       "      <td>0.068778</td>\n",
       "      <td>-0.013720</td>\n",
       "      <td>-0.017639</td>\n",
       "      <td>-0.018392</td>\n",
       "      <td>1.000000</td>\n",
       "      <td>-0.101664</td>\n",
       "      <td>-0.075910</td>\n",
       "      <td>0.019723</td>\n",
       "      <td>0.011552</td>\n",
       "      <td>0.699408</td>\n",
       "      <td>-0.018758</td>\n",
       "    </tr>\n",
       "    <tr>\n",
       "      <th>revol_bal</th>\n",
       "      <td>0.328320</td>\n",
       "      <td>-0.011280</td>\n",
       "      <td>0.316455</td>\n",
       "      <td>-0.008639</td>\n",
       "      <td>0.299773</td>\n",
       "      <td>0.063571</td>\n",
       "      <td>0.221192</td>\n",
       "      <td>-0.101664</td>\n",
       "      <td>1.000000</td>\n",
       "      <td>0.226346</td>\n",
       "      <td>0.191616</td>\n",
       "      <td>0.194925</td>\n",
       "      <td>-0.124532</td>\n",
       "      <td>0.084787</td>\n",
       "    </tr>\n",
       "    <tr>\n",
       "      <th>revol_util</th>\n",
       "      <td>0.099911</td>\n",
       "      <td>0.293659</td>\n",
       "      <td>0.123915</td>\n",
       "      <td>0.258950</td>\n",
       "      <td>0.027871</td>\n",
       "      <td>0.088375</td>\n",
       "      <td>-0.131420</td>\n",
       "      <td>-0.075910</td>\n",
       "      <td>0.226346</td>\n",
       "      <td>1.000000</td>\n",
       "      <td>-0.104273</td>\n",
       "      <td>0.007514</td>\n",
       "      <td>-0.086751</td>\n",
       "      <td>0.055166</td>\n",
       "    </tr>\n",
       "    <tr>\n",
       "      <th>total_acc</th>\n",
       "      <td>0.223886</td>\n",
       "      <td>-0.036404</td>\n",
       "      <td>0.202430</td>\n",
       "      <td>-0.025932</td>\n",
       "      <td>0.193023</td>\n",
       "      <td>0.102128</td>\n",
       "      <td>0.680728</td>\n",
       "      <td>0.019723</td>\n",
       "      <td>0.191616</td>\n",
       "      <td>-0.104273</td>\n",
       "      <td>1.000000</td>\n",
       "      <td>0.381072</td>\n",
       "      <td>0.042035</td>\n",
       "      <td>0.101346</td>\n",
       "    </tr>\n",
       "    <tr>\n",
       "      <th>mort_acc</th>\n",
       "      <td>0.222315</td>\n",
       "      <td>-0.082583</td>\n",
       "      <td>0.193694</td>\n",
       "      <td>-0.075255</td>\n",
       "      <td>0.236320</td>\n",
       "      <td>-0.025439</td>\n",
       "      <td>0.109205</td>\n",
       "      <td>0.011552</td>\n",
       "      <td>0.194925</td>\n",
       "      <td>0.007514</td>\n",
       "      <td>0.381072</td>\n",
       "      <td>1.000000</td>\n",
       "      <td>0.027239</td>\n",
       "      <td>0.096220</td>\n",
       "    </tr>\n",
       "    <tr>\n",
       "      <th>pub_rec_bankruptcies</th>\n",
       "      <td>-0.106539</td>\n",
       "      <td>0.057450</td>\n",
       "      <td>-0.098628</td>\n",
       "      <td>0.061583</td>\n",
       "      <td>-0.050162</td>\n",
       "      <td>-0.014558</td>\n",
       "      <td>-0.027732</td>\n",
       "      <td>0.699408</td>\n",
       "      <td>-0.124532</td>\n",
       "      <td>-0.086751</td>\n",
       "      <td>0.042035</td>\n",
       "      <td>0.027239</td>\n",
       "      <td>1.000000</td>\n",
       "      <td>-0.019826</td>\n",
       "    </tr>\n",
       "    <tr>\n",
       "      <th>term_ 60 months</th>\n",
       "      <td>0.393862</td>\n",
       "      <td>0.434594</td>\n",
       "      <td>0.153378</td>\n",
       "      <td>0.457524</td>\n",
       "      <td>0.060330</td>\n",
       "      <td>0.036508</td>\n",
       "      <td>0.079575</td>\n",
       "      <td>-0.018758</td>\n",
       "      <td>0.084787</td>\n",
       "      <td>0.055166</td>\n",
       "      <td>0.101346</td>\n",
       "      <td>0.096220</td>\n",
       "      <td>-0.019826</td>\n",
       "      <td>1.000000</td>\n",
       "    </tr>\n",
       "  </tbody>\n",
       "</table>\n",
       "</div>"
      ],
      "text/plain": [
       "                      loan_amnt  int_rate  installment     grade  annual_inc  \\\n",
       "loan_amnt              1.000000  0.168921     0.953929  0.175198    0.336887   \n",
       "int_rate               0.168921  1.000000     0.162758  0.952473   -0.056771   \n",
       "installment            0.953929  0.162758     1.000000  0.157322    0.330381   \n",
       "grade                  0.175198  0.952473     0.157322  1.000000   -0.045862   \n",
       "annual_inc             0.336887 -0.056771     0.330381 -0.045862    1.000000   \n",
       "dti                    0.016636  0.079038     0.015786  0.078140   -0.081685   \n",
       "open_acc               0.198556  0.011649     0.188973  0.019321    0.136150   \n",
       "pub_rec               -0.077779  0.060986    -0.067892  0.068778   -0.013720   \n",
       "revol_bal              0.328320 -0.011280     0.316455 -0.008639    0.299773   \n",
       "revol_util             0.099911  0.293659     0.123915  0.258950    0.027871   \n",
       "total_acc              0.223886 -0.036404     0.202430 -0.025932    0.193023   \n",
       "mort_acc               0.222315 -0.082583     0.193694 -0.075255    0.236320   \n",
       "pub_rec_bankruptcies  -0.106539  0.057450    -0.098628  0.061583   -0.050162   \n",
       "term_ 60 months        0.393862  0.434594     0.153378  0.457524    0.060330   \n",
       "\n",
       "                           dti  open_acc   pub_rec  revol_bal  revol_util  \\\n",
       "loan_amnt             0.016636  0.198556 -0.077779   0.328320    0.099911   \n",
       "int_rate              0.079038  0.011649  0.060986  -0.011280    0.293659   \n",
       "installment           0.015786  0.188973 -0.067892   0.316455    0.123915   \n",
       "grade                 0.078140  0.019321  0.068778  -0.008639    0.258950   \n",
       "annual_inc           -0.081685  0.136150 -0.013720   0.299773    0.027871   \n",
       "dti                   1.000000  0.136181 -0.017639   0.063571    0.088375   \n",
       "open_acc              0.136181  1.000000 -0.018392   0.221192   -0.131420   \n",
       "pub_rec              -0.017639 -0.018392  1.000000  -0.101664   -0.075910   \n",
       "revol_bal             0.063571  0.221192 -0.101664   1.000000    0.226346   \n",
       "revol_util            0.088375 -0.131420 -0.075910   0.226346    1.000000   \n",
       "total_acc             0.102128  0.680728  0.019723   0.191616   -0.104273   \n",
       "mort_acc             -0.025439  0.109205  0.011552   0.194925    0.007514   \n",
       "pub_rec_bankruptcies -0.014558 -0.027732  0.699408  -0.124532   -0.086751   \n",
       "term_ 60 months       0.036508  0.079575 -0.018758   0.084787    0.055166   \n",
       "\n",
       "                      total_acc  mort_acc  pub_rec_bankruptcies  \\\n",
       "loan_amnt              0.223886  0.222315             -0.106539   \n",
       "int_rate              -0.036404 -0.082583              0.057450   \n",
       "installment            0.202430  0.193694             -0.098628   \n",
       "grade                 -0.025932 -0.075255              0.061583   \n",
       "annual_inc             0.193023  0.236320             -0.050162   \n",
       "dti                    0.102128 -0.025439             -0.014558   \n",
       "open_acc               0.680728  0.109205             -0.027732   \n",
       "pub_rec                0.019723  0.011552              0.699408   \n",
       "revol_bal              0.191616  0.194925             -0.124532   \n",
       "revol_util            -0.104273  0.007514             -0.086751   \n",
       "total_acc              1.000000  0.381072              0.042035   \n",
       "mort_acc               0.381072  1.000000              0.027239   \n",
       "pub_rec_bankruptcies   0.042035  0.027239              1.000000   \n",
       "term_ 60 months        0.101346  0.096220             -0.019826   \n",
       "\n",
       "                      term_ 60 months  \n",
       "loan_amnt                    0.393862  \n",
       "int_rate                     0.434594  \n",
       "installment                  0.153378  \n",
       "grade                        0.457524  \n",
       "annual_inc                   0.060330  \n",
       "dti                          0.036508  \n",
       "open_acc                     0.079575  \n",
       "pub_rec                     -0.018758  \n",
       "revol_bal                    0.084787  \n",
       "revol_util                   0.055166  \n",
       "total_acc                    0.101346  \n",
       "mort_acc                     0.096220  \n",
       "pub_rec_bankruptcies        -0.019826  \n",
       "term_ 60 months              1.000000  "
      ]
     },
     "execution_count": 208,
     "metadata": {},
     "output_type": "execute_result"
    }
   ],
   "source": [
    "df.corr()"
   ]
  },
  {
   "cell_type": "code",
   "execution_count": 209,
   "id": "d6acfce8",
   "metadata": {},
   "outputs": [
    {
     "name": "stdout",
     "output_type": "stream",
     "text": [
      "<class 'pandas.core.frame.DataFrame'>\n",
      "RangeIndex: 396030 entries, 0 to 396029\n",
      "Data columns (total 27 columns):\n",
      " #   Column                Non-Null Count   Dtype  \n",
      "---  ------                --------------   -----  \n",
      " 0   loan_amnt             396030 non-null  float64\n",
      " 1   int_rate              396030 non-null  float64\n",
      " 2   installment           396030 non-null  float64\n",
      " 3   grade                 396030 non-null  int64  \n",
      " 4   sub_grade             396030 non-null  object \n",
      " 5   emp_title             373103 non-null  object \n",
      " 6   emp_length            377729 non-null  object \n",
      " 7   home_ownership        396030 non-null  object \n",
      " 8   annual_inc            396030 non-null  float64\n",
      " 9   verification_status   396030 non-null  object \n",
      " 10  issue_d               396030 non-null  object \n",
      " 11  loan_status           396030 non-null  object \n",
      " 12  purpose               396030 non-null  object \n",
      " 13  title                 394275 non-null  object \n",
      " 14  dti                   396030 non-null  float64\n",
      " 15  earliest_cr_line      396030 non-null  object \n",
      " 16  open_acc              396030 non-null  float64\n",
      " 17  pub_rec               396030 non-null  float64\n",
      " 18  revol_bal             396030 non-null  float64\n",
      " 19  revol_util            395754 non-null  float64\n",
      " 20  total_acc             396030 non-null  float64\n",
      " 21  initial_list_status   396030 non-null  object \n",
      " 22  application_type      396030 non-null  object \n",
      " 23  mort_acc              358235 non-null  float64\n",
      " 24  pub_rec_bankruptcies  395495 non-null  float64\n",
      " 25  address               396030 non-null  object \n",
      " 26  term_ 60 months       396030 non-null  uint8  \n",
      "dtypes: float64(12), int64(1), object(13), uint8(1)\n",
      "memory usage: 78.9+ MB\n"
     ]
    }
   ],
   "source": [
    "df.info()"
   ]
  },
  {
   "cell_type": "code",
   "execution_count": 210,
   "id": "3bd555d7",
   "metadata": {},
   "outputs": [
    {
     "data": {
      "text/plain": [
       "396030"
      ]
     },
     "execution_count": 210,
     "metadata": {},
     "output_type": "execute_result"
    }
   ],
   "source": [
    "len(df['sub_grade'].values)"
   ]
  },
  {
   "cell_type": "code",
   "execution_count": 211,
   "id": "ac38fda0",
   "metadata": {},
   "outputs": [
    {
     "data": {
      "text/plain": [
       "B3    26655\n",
       "B4    25601\n",
       "C1    23662\n",
       "C2    22580\n",
       "B2    22495\n",
       "B5    22085\n",
       "C3    21221\n",
       "C4    20280\n",
       "B1    19182\n",
       "A5    18526\n",
       "C5    18244\n",
       "D1    15993\n",
       "A4    15789\n",
       "D2    13951\n",
       "D3    12223\n",
       "D4    11657\n",
       "A3    10576\n",
       "A1     9729\n",
       "D5     9700\n",
       "A2     9567\n",
       "E1     7917\n",
       "E2     7431\n",
       "E3     6207\n",
       "E4     5361\n",
       "E5     4572\n",
       "F1     3536\n",
       "F2     2766\n",
       "F3     2286\n",
       "F4     1787\n",
       "F5     1397\n",
       "G1     1058\n",
       "G2      754\n",
       "G3      552\n",
       "G4      374\n",
       "G5      316\n",
       "Name: sub_grade, dtype: int64"
      ]
     },
     "execution_count": 211,
     "metadata": {},
     "output_type": "execute_result"
    }
   ],
   "source": [
    "df['sub_grade'].value_counts()"
   ]
  },
  {
   "cell_type": "code",
   "execution_count": 212,
   "id": "fb7da365",
   "metadata": {},
   "outputs": [],
   "source": [
    "def percentage_of_loan_failure_sub_grade(sub_grade):\n",
    "    fail = 0\n",
    "    paid = 0\n",
    "    for x,y in zip(df['loan_status'], df['sub_grade']):\n",
    "        \n",
    "        if x == \"Charged Off\" and y == sub_grade:\n",
    "            \n",
    "            fail += 1\n",
    "        \n",
    "        if x == \"Fully Paid\" and y == sub_grade:\n",
    "            \n",
    "            paid +=1\n",
    "            \n",
    "    return (fail/(paid+fail))*100.0\n",
    "    "
   ]
  },
  {
   "cell_type": "markdown",
   "id": "d52cd84e",
   "metadata": {},
   "source": [
    "Checks to see which subgrades coorelate with high rates of loan failure, creates a plot which shows that the lower the grade, the higher the likelihood that the loan fails. Replaces the subgrade categorical values with numeric values."
   ]
  },
  {
   "cell_type": "code",
   "execution_count": 213,
   "id": "5d6275c5",
   "metadata": {},
   "outputs": [
    {
     "name": "stdout",
     "output_type": "stream",
     "text": [
      "B4\n",
      "13.839303152220616\n",
      "B5\n",
      "15.50373556712701\n",
      "B3\n",
      "12.335396736072031\n",
      "A2\n",
      "4.818647433887321\n",
      "C5\n",
      "24.506687130015347\n",
      "C3\n",
      "21.841572027708402\n",
      "A1\n",
      "2.8677150786308974\n",
      "B2\n",
      "10.8513002889531\n",
      "C1\n",
      "17.369622179021217\n",
      "A5\n",
      "8.490769729029472\n",
      "E4\n",
      "39.302368961014736\n",
      "A4\n",
      "7.023877382988156\n",
      "A3\n",
      "5.805597579425113\n",
      "D1\n",
      "26.380291377477644\n",
      "C2\n",
      "19.75199291408326\n",
      "B1\n",
      "9.858200396204776\n",
      "D3\n",
      "28.421827701873514\n",
      "D5\n",
      "32.01030927835051\n",
      "D2\n",
      "28.03383270016486\n",
      "E1\n",
      "34.40697233800682\n",
      "E2\n",
      "36.73798950343157\n",
      "E5\n",
      "40.31058617672791\n",
      "F4\n",
      "45.60716284275322\n",
      "E3\n",
      "38.037699371677135\n",
      "D4\n",
      "31.131508964570642\n",
      "G1\n",
      "46.12476370510397\n",
      "F5\n",
      "48.67573371510379\n",
      "G2\n",
      "48.275862068965516\n",
      "C4\n",
      "23.535502958579883\n",
      "F1\n",
      "38.744343891402714\n",
      "F3\n",
      "43.61329833770778\n",
      "G5\n",
      "50.31645569620253\n",
      "G4\n",
      "44.919786096256686\n",
      "F2\n",
      "42.48011569052784\n",
      "G3\n",
      "51.08695652173913\n"
     ]
    }
   ],
   "source": [
    "unique_sub_grades = df['sub_grade'].unique()\n",
    "unique_sub_percent = []\n",
    "for i in unique_sub_grades:\n",
    "    print(str(i))\n",
    "    print(percentage_of_loan_failure_sub_grade(str(i)))\n",
    "    unique_sub_percent.append((i,percentage_of_loan_failure_sub_grade(str(i))))\n",
    "    "
   ]
  },
  {
   "cell_type": "code",
   "execution_count": 214,
   "id": "c2b952c2",
   "metadata": {},
   "outputs": [
    {
     "data": {
      "text/plain": [
       "[('B4', 13.839303152220616),\n",
       " ('B5', 15.50373556712701),\n",
       " ('B3', 12.335396736072031),\n",
       " ('A2', 4.818647433887321),\n",
       " ('C5', 24.506687130015347),\n",
       " ('C3', 21.841572027708402),\n",
       " ('A1', 2.8677150786308974),\n",
       " ('B2', 10.8513002889531),\n",
       " ('C1', 17.369622179021217),\n",
       " ('A5', 8.490769729029472),\n",
       " ('E4', 39.302368961014736),\n",
       " ('A4', 7.023877382988156),\n",
       " ('A3', 5.805597579425113),\n",
       " ('D1', 26.380291377477644),\n",
       " ('C2', 19.75199291408326),\n",
       " ('B1', 9.858200396204776),\n",
       " ('D3', 28.421827701873514),\n",
       " ('D5', 32.01030927835051),\n",
       " ('D2', 28.03383270016486),\n",
       " ('E1', 34.40697233800682),\n",
       " ('E2', 36.73798950343157),\n",
       " ('E5', 40.31058617672791),\n",
       " ('F4', 45.60716284275322),\n",
       " ('E3', 38.037699371677135),\n",
       " ('D4', 31.131508964570642),\n",
       " ('G1', 46.12476370510397),\n",
       " ('F5', 48.67573371510379),\n",
       " ('G2', 48.275862068965516),\n",
       " ('C4', 23.535502958579883),\n",
       " ('F1', 38.744343891402714),\n",
       " ('F3', 43.61329833770778),\n",
       " ('G5', 50.31645569620253),\n",
       " ('G4', 44.919786096256686),\n",
       " ('F2', 42.48011569052784),\n",
       " ('G3', 51.08695652173913)]"
      ]
     },
     "execution_count": 214,
     "metadata": {},
     "output_type": "execute_result"
    }
   ],
   "source": [
    "unique_sub_percent"
   ]
  },
  {
   "cell_type": "code",
   "execution_count": 215,
   "id": "86b11b84",
   "metadata": {},
   "outputs": [],
   "source": [
    "subgrades = []\n",
    "percents = []\n",
    "for i in unique_sub_percent:\n",
    "    \n",
    "    subgrades.append(i[0])\n",
    "    percents.append(i[1])\n",
    "\n",
    "    "
   ]
  },
  {
   "cell_type": "code",
   "execution_count": 216,
   "id": "d94e8410",
   "metadata": {},
   "outputs": [
    {
     "data": {
      "text/plain": [
       "<matplotlib.collections.PathCollection at 0x1da80a164a8>"
      ]
     },
     "execution_count": 216,
     "metadata": {},
     "output_type": "execute_result"
    },
    {
     "data": {
      "image/png": "[encoded data removed]",
      "text/plain": [
       "<Figure size 864x864 with 1 Axes>"
      ]
     },
     "metadata": {
      "needs_background": "light"
     },
     "output_type": "display_data"
    }
   ],
   "source": [
    "plt.figure(figsize=(12,12))\n",
    "plt.scatter(subgrades, percents)"
   ]
  },
  {
   "cell_type": "code",
   "execution_count": 217,
   "id": "94737cba",
   "metadata": {},
   "outputs": [
    {
     "data": {
      "text/plain": [
       "35"
      ]
     },
     "execution_count": 217,
     "metadata": {},
     "output_type": "execute_result"
    }
   ],
   "source": [
    "sub = []\n",
    "for i in range(0,len(subgrades)):\n",
    "    \n",
    "    sub.append(i)\n",
    "    \n",
    "    \n",
    "len([\"A1\",\"A2\",\"A3\",\"A4\",\"A5\",\"B1\",\"B2\",\"B3\",\"B4\",\"B5\", \"C1\",\"C2\",\"C3\",\"C4\",\"C5\", \"D1\",\"D2\",\"D3\",\"D4\",\"D5\",  \"E1\",\"E2\",\"E3\",\"E4\",\"E5\",\n",
    "    \"F1\",\"F2\",\"F3\",\"F4\",\"F5\", \"G1\",\"G2\",\"G3\",\"G4\",\"G5\"])"
   ]
  },
  {
   "cell_type": "code",
   "execution_count": 218,
   "id": "44ba4935",
   "metadata": {},
   "outputs": [],
   "source": [
    "df['sub_grade'] = df['sub_grade'].replace([\"A1\",\"A2\",\"A3\",\"A4\",\"A5\",\"B1\",\"B2\",\"B3\",\"B4\",\"B5\", \"C1\",\"C2\",\"C3\",\"C4\",\"C5\", \"D1\",\"D2\",\"D3\",\"D4\",\"D5\",  \"E1\",\"E2\",\"E3\",\"E4\",\"E5\",\n",
    "    \"F1\",\"F2\",\"F3\",\"F4\",\"F5\", \"G1\",\"G2\",\"G3\",\"G4\",\"G5\"], sub)"
   ]
  },
  {
   "cell_type": "code",
   "execution_count": 219,
   "id": "2cdc8839",
   "metadata": {},
   "outputs": [
    {
     "name": "stdout",
     "output_type": "stream",
     "text": [
      "<class 'pandas.core.frame.DataFrame'>\n",
      "RangeIndex: 396030 entries, 0 to 396029\n",
      "Data columns (total 27 columns):\n",
      " #   Column                Non-Null Count   Dtype  \n",
      "---  ------                --------------   -----  \n",
      " 0   loan_amnt             396030 non-null  float64\n",
      " 1   int_rate              396030 non-null  float64\n",
      " 2   installment           396030 non-null  float64\n",
      " 3   grade                 396030 non-null  int64  \n",
      " 4   sub_grade             396030 non-null  int64  \n",
      " 5   emp_title             373103 non-null  object \n",
      " 6   emp_length            377729 non-null  object \n",
      " 7   home_ownership        396030 non-null  object \n",
      " 8   annual_inc            396030 non-null  float64\n",
      " 9   verification_status   396030 non-null  object \n",
      " 10  issue_d               396030 non-null  object \n",
      " 11  loan_status           396030 non-null  object \n",
      " 12  purpose               396030 non-null  object \n",
      " 13  title                 394275 non-null  object \n",
      " 14  dti                   396030 non-null  float64\n",
      " 15  earliest_cr_line      396030 non-null  object \n",
      " 16  open_acc              396030 non-null  float64\n",
      " 17  pub_rec               396030 non-null  float64\n",
      " 18  revol_bal             396030 non-null  float64\n",
      " 19  revol_util            395754 non-null  float64\n",
      " 20  total_acc             396030 non-null  float64\n",
      " 21  initial_list_status   396030 non-null  object \n",
      " 22  application_type      396030 non-null  object \n",
      " 23  mort_acc              358235 non-null  float64\n",
      " 24  pub_rec_bankruptcies  395495 non-null  float64\n",
      " 25  address               396030 non-null  object \n",
      " 26  term_ 60 months       396030 non-null  uint8  \n",
      "dtypes: float64(12), int64(2), object(12), uint8(1)\n",
      "memory usage: 78.9+ MB\n"
     ]
    }
   ],
   "source": [
    "df.info()"
   ]
  },
  {
   "cell_type": "markdown",
   "id": "e72beeea",
   "metadata": {},
   "source": [
    "Analysis of the employee job title column of the dataset, realized there are too many unique values and there is no way to check coorelation of job title with coorelation of loan failure, and thus that column will be dropped from the dataset later on."
   ]
  },
  {
   "cell_type": "code",
   "execution_count": 220,
   "id": "c95ba378",
   "metadata": {},
   "outputs": [
    {
     "data": {
      "text/plain": [
       "array(['The job title supplied by the Borrower when applying for the loan.*'],\n",
       "      dtype=object)"
      ]
     },
     "execution_count": 220,
     "metadata": {},
     "output_type": "execute_result"
    }
   ],
   "source": [
    "data.to_numpy()[6]"
   ]
  },
  {
   "cell_type": "code",
   "execution_count": 221,
   "id": "b8b0b536",
   "metadata": {},
   "outputs": [
    {
     "data": {
      "text/plain": [
       "array(['Marketing', 'Credit analyst ', 'Statistician', ...,\n",
       "       \"Michael's Arts & Crafts\", 'licensed bankere',\n",
       "       'Gracon Services, Inc'], dtype=object)"
      ]
     },
     "execution_count": 221,
     "metadata": {},
     "output_type": "execute_result"
    }
   ],
   "source": [
    "df['emp_title'].unique()"
   ]
  },
  {
   "cell_type": "code",
   "execution_count": 222,
   "id": "30f4bc53",
   "metadata": {},
   "outputs": [],
   "source": [
    "job_types = df['emp_title'].value_counts()[0:1000].index.tolist()"
   ]
  },
  {
   "cell_type": "code",
   "execution_count": 223,
   "id": "601d7317",
   "metadata": {},
   "outputs": [],
   "source": [
    "job_type_num = []\n",
    "for x,y in zip(range(0,len(job_types)), range(0,1000)):\n",
    "    \n",
    "    job_type_num.append(y)"
   ]
  },
  {
   "cell_type": "code",
   "execution_count": 224,
   "id": "c01fd526",
   "metadata": {},
   "outputs": [],
   "source": [
    "def job_loan_fail(job):\n",
    "    \n",
    "    paid = 0\n",
    "    not_paid = 0\n",
    "    \n",
    "    for x,y in zip(df['emp_title'], df['loan_status']):\n",
    "        \n",
    "      \n",
    "        \n",
    "        if x == job and y == \"Fully Paid\":\n",
    "            \n",
    "            paid +=1 \n",
    "            \n",
    "        \n",
    "        if x == job and y == \"Charged Off\":\n",
    "            \n",
    "            not_paid +=1\n",
    "            \n",
    "    \n",
    "    return (not_paid)/(paid+not_paid) * 100.0\n",
    "    "
   ]
  },
  {
   "cell_type": "code",
   "execution_count": 225,
   "id": "66f979be",
   "metadata": {},
   "outputs": [],
   "source": [
    "job_percents = []\n",
    "for i in job_types[0:10]:\n",
    "    \n",
    "    job_percents.append(job_loan_fail(i))"
   ]
  },
  {
   "cell_type": "code",
   "execution_count": 226,
   "id": "51dbf3f8",
   "metadata": {},
   "outputs": [
    {
     "data": {
      "text/plain": [
       "[19.526087947140578,\n",
       " 21.858823529411765,\n",
       " 20.474137931034484,\n",
       " 20.530877573131097,\n",
       " 22.131147540983605,\n",
       " 24.358974358974358,\n",
       " 16.345514950166113,\n",
       " 32.340425531914896,\n",
       " 28.230022404779685,\n",
       " 20.361247947454846]"
      ]
     },
     "execution_count": 226,
     "metadata": {},
     "output_type": "execute_result"
    }
   ],
   "source": [
    "job_percents[0:10]"
   ]
  },
  {
   "cell_type": "code",
   "execution_count": 227,
   "id": "0accfffa",
   "metadata": {},
   "outputs": [
    {
     "data": {
      "text/plain": [
       "<matplotlib.collections.PathCollection at 0x1da80dd6da0>"
      ]
     },
     "execution_count": 227,
     "metadata": {},
     "output_type": "execute_result"
    },
    {
     "data": {
      "image/png": "[encoded data removed]",
      "text/plain": [
       "<Figure size 432x288 with 1 Axes>"
      ]
     },
     "metadata": {
      "needs_background": "light"
     },
     "output_type": "display_data"
    }
   ],
   "source": [
    "plt.scatter(x=job_type_num[0:10], y=job_percents)"
   ]
  },
  {
   "cell_type": "code",
   "execution_count": 228,
   "id": "1c5d20eb",
   "metadata": {},
   "outputs": [
    {
     "name": "stdout",
     "output_type": "stream",
     "text": [
      "<class 'pandas.core.frame.DataFrame'>\n",
      "RangeIndex: 396030 entries, 0 to 396029\n",
      "Data columns (total 27 columns):\n",
      " #   Column                Non-Null Count   Dtype  \n",
      "---  ------                --------------   -----  \n",
      " 0   loan_amnt             396030 non-null  float64\n",
      " 1   int_rate              396030 non-null  float64\n",
      " 2   installment           396030 non-null  float64\n",
      " 3   grade                 396030 non-null  int64  \n",
      " 4   sub_grade             396030 non-null  int64  \n",
      " 5   emp_title             373103 non-null  object \n",
      " 6   emp_length            377729 non-null  object \n",
      " 7   home_ownership        396030 non-null  object \n",
      " 8   annual_inc            396030 non-null  float64\n",
      " 9   verification_status   396030 non-null  object \n",
      " 10  issue_d               396030 non-null  object \n",
      " 11  loan_status           396030 non-null  object \n",
      " 12  purpose               396030 non-null  object \n",
      " 13  title                 394275 non-null  object \n",
      " 14  dti                   396030 non-null  float64\n",
      " 15  earliest_cr_line      396030 non-null  object \n",
      " 16  open_acc              396030 non-null  float64\n",
      " 17  pub_rec               396030 non-null  float64\n",
      " 18  revol_bal             396030 non-null  float64\n",
      " 19  revol_util            395754 non-null  float64\n",
      " 20  total_acc             396030 non-null  float64\n",
      " 21  initial_list_status   396030 non-null  object \n",
      " 22  application_type      396030 non-null  object \n",
      " 23  mort_acc              358235 non-null  float64\n",
      " 24  pub_rec_bankruptcies  395495 non-null  float64\n",
      " 25  address               396030 non-null  object \n",
      " 26  term_ 60 months       396030 non-null  uint8  \n",
      "dtypes: float64(12), int64(2), object(12), uint8(1)\n",
      "memory usage: 78.9+ MB\n"
     ]
    }
   ],
   "source": [
    "df.info()"
   ]
  },
  {
   "cell_type": "code",
   "execution_count": 229,
   "id": "c93ae470",
   "metadata": {},
   "outputs": [
    {
     "data": {
      "text/plain": [
       "array(['10+ years', '4 years', '< 1 year', '6 years', '9 years',\n",
       "       '2 years', '3 years', '8 years', '7 years', '5 years', '1 year',\n",
       "       nan], dtype=object)"
      ]
     },
     "execution_count": 229,
     "metadata": {},
     "output_type": "execute_result"
    }
   ],
   "source": [
    "df['emp_length'].unique()"
   ]
  },
  {
   "cell_type": "markdown",
   "id": "c410614a",
   "metadata": {},
   "source": [
    "Assigns numerical values to the emp_length column based on the categorical number of years provided."
   ]
  },
  {
   "cell_type": "code",
   "execution_count": 230,
   "id": "c44ce43c",
   "metadata": {},
   "outputs": [
    {
     "data": {
      "text/plain": [
       "10+ years    126041\n",
       "2 years       35827\n",
       "< 1 year      31725\n",
       "3 years       31665\n",
       "5 years       26495\n",
       "1 year        25882\n",
       "4 years       23952\n",
       "6 years       20841\n",
       "7 years       20819\n",
       "8 years       19168\n",
       "9 years       15314\n",
       "Name: emp_length, dtype: int64"
      ]
     },
     "execution_count": 230,
     "metadata": {},
     "output_type": "execute_result"
    }
   ],
   "source": [
    "df['emp_length'].value_counts()"
   ]
  },
  {
   "cell_type": "code",
   "execution_count": 234,
   "id": "0eefcd9a",
   "metadata": {},
   "outputs": [],
   "source": [
    "emp_length = []\n",
    "for i in df['emp_length']:\n",
    "    \n",
    "    if i == \"< 1 year\":\n",
    "        \n",
    "        emp_length.append(0)\n",
    "        \n",
    "    \n",
    "    elif i == \"1 year\":\n",
    "        \n",
    "        emp_length.append(1)\n",
    "        \n",
    "        \n",
    "    elif i == \"2 years\":\n",
    "        \n",
    "        emp_length.append(2)\n",
    "        \n",
    "    elif i == \"3 years\":\n",
    "        \n",
    "        emp_length.append(3)\n",
    "        \n",
    "    elif i == \"4 years\":\n",
    "        \n",
    "        emp_length.append(4)\n",
    "    \n",
    "    elif i == \"5 years\":\n",
    "        \n",
    "        emp_length.append(5)\n",
    "        \n",
    "    elif i == \"6 years\":\n",
    "        \n",
    "        emp_length.append(6)\n",
    "        \n",
    "    elif i == \"7 years\":\n",
    "        \n",
    "        emp_length.append(7)\n",
    "        \n",
    "    elif i == \"8 years\":\n",
    "        \n",
    "        emp_length.append(8)\n",
    "        \n",
    "    elif i == \"9 years\":\n",
    "        \n",
    "        emp_length.append(9)\n",
    "        \n",
    "    elif i == \"10+ years\":\n",
    "        \n",
    "        emp_length.append(10)\n",
    "    else:\n",
    "        \n",
    "        emp_length.append(median_length)\n",
    "   \n",
    " \n",
    "   "
   ]
  },
  {
   "cell_type": "code",
   "execution_count": 232,
   "id": "25e4edd6",
   "metadata": {},
   "outputs": [],
   "source": [
    "emp_length = np.array(emp_length)"
   ]
  },
  {
   "cell_type": "code",
   "execution_count": 233,
   "id": "6c54b384",
   "metadata": {},
   "outputs": [],
   "source": [
    "median_length = np.median(emp_length)"
   ]
  },
  {
   "cell_type": "code",
   "execution_count": 235,
   "id": "0dc931a2",
   "metadata": {},
   "outputs": [
    {
     "data": {
      "text/plain": [
       "[10,\n",
       " 4,\n",
       " 0,\n",
       " 6,\n",
       " 9,\n",
       " 10,\n",
       " 2,\n",
       " 10,\n",
       " 10,\n",
       " 3,\n",
       " 2,\n",
       " 8,\n",
       " 7,\n",
       " 10,\n",
       " 9,\n",
       " 8,\n",
       " 10,\n",
       " 10,\n",
       " 10,\n",
       " 7,\n",
       " 0,\n",
       " 10,\n",
       " 5,\n",
       " 10,\n",
       " 5,\n",
       " 2,\n",
       " 6,\n",
       " 3,\n",
       " 10,\n",
       " 10,\n",
       " 10,\n",
       " 5,\n",
       " 1,\n",
       " 3,\n",
       " 10,\n",
       " 6.0,\n",
       " 6.0,\n",
       " 10,\n",
       " 7,\n",
       " 4,\n",
       " 4,\n",
       " 10,\n",
       " 2,\n",
       " 10,\n",
       " 10,\n",
       " 0,\n",
       " 10,\n",
       " 10,\n",
       " 3,\n",
       " 6.0,\n",
       " 8,\n",
       " 8,\n",
       " 9,\n",
       " 2,\n",
       " 7,\n",
       " 3,\n",
       " 6,\n",
       " 9,\n",
       " 6.0,\n",
       " 3,\n",
       " 7,\n",
       " 10,\n",
       " 10,\n",
       " 9,\n",
       " 5,\n",
       " 10,\n",
       " 5,\n",
       " 1,\n",
       " 3,\n",
       " 10,\n",
       " 2,\n",
       " 3,\n",
       " 5,\n",
       " 0,\n",
       " 10,\n",
       " 1,\n",
       " 10,\n",
       " 1,\n",
       " 4,\n",
       " 9,\n",
       " 8,\n",
       " 7,\n",
       " 4,\n",
       " 6,\n",
       " 6,\n",
       " 5,\n",
       " 3,\n",
       " 5,\n",
       " 8,\n",
       " 10,\n",
       " 4,\n",
       " 6.0,\n",
       " 0,\n",
       " 7,\n",
       " 10,\n",
       " 10,\n",
       " 7,\n",
       " 10,\n",
       " 10,\n",
       " 7,\n",
       " 10,\n",
       " 9,\n",
       " 10,\n",
       " 9,\n",
       " 6,\n",
       " 7,\n",
       " 8,\n",
       " 9,\n",
       " 10,\n",
       " 10,\n",
       " 6,\n",
       " 10,\n",
       " 10,\n",
       " 1,\n",
       " 10,\n",
       " 0,\n",
       " 2,\n",
       " 1,\n",
       " 5,\n",
       " 3,\n",
       " 4,\n",
       " 10,\n",
       " 3,\n",
       " 10,\n",
       " 1,\n",
       " 2,\n",
       " 10,\n",
       " 6,\n",
       " 10,\n",
       " 7,\n",
       " 10,\n",
       " 10,\n",
       " 0,\n",
       " 10,\n",
       " 10,\n",
       " 10,\n",
       " 2,\n",
       " 2,\n",
       " 4,\n",
       " 0,\n",
       " 10,\n",
       " 10,\n",
       " 6,\n",
       " 4,\n",
       " 10,\n",
       " 2,\n",
       " 3,\n",
       " 2,\n",
       " 5,\n",
       " 1,\n",
       " 2,\n",
       " 2,\n",
       " 7,\n",
       " 10,\n",
       " 10,\n",
       " 6.0,\n",
       " 10,\n",
       " 4,\n",
       " 10,\n",
       " 10,\n",
       " 5,\n",
       " 10,\n",
       " 3,\n",
       " 10,\n",
       " 3,\n",
       " 6,\n",
       " 6,\n",
       " 10,\n",
       " 6.0,\n",
       " 10,\n",
       " 8,\n",
       " 10,\n",
       " 10,\n",
       " 10,\n",
       " 6,\n",
       " 6,\n",
       " 5,\n",
       " 10,\n",
       " 8,\n",
       " 3,\n",
       " 9,\n",
       " 10,\n",
       " 1,\n",
       " 1,\n",
       " 7,\n",
       " 2,\n",
       " 10,\n",
       " 6.0,\n",
       " 3,\n",
       " 4,\n",
       " 4,\n",
       " 10,\n",
       " 7,\n",
       " 2,\n",
       " 3,\n",
       " 10,\n",
       " 5,\n",
       " 10,\n",
       " 10,\n",
       " 5,\n",
       " 6,\n",
       " 4,\n",
       " 0,\n",
       " 5,\n",
       " 3,\n",
       " 1,\n",
       " 10,\n",
       " 9,\n",
       " 10,\n",
       " 1,\n",
       " 10,\n",
       " 9,\n",
       " 8,\n",
       " 2,\n",
       " 10,\n",
       " 3,\n",
       " 9,\n",
       " 0,\n",
       " 6.0,\n",
       " 7,\n",
       " 10,\n",
       " 10,\n",
       " 10,\n",
       " 10,\n",
       " 10,\n",
       " 10,\n",
       " 10,\n",
       " 2,\n",
       " 10,\n",
       " 0,\n",
       " 1,\n",
       " 10,\n",
       " 0,\n",
       " 5,\n",
       " 8,\n",
       " 6,\n",
       " 5,\n",
       " 10,\n",
       " 10,\n",
       " 10,\n",
       " 0,\n",
       " 10,\n",
       " 10,\n",
       " 2,\n",
       " 10,\n",
       " 10,\n",
       " 6.0,\n",
       " 5,\n",
       " 10,\n",
       " 0,\n",
       " 0,\n",
       " 8,\n",
       " 4,\n",
       " 10,\n",
       " 5,\n",
       " 0,\n",
       " 7,\n",
       " 7,\n",
       " 10,\n",
       " 10,\n",
       " 10,\n",
       " 5,\n",
       " 10,\n",
       " 6,\n",
       " 2,\n",
       " 10,\n",
       " 7,\n",
       " 9,\n",
       " 3,\n",
       " 4,\n",
       " 5,\n",
       " 2,\n",
       " 10,\n",
       " 2,\n",
       " 2,\n",
       " 2,\n",
       " 8,\n",
       " 6.0,\n",
       " 6.0,\n",
       " 4,\n",
       " 0,\n",
       " 6.0,\n",
       " 10,\n",
       " 3,\n",
       " 10,\n",
       " 10,\n",
       " 10,\n",
       " 0,\n",
       " 10,\n",
       " 3,\n",
       " 10,\n",
       " 9,\n",
       " 10,\n",
       " 10,\n",
       " 6,\n",
       " 10,\n",
       " 10,\n",
       " 10,\n",
       " 1,\n",
       " 7,\n",
       " 10,\n",
       " 10,\n",
       " 2,\n",
       " 2,\n",
       " 4,\n",
       " 10,\n",
       " 7,\n",
       " 0,\n",
       " 10,\n",
       " 10,\n",
       " 3,\n",
       " 10,\n",
       " 10,\n",
       " 10,\n",
       " 3,\n",
       " 10,\n",
       " 10,\n",
       " 2,\n",
       " 10,\n",
       " 9,\n",
       " 10,\n",
       " 1,\n",
       " 6.0,\n",
       " 4,\n",
       " 10,\n",
       " 10,\n",
       " 10,\n",
       " 6,\n",
       " 7,\n",
       " 6,\n",
       " 10,\n",
       " 10,\n",
       " 3,\n",
       " 10,\n",
       " 0,\n",
       " 10,\n",
       " 4,\n",
       " 4,\n",
       " 1,\n",
       " 4,\n",
       " 2,\n",
       " 10,\n",
       " 2,\n",
       " 5,\n",
       " 4,\n",
       " 0,\n",
       " 4,\n",
       " 2,\n",
       " 5,\n",
       " 10,\n",
       " 10,\n",
       " 10,\n",
       " 2,\n",
       " 10,\n",
       " 8,\n",
       " 10,\n",
       " 10,\n",
       " 7,\n",
       " 10,\n",
       " 2,\n",
       " 9,\n",
       " 6.0,\n",
       " 2,\n",
       " 6,\n",
       " 10,\n",
       " 4,\n",
       " 6.0,\n",
       " 10,\n",
       " 10,\n",
       " 0,\n",
       " 6,\n",
       " 4,\n",
       " 10,\n",
       " 10,\n",
       " 7,\n",
       " 3,\n",
       " 5,\n",
       " 1,\n",
       " 6,\n",
       " 3,\n",
       " 6.0,\n",
       " 5,\n",
       " 10,\n",
       " 6,\n",
       " 5,\n",
       " 2,\n",
       " 4,\n",
       " 10,\n",
       " 3,\n",
       " 10,\n",
       " 10,\n",
       " 7,\n",
       " 5,\n",
       " 1,\n",
       " 10,\n",
       " 3,\n",
       " 7,\n",
       " 0,\n",
       " 5,\n",
       " 0,\n",
       " 1,\n",
       " 10,\n",
       " 10,\n",
       " 5,\n",
       " 0,\n",
       " 10,\n",
       " 7,\n",
       " 6.0,\n",
       " 6,\n",
       " 2,\n",
       " 5,\n",
       " 6.0,\n",
       " 5,\n",
       " 4,\n",
       " 4,\n",
       " 10,\n",
       " 9,\n",
       " 1,\n",
       " 10,\n",
       " 5,\n",
       " 5,\n",
       " 7,\n",
       " 0,\n",
       " 6,\n",
       " 2,\n",
       " 10,\n",
       " 10,\n",
       " 4,\n",
       " 10,\n",
       " 10,\n",
       " 0,\n",
       " 8,\n",
       " 6,\n",
       " 6,\n",
       " 6,\n",
       " 10,\n",
       " 0,\n",
       " 10,\n",
       " 6,\n",
       " 6,\n",
       " 3,\n",
       " 10,\n",
       " 9,\n",
       " 6.0,\n",
       " 10,\n",
       " 2,\n",
       " 10,\n",
       " 10,\n",
       " 0,\n",
       " 10,\n",
       " 4,\n",
       " 1,\n",
       " 2,\n",
       " 10,\n",
       " 1,\n",
       " 2,\n",
       " 8,\n",
       " 5,\n",
       " 4,\n",
       " 9,\n",
       " 8,\n",
       " 10,\n",
       " 10,\n",
       " 0,\n",
       " 9,\n",
       " 4,\n",
       " 2,\n",
       " 4,\n",
       " 10,\n",
       " 6.0,\n",
       " 10,\n",
       " 0,\n",
       " 5,\n",
       " 0,\n",
       " 6.0,\n",
       " 6,\n",
       " 10,\n",
       " 10,\n",
       " 3,\n",
       " 10,\n",
       " 10,\n",
       " 2,\n",
       " 9,\n",
       " 0,\n",
       " 6.0,\n",
       " 10,\n",
       " 10,\n",
       " 0,\n",
       " 0,\n",
       " 6,\n",
       " 10,\n",
       " 9,\n",
       " 0,\n",
       " 10,\n",
       " 1,\n",
       " 1,\n",
       " 4,\n",
       " 6,\n",
       " 5,\n",
       " 10,\n",
       " 10,\n",
       " 10,\n",
       " 10,\n",
       " 8,\n",
       " 10,\n",
       " 10,\n",
       " 3,\n",
       " 10,\n",
       " 10,\n",
       " 10,\n",
       " 10,\n",
       " 10,\n",
       " 10,\n",
       " 8,\n",
       " 10,\n",
       " 4,\n",
       " 10,\n",
       " 10,\n",
       " 8,\n",
       " 1,\n",
       " 0,\n",
       " 6,\n",
       " 4,\n",
       " 8,\n",
       " 6.0,\n",
       " 0,\n",
       " 8,\n",
       " 0,\n",
       " 3,\n",
       " 9,\n",
       " 8,\n",
       " 1,\n",
       " 10,\n",
       " 10,\n",
       " 10,\n",
       " 6,\n",
       " 5,\n",
       " 4,\n",
       " 2,\n",
       " 0,\n",
       " 10,\n",
       " 10,\n",
       " 10,\n",
       " 6,\n",
       " 10,\n",
       " 10,\n",
       " 10,\n",
       " 10,\n",
       " 10,\n",
       " 10,\n",
       " 10,\n",
       " 2,\n",
       " 0,\n",
       " 4,\n",
       " 2,\n",
       " 0,\n",
       " 9,\n",
       " 3,\n",
       " 10,\n",
       " 4,\n",
       " 6,\n",
       " 9,\n",
       " 6.0,\n",
       " 3,\n",
       " 10,\n",
       " 1,\n",
       " 8,\n",
       " 10,\n",
       " 2,\n",
       " 1,\n",
       " 0,\n",
       " 5,\n",
       " 7,\n",
       " 1,\n",
       " 6,\n",
       " 10,\n",
       " 6,\n",
       " 10,\n",
       " 4,\n",
       " 8,\n",
       " 3,\n",
       " 3,\n",
       " 1,\n",
       " 4,\n",
       " 2,\n",
       " 7,\n",
       " 9,\n",
       " 9,\n",
       " 10,\n",
       " 4,\n",
       " 3,\n",
       " 5,\n",
       " 2,\n",
       " 4,\n",
       " 6.0,\n",
       " 5,\n",
       " 6.0,\n",
       " 7,\n",
       " 0,\n",
       " 8,\n",
       " 2,\n",
       " 10,\n",
       " 6.0,\n",
       " 10,\n",
       " 7,\n",
       " 6,\n",
       " 5,\n",
       " 6.0,\n",
       " 10,\n",
       " 6,\n",
       " 0,\n",
       " 7,\n",
       " 3,\n",
       " 5,\n",
       " 0,\n",
       " 2,\n",
       " 10,\n",
       " 2,\n",
       " 10,\n",
       " 3,\n",
       " 10,\n",
       " 1,\n",
       " 2,\n",
       " 10,\n",
       " 4,\n",
       " 4,\n",
       " 10,\n",
       " 7,\n",
       " 2,\n",
       " 2,\n",
       " 5,\n",
       " 10,\n",
       " 1,\n",
       " 10,\n",
       " 10,\n",
       " 10,\n",
       " 10,\n",
       " 10,\n",
       " 6.0,\n",
       " 5,\n",
       " 10,\n",
       " 10,\n",
       " 0,\n",
       " 2,\n",
       " 2,\n",
       " 10,\n",
       " 10,\n",
       " 3,\n",
       " 1,\n",
       " 10,\n",
       " 4,\n",
       " 10,\n",
       " 0,\n",
       " 10,\n",
       " 10,\n",
       " 9,\n",
       " 0,\n",
       " 1,\n",
       " 10,\n",
       " 1,\n",
       " 10,\n",
       " 3,\n",
       " 3,\n",
       " 10,\n",
       " 10,\n",
       " 10,\n",
       " 10,\n",
       " 5,\n",
       " 10,\n",
       " 8,\n",
       " 10,\n",
       " 5,\n",
       " 1,\n",
       " 8,\n",
       " 3,\n",
       " 6.0,\n",
       " 9,\n",
       " 2,\n",
       " 2,\n",
       " 10,\n",
       " 3,\n",
       " 10,\n",
       " 0,\n",
       " 10,\n",
       " 2,\n",
       " 0,\n",
       " 4,\n",
       " 0,\n",
       " 6.0,\n",
       " 10,\n",
       " 3,\n",
       " 10,\n",
       " 2,\n",
       " 0,\n",
       " 10,\n",
       " 10,\n",
       " 6,\n",
       " 6,\n",
       " 7,\n",
       " 6.0,\n",
       " 6,\n",
       " 10,\n",
       " 7,\n",
       " 3,\n",
       " 7,\n",
       " 0,\n",
       " 10,\n",
       " 10,\n",
       " 4,\n",
       " 6.0,\n",
       " 2,\n",
       " 10,\n",
       " 5,\n",
       " 7,\n",
       " 10,\n",
       " 10,\n",
       " 6,\n",
       " 10,\n",
       " 10,\n",
       " 8,\n",
       " 8,\n",
       " 1,\n",
       " 10,\n",
       " 7,\n",
       " 10,\n",
       " 3,\n",
       " 0,\n",
       " 0,\n",
       " 4,\n",
       " 1,\n",
       " 4,\n",
       " 6,\n",
       " 10,\n",
       " 10,\n",
       " 5,\n",
       " 2,\n",
       " 6.0,\n",
       " 10,\n",
       " 1,\n",
       " 7,\n",
       " 5,\n",
       " 6,\n",
       " 5,\n",
       " 4,\n",
       " 2,\n",
       " 1,\n",
       " 4,\n",
       " 2,\n",
       " 9,\n",
       " 7,\n",
       " 7,\n",
       " 10,\n",
       " 4,\n",
       " 10,\n",
       " 10,\n",
       " 7,\n",
       " 9,\n",
       " 5,\n",
       " 3,\n",
       " 10,\n",
       " 9,\n",
       " 7,\n",
       " 10,\n",
       " 1,\n",
       " 4,\n",
       " 9,\n",
       " 7,\n",
       " 5,\n",
       " 10,\n",
       " 4,\n",
       " 5,\n",
       " 0,\n",
       " 10,\n",
       " 10,\n",
       " 2,\n",
       " 0,\n",
       " 9,\n",
       " 4,\n",
       " 6,\n",
       " 0,\n",
       " 6,\n",
       " 9,\n",
       " 3,\n",
       " 10,\n",
       " 10,\n",
       " 10,\n",
       " 3,\n",
       " 1,\n",
       " 10,\n",
       " 6,\n",
       " 3,\n",
       " 2,\n",
       " 10,\n",
       " 10,\n",
       " 1,\n",
       " 7,\n",
       " 10,\n",
       " 9,\n",
       " 3,\n",
       " 10,\n",
       " 10,\n",
       " 2,\n",
       " 7,\n",
       " 10,\n",
       " 1,\n",
       " 7,\n",
       " 10,\n",
       " 10,\n",
       " 5,\n",
       " 10,\n",
       " 6.0,\n",
       " 2,\n",
       " 10,\n",
       " 3,\n",
       " 2,\n",
       " 6,\n",
       " 10,\n",
       " 10,\n",
       " 4,\n",
       " 4,\n",
       " 10,\n",
       " 5,\n",
       " 2,\n",
       " 2,\n",
       " 2,\n",
       " 10,\n",
       " 1,\n",
       " 1,\n",
       " 2,\n",
       " 0,\n",
       " 10,\n",
       " 10,\n",
       " 4,\n",
       " 10,\n",
       " 9,\n",
       " 10,\n",
       " 1,\n",
       " 8,\n",
       " 10,\n",
       " 10,\n",
       " 8,\n",
       " 2,\n",
       " 1,\n",
       " 2,\n",
       " 10,\n",
       " 4,\n",
       " 2,\n",
       " 9,\n",
       " 10,\n",
       " 3,\n",
       " 4,\n",
       " 0,\n",
       " 6,\n",
       " 10,\n",
       " 2,\n",
       " 6,\n",
       " 6,\n",
       " 5,\n",
       " 3,\n",
       " 3,\n",
       " 5,\n",
       " 5,\n",
       " 2,\n",
       " 10,\n",
       " 6,\n",
       " 0,\n",
       " 2,\n",
       " 10,\n",
       " 0,\n",
       " 4,\n",
       " 10,\n",
       " 0,\n",
       " 10,\n",
       " 8,\n",
       " 10,\n",
       " 2,\n",
       " 7,\n",
       " 10,\n",
       " 5,\n",
       " 9,\n",
       " 8,\n",
       " 10,\n",
       " 10,\n",
       " 6,\n",
       " 10,\n",
       " 6.0,\n",
       " 10,\n",
       " 4,\n",
       " 10,\n",
       " 7,\n",
       " 10,\n",
       " 10,\n",
       " 7,\n",
       " 6.0,\n",
       " 10,\n",
       " 6,\n",
       " 10,\n",
       " 10,\n",
       " 5,\n",
       " 1,\n",
       " 5,\n",
       " 2,\n",
       " 10,\n",
       " 2,\n",
       " 0,\n",
       " 10,\n",
       " 0,\n",
       " 0,\n",
       " 10,\n",
       " 3,\n",
       " 2,\n",
       " 6.0,\n",
       " 3,\n",
       " 9,\n",
       " 10,\n",
       " 10,\n",
       " 10,\n",
       " 6.0,\n",
       " 0,\n",
       " 8,\n",
       " 10,\n",
       " 5,\n",
       " 3,\n",
       " 9,\n",
       " 10,\n",
       " 10,\n",
       " 10,\n",
       " 10,\n",
       " 1,\n",
       " 2,\n",
       " 8,\n",
       " 1,\n",
       " 10,\n",
       " 0,\n",
       " 4,\n",
       " 10,\n",
       " 5,\n",
       " 6,\n",
       " 6,\n",
       " 6,\n",
       " 10,\n",
       " 10,\n",
       " 7,\n",
       " 10,\n",
       " 10,\n",
       " 0,\n",
       " 10,\n",
       " 10,\n",
       " 4,\n",
       " 10,\n",
       " 10,\n",
       " 1,\n",
       " 3,\n",
       " 10,\n",
       " 5,\n",
       " 3,\n",
       " 5,\n",
       " 10,\n",
       " 0,\n",
       " 7,\n",
       " 8,\n",
       " 3,\n",
       " 10,\n",
       " 3,\n",
       " 6.0,\n",
       " 8,\n",
       " 6.0,\n",
       " 6.0,\n",
       " 10,\n",
       " 0,\n",
       " 0,\n",
       " 10,\n",
       " 7,\n",
       " 9,\n",
       " 10,\n",
       " 10,\n",
       " 0,\n",
       " 10,\n",
       " 3,\n",
       " 5,\n",
       " 6,\n",
       " 10,\n",
       " 5,\n",
       " 1,\n",
       " 10,\n",
       " 10,\n",
       " 0,\n",
       " 6.0,\n",
       " 8,\n",
       " 6.0,\n",
       " 6,\n",
       " 10,\n",
       " 10,\n",
       " 1,\n",
       " 0,\n",
       " 5,\n",
       " 0,\n",
       " 4,\n",
       " 2,\n",
       " 2,\n",
       " ...]"
      ]
     },
     "execution_count": 235,
     "metadata": {},
     "output_type": "execute_result"
    }
   ],
   "source": [
    "emp_length"
   ]
  },
  {
   "cell_type": "code",
   "execution_count": 236,
   "id": "fc32e4a3",
   "metadata": {},
   "outputs": [
    {
     "data": {
      "text/plain": [
       "396030"
      ]
     },
     "execution_count": 236,
     "metadata": {},
     "output_type": "execute_result"
    }
   ],
   "source": [
    "len(emp_length)"
   ]
  },
  {
   "cell_type": "code",
   "execution_count": 237,
   "id": "14760ef4",
   "metadata": {},
   "outputs": [],
   "source": [
    "emp_length_df = df['emp_length'].to_numpy()"
   ]
  },
  {
   "cell_type": "code",
   "execution_count": 238,
   "id": "96b73e86",
   "metadata": {},
   "outputs": [],
   "source": [
    "df['emp_length'] = df['emp_length'].replace(['10+ years', '4 years', '< 1 year', '6 years', '9 years',\n",
    "       '2 years', '3 years', '8 years', '7 years', '5 years', '1 year'], [10,4,0,6,9,2,3,8,7,5,1])"
   ]
  },
  {
   "cell_type": "code",
   "execution_count": 239,
   "id": "3e306946",
   "metadata": {},
   "outputs": [
    {
     "name": "stdout",
     "output_type": "stream",
     "text": [
      "<class 'pandas.core.frame.DataFrame'>\n",
      "RangeIndex: 396030 entries, 0 to 396029\n",
      "Data columns (total 27 columns):\n",
      " #   Column                Non-Null Count   Dtype  \n",
      "---  ------                --------------   -----  \n",
      " 0   loan_amnt             396030 non-null  float64\n",
      " 1   int_rate              396030 non-null  float64\n",
      " 2   installment           396030 non-null  float64\n",
      " 3   grade                 396030 non-null  int64  \n",
      " 4   sub_grade             396030 non-null  int64  \n",
      " 5   emp_title             373103 non-null  object \n",
      " 6   emp_length            377729 non-null  float64\n",
      " 7   home_ownership        396030 non-null  object \n",
      " 8   annual_inc            396030 non-null  float64\n",
      " 9   verification_status   396030 non-null  object \n",
      " 10  issue_d               396030 non-null  object \n",
      " 11  loan_status           396030 non-null  object \n",
      " 12  purpose               396030 non-null  object \n",
      " 13  title                 394275 non-null  object \n",
      " 14  dti                   396030 non-null  float64\n",
      " 15  earliest_cr_line      396030 non-null  object \n",
      " 16  open_acc              396030 non-null  float64\n",
      " 17  pub_rec               396030 non-null  float64\n",
      " 18  revol_bal             396030 non-null  float64\n",
      " 19  revol_util            395754 non-null  float64\n",
      " 20  total_acc             396030 non-null  float64\n",
      " 21  initial_list_status   396030 non-null  object \n",
      " 22  application_type      396030 non-null  object \n",
      " 23  mort_acc              358235 non-null  float64\n",
      " 24  pub_rec_bankruptcies  395495 non-null  float64\n",
      " 25  address               396030 non-null  object \n",
      " 26  term_ 60 months       396030 non-null  uint8  \n",
      "dtypes: float64(13), int64(2), object(11), uint8(1)\n",
      "memory usage: 78.9+ MB\n"
     ]
    }
   ],
   "source": [
    "df.info()"
   ]
  },
  {
   "cell_type": "code",
   "execution_count": 240,
   "id": "0e3abc7e",
   "metadata": {},
   "outputs": [],
   "source": [
    "df['emp_length'].fillna(df['emp_length'].mean(), inplace = True)"
   ]
  },
  {
   "cell_type": "code",
   "execution_count": 241,
   "id": "2d4ec9de",
   "metadata": {},
   "outputs": [
    {
     "name": "stdout",
     "output_type": "stream",
     "text": [
      "<class 'pandas.core.frame.DataFrame'>\n",
      "RangeIndex: 396030 entries, 0 to 396029\n",
      "Data columns (total 27 columns):\n",
      " #   Column                Non-Null Count   Dtype  \n",
      "---  ------                --------------   -----  \n",
      " 0   loan_amnt             396030 non-null  float64\n",
      " 1   int_rate              396030 non-null  float64\n",
      " 2   installment           396030 non-null  float64\n",
      " 3   grade                 396030 non-null  int64  \n",
      " 4   sub_grade             396030 non-null  int64  \n",
      " 5   emp_title             373103 non-null  object \n",
      " 6   emp_length            396030 non-null  float64\n",
      " 7   home_ownership        396030 non-null  object \n",
      " 8   annual_inc            396030 non-null  float64\n",
      " 9   verification_status   396030 non-null  object \n",
      " 10  issue_d               396030 non-null  object \n",
      " 11  loan_status           396030 non-null  object \n",
      " 12  purpose               396030 non-null  object \n",
      " 13  title                 394275 non-null  object \n",
      " 14  dti                   396030 non-null  float64\n",
      " 15  earliest_cr_line      396030 non-null  object \n",
      " 16  open_acc              396030 non-null  float64\n",
      " 17  pub_rec               396030 non-null  float64\n",
      " 18  revol_bal             396030 non-null  float64\n",
      " 19  revol_util            395754 non-null  float64\n",
      " 20  total_acc             396030 non-null  float64\n",
      " 21  initial_list_status   396030 non-null  object \n",
      " 22  application_type      396030 non-null  object \n",
      " 23  mort_acc              358235 non-null  float64\n",
      " 24  pub_rec_bankruptcies  395495 non-null  float64\n",
      " 25  address               396030 non-null  object \n",
      " 26  term_ 60 months       396030 non-null  uint8  \n",
      "dtypes: float64(13), int64(2), object(11), uint8(1)\n",
      "memory usage: 78.9+ MB\n"
     ]
    }
   ],
   "source": [
    "df.info()"
   ]
  },
  {
   "cell_type": "markdown",
   "id": "91cf47a8",
   "metadata": {},
   "source": [
    "Analyzes the home ownership column and sees which home ownership types have a high percentage of loan failures. Numerical values are assigned to the text categories based on those percentages."
   ]
  },
  {
   "cell_type": "code",
   "execution_count": 242,
   "id": "86ad56a6",
   "metadata": {},
   "outputs": [
    {
     "data": {
      "text/plain": [
       "array(['RENT', 'MORTGAGE', 'OWN', 'OTHER', 'NONE', 'ANY'], dtype=object)"
      ]
     },
     "execution_count": 242,
     "metadata": {},
     "output_type": "execute_result"
    }
   ],
   "source": [
    "df['home_ownership'].unique()"
   ]
  },
  {
   "cell_type": "code",
   "execution_count": 243,
   "id": "43c18336",
   "metadata": {},
   "outputs": [
    {
     "data": {
      "text/plain": [
       "<AxesSubplot:xlabel='home_ownership', ylabel='loan_amnt'>"
      ]
     },
     "execution_count": 243,
     "metadata": {},
     "output_type": "execute_result"
    },
    {
     "data": {
      "image/png": "[encoded data removed]",
      "text/plain": [
       "<Figure size 720x720 with 1 Axes>"
      ]
     },
     "metadata": {
      "needs_background": "light"
     },
     "output_type": "display_data"
    }
   ],
   "source": [
    "plt.figure(figsize=(10,10))\n",
    "sns.boxplot(x=df['home_ownership'], y=df['loan_amnt'])"
   ]
  },
  {
   "cell_type": "code",
   "execution_count": 244,
   "id": "20a0e8c8",
   "metadata": {},
   "outputs": [],
   "source": [
    "def home_loan_fail(ownership):\n",
    "    paid = 0\n",
    "    charged = 0\n",
    "    \n",
    "    for x,y in zip(df['home_ownership'],df['loan_status']):\n",
    "     \n",
    "        if x == ownership and y == \"Fully Paid\":\n",
    "            \n",
    "            paid += 1\n",
    "            \n",
    "        if x == ownership and y == \"Charged Off\":\n",
    "            \n",
    "            charged += 1\n",
    "            \n",
    "    #print(charged,paid)    \n",
    "    return (charged)/(paid+charged) *100.0"
   ]
  },
  {
   "cell_type": "code",
   "execution_count": 245,
   "id": "17e6ee38",
   "metadata": {},
   "outputs": [
    {
     "name": "stdout",
     "output_type": "stream",
     "text": [
      "RENT\n",
      "22.662244195506602\n",
      "MORTGAGE\n",
      "16.956057031076693\n",
      "OWN\n",
      "20.680336989349865\n",
      "OTHER\n",
      "14.285714285714285\n",
      "NONE\n",
      "22.58064516129032\n",
      "ANY\n",
      "0.0\n"
     ]
    }
   ],
   "source": [
    "for i in df['home_ownership'].unique():\n",
    "    \n",
    "    print(i)\n",
    "    print(home_loan_fail(str(i)))"
   ]
  },
  {
   "cell_type": "code",
   "execution_count": 246,
   "id": "00b86e36",
   "metadata": {},
   "outputs": [],
   "source": [
    "ownership = []\n",
    "\n",
    "for i in df['home_ownership'].unique():\n",
    "    \n",
    "    \n",
    "    if i == \"ANY\":\n",
    "        \n",
    "        ownership.append(0)\n",
    "    \n",
    "    if i == \"OTHER\":\n",
    "        \n",
    "        ownership.append(1)\n",
    "    \n",
    "    if i == \"MORTGAGE\":\n",
    "        \n",
    "        ownership.append(2)\n",
    "        \n",
    "    if i == \"OWN\":\n",
    "        \n",
    "        ownership.append(3)\n",
    "        \n",
    "    if i == \"RENT\":\n",
    "        \n",
    "        ownership.append(4)\n",
    "    \n",
    "    if i==\"NONE\":\n",
    "        ownership.append(5)"
   ]
  },
  {
   "cell_type": "code",
   "execution_count": 247,
   "id": "f8f1e14d",
   "metadata": {},
   "outputs": [],
   "source": [
    "df['home_ownership'] = df['home_ownership'].replace(df['home_ownership'].unique(), ownership)"
   ]
  },
  {
   "cell_type": "code",
   "execution_count": 248,
   "id": "7aff8da3",
   "metadata": {},
   "outputs": [
    {
     "name": "stdout",
     "output_type": "stream",
     "text": [
      "<class 'pandas.core.frame.DataFrame'>\n",
      "RangeIndex: 396030 entries, 0 to 396029\n",
      "Data columns (total 27 columns):\n",
      " #   Column                Non-Null Count   Dtype  \n",
      "---  ------                --------------   -----  \n",
      " 0   loan_amnt             396030 non-null  float64\n",
      " 1   int_rate              396030 non-null  float64\n",
      " 2   installment           396030 non-null  float64\n",
      " 3   grade                 396030 non-null  int64  \n",
      " 4   sub_grade             396030 non-null  int64  \n",
      " 5   emp_title             373103 non-null  object \n",
      " 6   emp_length            396030 non-null  float64\n",
      " 7   home_ownership        396030 non-null  int64  \n",
      " 8   annual_inc            396030 non-null  float64\n",
      " 9   verification_status   396030 non-null  object \n",
      " 10  issue_d               396030 non-null  object \n",
      " 11  loan_status           396030 non-null  object \n",
      " 12  purpose               396030 non-null  object \n",
      " 13  title                 394275 non-null  object \n",
      " 14  dti                   396030 non-null  float64\n",
      " 15  earliest_cr_line      396030 non-null  object \n",
      " 16  open_acc              396030 non-null  float64\n",
      " 17  pub_rec               396030 non-null  float64\n",
      " 18  revol_bal             396030 non-null  float64\n",
      " 19  revol_util            395754 non-null  float64\n",
      " 20  total_acc             396030 non-null  float64\n",
      " 21  initial_list_status   396030 non-null  object \n",
      " 22  application_type      396030 non-null  object \n",
      " 23  mort_acc              358235 non-null  float64\n",
      " 24  pub_rec_bankruptcies  395495 non-null  float64\n",
      " 25  address               396030 non-null  object \n",
      " 26  term_ 60 months       396030 non-null  uint8  \n",
      "dtypes: float64(13), int64(3), object(10), uint8(1)\n",
      "memory usage: 78.9+ MB\n"
     ]
    }
   ],
   "source": [
    "df.info()"
   ]
  },
  {
   "cell_type": "code",
   "execution_count": 249,
   "id": "124dade4",
   "metadata": {},
   "outputs": [],
   "source": [
    "df['loan_status'] = df['loan_status'].replace([\"Fully Paid\", \"Charged Off\"], [0,1])"
   ]
  },
  {
   "cell_type": "markdown",
   "id": "04a1b68b",
   "metadata": {},
   "source": [
    "Displays another heatmap to show the correlation of the newly feature engineered features."
   ]
  },
  {
   "cell_type": "code",
   "execution_count": 250,
   "id": "4f31654e",
   "metadata": {},
   "outputs": [
    {
     "data": {
      "text/plain": [
       "<AxesSubplot:>"
      ]
     },
     "execution_count": 250,
     "metadata": {},
     "output_type": "execute_result"
    },
    {
     "data": {
      "image/png": "[encoded data removed]",
      "text/plain": [
       "<Figure size 1080x1080 with 2 Axes>"
      ]
     },
     "metadata": {
      "needs_background": "light"
     },
     "output_type": "display_data"
    }
   ],
   "source": [
    "plt.figure(figsize=(15,15))\n",
    "sns.heatmap(df.corr(), cmap=\"coolwarm\")"
   ]
  },
  {
   "cell_type": "code",
   "execution_count": 251,
   "id": "613369f2",
   "metadata": {},
   "outputs": [
    {
     "name": "stdout",
     "output_type": "stream",
     "text": [
      "<class 'pandas.core.frame.DataFrame'>\n",
      "RangeIndex: 396030 entries, 0 to 396029\n",
      "Data columns (total 27 columns):\n",
      " #   Column                Non-Null Count   Dtype  \n",
      "---  ------                --------------   -----  \n",
      " 0   loan_amnt             396030 non-null  float64\n",
      " 1   int_rate              396030 non-null  float64\n",
      " 2   installment           396030 non-null  float64\n",
      " 3   grade                 396030 non-null  int64  \n",
      " 4   sub_grade             396030 non-null  int64  \n",
      " 5   emp_title             373103 non-null  object \n",
      " 6   emp_length            396030 non-null  float64\n",
      " 7   home_ownership        396030 non-null  int64  \n",
      " 8   annual_inc            396030 non-null  float64\n",
      " 9   verification_status   396030 non-null  object \n",
      " 10  issue_d               396030 non-null  object \n",
      " 11  loan_status           396030 non-null  int64  \n",
      " 12  purpose               396030 non-null  object \n",
      " 13  title                 394275 non-null  object \n",
      " 14  dti                   396030 non-null  float64\n",
      " 15  earliest_cr_line      396030 non-null  object \n",
      " 16  open_acc              396030 non-null  float64\n",
      " 17  pub_rec               396030 non-null  float64\n",
      " 18  revol_bal             396030 non-null  float64\n",
      " 19  revol_util            395754 non-null  float64\n",
      " 20  total_acc             396030 non-null  float64\n",
      " 21  initial_list_status   396030 non-null  object \n",
      " 22  application_type      396030 non-null  object \n",
      " 23  mort_acc              358235 non-null  float64\n",
      " 24  pub_rec_bankruptcies  395495 non-null  float64\n",
      " 25  address               396030 non-null  object \n",
      " 26  term_ 60 months       396030 non-null  uint8  \n",
      "dtypes: float64(13), int64(4), object(9), uint8(1)\n",
      "memory usage: 78.9+ MB\n"
     ]
    }
   ],
   "source": [
    "df.info()"
   ]
  },
  {
   "cell_type": "markdown",
   "id": "ce2d165b",
   "metadata": {},
   "source": [
    "Creates numeric values for the verification status categories in the column. Values are determined by the percent of the loans for that verification type which fail."
   ]
  },
  {
   "cell_type": "code",
   "execution_count": 252,
   "id": "30fef3cf",
   "metadata": {},
   "outputs": [
    {
     "data": {
      "text/plain": [
       "array(['Not Verified', 'Source Verified', 'Verified'], dtype=object)"
      ]
     },
     "execution_count": 252,
     "metadata": {},
     "output_type": "execute_result"
    }
   ],
   "source": [
    "df['verification_status'].unique()"
   ]
  },
  {
   "cell_type": "code",
   "execution_count": 253,
   "id": "85d3e4e0",
   "metadata": {},
   "outputs": [
    {
     "data": {
      "text/plain": [
       "0            Not Verified\n",
       "1            Not Verified\n",
       "2         Source Verified\n",
       "3            Not Verified\n",
       "4                Verified\n",
       "               ...       \n",
       "396025    Source Verified\n",
       "396026    Source Verified\n",
       "396027           Verified\n",
       "396028           Verified\n",
       "396029           Verified\n",
       "Name: verification_status, Length: 396030, dtype: object"
      ]
     },
     "execution_count": 253,
     "metadata": {},
     "output_type": "execute_result"
    }
   ],
   "source": [
    "df['verification_status']"
   ]
  },
  {
   "cell_type": "code",
   "execution_count": 254,
   "id": "0298c54d",
   "metadata": {},
   "outputs": [],
   "source": [
    "def verification_loan_fail(verification: str):\n",
    "    paid = 0\n",
    "    charged = 0\n",
    "    \n",
    "    for x,y in zip(df['verification_status'],df['loan_status']):\n",
    "     \n",
    "        if x == verification and y == 0:\n",
    "            \n",
    "            paid += 1\n",
    "            \n",
    "        if x == verification and y == 1:\n",
    "            \n",
    "            charged += 1\n",
    "            \n",
    "    #print(charged,paid)    \n",
    "    return (charged)/(paid+charged) *100.0"
   ]
  },
  {
   "cell_type": "code",
   "execution_count": 255,
   "id": "84789971",
   "metadata": {},
   "outputs": [
    {
     "data": {
      "text/plain": [
       "22.321102297886974"
      ]
     },
     "execution_count": 255,
     "metadata": {},
     "output_type": "execute_result"
    }
   ],
   "source": [
    "verification_loan_fail(\"Verified\")"
   ]
  },
  {
   "cell_type": "code",
   "execution_count": 256,
   "id": "0d393665",
   "metadata": {},
   "outputs": [
    {
     "data": {
      "text/plain": [
       "21.474293108041252"
      ]
     },
     "execution_count": 256,
     "metadata": {},
     "output_type": "execute_result"
    }
   ],
   "source": [
    "verification_loan_fail(\"Source Verified\")"
   ]
  },
  {
   "cell_type": "code",
   "execution_count": 257,
   "id": "0bff531f",
   "metadata": {},
   "outputs": [
    {
     "data": {
      "text/plain": [
       "14.635998784797172"
      ]
     },
     "execution_count": 257,
     "metadata": {},
     "output_type": "execute_result"
    }
   ],
   "source": [
    "verification_loan_fail(\"Not Verified\")"
   ]
  },
  {
   "cell_type": "code",
   "execution_count": 258,
   "id": "ae0edf12",
   "metadata": {},
   "outputs": [],
   "source": [
    "def loan_fail():\n",
    "    paid = 0\n",
    "    charged = 0\n",
    "    \n",
    "    for x,y in zip(df['verification_status'],df['loan_status']):\n",
    "     \n",
    "        if y == 0:\n",
    "            \n",
    "            paid += 1\n",
    "            \n",
    "        if y == 1:\n",
    "            \n",
    "            charged += 1\n",
    "            \n",
    "    #print(charged,paid)    \n",
    "    return (charged)/(paid+charged) *100.0"
   ]
  },
  {
   "cell_type": "code",
   "execution_count": 259,
   "id": "faea8351",
   "metadata": {},
   "outputs": [
    {
     "data": {
      "text/plain": [
       "19.61290811302174"
      ]
     },
     "execution_count": 259,
     "metadata": {},
     "output_type": "execute_result"
    }
   ],
   "source": [
    "loan_fail()"
   ]
  },
  {
   "cell_type": "code",
   "execution_count": 260,
   "id": "4e9bed55",
   "metadata": {},
   "outputs": [],
   "source": [
    "df['verification_status'] = df['verification_status'].replace(['Not Verified', 'Source Verified', 'Verified'], [0,1,2])"
   ]
  },
  {
   "cell_type": "code",
   "execution_count": 261,
   "id": "bb130b8e",
   "metadata": {
    "scrolled": true
   },
   "outputs": [
    {
     "name": "stdout",
     "output_type": "stream",
     "text": [
      "<class 'pandas.core.frame.DataFrame'>\n",
      "RangeIndex: 396030 entries, 0 to 396029\n",
      "Data columns (total 27 columns):\n",
      " #   Column                Non-Null Count   Dtype  \n",
      "---  ------                --------------   -----  \n",
      " 0   loan_amnt             396030 non-null  float64\n",
      " 1   int_rate              396030 non-null  float64\n",
      " 2   installment           396030 non-null  float64\n",
      " 3   grade                 396030 non-null  int64  \n",
      " 4   sub_grade             396030 non-null  int64  \n",
      " 5   emp_title             373103 non-null  object \n",
      " 6   emp_length            396030 non-null  float64\n",
      " 7   home_ownership        396030 non-null  int64  \n",
      " 8   annual_inc            396030 non-null  float64\n",
      " 9   verification_status   396030 non-null  int64  \n",
      " 10  issue_d               396030 non-null  object \n",
      " 11  loan_status           396030 non-null  int64  \n",
      " 12  purpose               396030 non-null  object \n",
      " 13  title                 394275 non-null  object \n",
      " 14  dti                   396030 non-null  float64\n",
      " 15  earliest_cr_line      396030 non-null  object \n",
      " 16  open_acc              396030 non-null  float64\n",
      " 17  pub_rec               396030 non-null  float64\n",
      " 18  revol_bal             396030 non-null  float64\n",
      " 19  revol_util            395754 non-null  float64\n",
      " 20  total_acc             396030 non-null  float64\n",
      " 21  initial_list_status   396030 non-null  object \n",
      " 22  application_type      396030 non-null  object \n",
      " 23  mort_acc              358235 non-null  float64\n",
      " 24  pub_rec_bankruptcies  395495 non-null  float64\n",
      " 25  address               396030 non-null  object \n",
      " 26  term_ 60 months       396030 non-null  uint8  \n",
      "dtypes: float64(13), int64(5), object(8), uint8(1)\n",
      "memory usage: 78.9+ MB\n"
     ]
    }
   ],
   "source": [
    "df.info()"
   ]
  },
  {
   "cell_type": "code",
   "execution_count": 262,
   "id": "4ace206e",
   "metadata": {},
   "outputs": [
    {
     "data": {
      "text/plain": [
       "0.0779086446212551"
      ]
     },
     "execution_count": 262,
     "metadata": {},
     "output_type": "execute_result"
    }
   ],
   "source": [
    "df['loan_status'].corr(df['verification_status'])"
   ]
  },
  {
   "cell_type": "markdown",
   "id": "71cad8a7",
   "metadata": {},
   "source": [
    "Takes the string values for issuing date of the loan, and gets only the year."
   ]
  },
  {
   "cell_type": "code",
   "execution_count": 263,
   "id": "3b84452e",
   "metadata": {},
   "outputs": [
    {
     "data": {
      "text/plain": [
       "array(['Jan-2015', 'Nov-2014', 'Apr-2013', 'Sep-2015', 'Sep-2012',\n",
       "       'Oct-2014', 'Apr-2012', 'Jun-2013', 'May-2014', 'Dec-2015',\n",
       "       'Apr-2015', 'Oct-2012', 'Jul-2014', 'Feb-2013', 'Oct-2015',\n",
       "       'Jan-2014', 'Mar-2016', 'Apr-2014', 'Jun-2011', 'Apr-2010',\n",
       "       'Jun-2014', 'Oct-2013', 'May-2013', 'Feb-2015', 'Oct-2011',\n",
       "       'Jun-2015', 'Aug-2013', 'Feb-2014', 'Dec-2011', 'Mar-2013',\n",
       "       'Jun-2016', 'Mar-2014', 'Nov-2013', 'Dec-2014', 'Apr-2016',\n",
       "       'Sep-2013', 'May-2016', 'Jul-2015', 'Jul-2013', 'Aug-2014',\n",
       "       'May-2008', 'Mar-2010', 'Dec-2013', 'Mar-2012', 'Mar-2015',\n",
       "       'Sep-2011', 'Jul-2012', 'Dec-2012', 'Sep-2014', 'Nov-2012',\n",
       "       'Nov-2015', 'Jan-2011', 'May-2012', 'Feb-2016', 'Jun-2012',\n",
       "       'Aug-2012', 'Jan-2016', 'May-2015', 'Oct-2016', 'Aug-2015',\n",
       "       'Jul-2016', 'May-2009', 'Aug-2016', 'Jan-2012', 'Jan-2013',\n",
       "       'Nov-2010', 'Jul-2011', 'Mar-2011', 'Feb-2012', 'May-2011',\n",
       "       'Aug-2010', 'Nov-2016', 'Jul-2010', 'Sep-2010', 'Dec-2010',\n",
       "       'Feb-2011', 'Jun-2009', 'Aug-2011', 'Dec-2016', 'Mar-2009',\n",
       "       'Jun-2010', 'May-2010', 'Nov-2011', 'Sep-2016', 'Oct-2009',\n",
       "       'Mar-2008', 'Nov-2008', 'Dec-2009', 'Oct-2010', 'Sep-2009',\n",
       "       'Oct-2007', 'Aug-2009', 'Jul-2009', 'Nov-2009', 'Jan-2010',\n",
       "       'Dec-2008', 'Feb-2009', 'Oct-2008', 'Apr-2009', 'Feb-2010',\n",
       "       'Apr-2011', 'Apr-2008', 'Aug-2008', 'Jan-2009', 'Feb-2008',\n",
       "       'Aug-2007', 'Sep-2008', 'Dec-2007', 'Jan-2008', 'Sep-2007',\n",
       "       'Jun-2008', 'Jul-2008', 'Jun-2007', 'Nov-2007', 'Jul-2007'],\n",
       "      dtype=object)"
      ]
     },
     "execution_count": 263,
     "metadata": {},
     "output_type": "execute_result"
    }
   ],
   "source": [
    "df['issue_d'].unique()"
   ]
  },
  {
   "cell_type": "code",
   "execution_count": 264,
   "id": "98c60897",
   "metadata": {},
   "outputs": [],
   "source": [
    "df['issue_d'] = pd.DatetimeIndex(df['issue_d'])"
   ]
  },
  {
   "cell_type": "code",
   "execution_count": 265,
   "id": "c658fada",
   "metadata": {},
   "outputs": [
    {
     "data": {
      "text/plain": [
       "2014-10-01    14846\n",
       "2014-07-01    12609\n",
       "2015-01-01    11705\n",
       "2013-12-01    10618\n",
       "2013-11-01    10496\n",
       "              ...  \n",
       "2007-07-01       26\n",
       "2008-09-01       25\n",
       "2007-11-01       22\n",
       "2007-09-01       15\n",
       "2007-06-01        1\n",
       "Name: issue_d, Length: 115, dtype: int64"
      ]
     },
     "execution_count": 265,
     "metadata": {},
     "output_type": "execute_result"
    }
   ],
   "source": [
    "df['issue_d'].value_counts()"
   ]
  },
  {
   "cell_type": "code",
   "execution_count": 266,
   "id": "0a0ef240",
   "metadata": {},
   "outputs": [],
   "source": [
    "years = []\n",
    "\n",
    "for i in df['issue_d'].unique():\n",
    "    \n",
    "    years.append(i.astype('datetime64[Y]').astype(int) + 1970)\n",
    "    "
   ]
  },
  {
   "cell_type": "code",
   "execution_count": 267,
   "id": "f5edb6cd",
   "metadata": {},
   "outputs": [],
   "source": [
    "df['issue_d'] = df['issue_d'].replace(df['issue_d'].unique(), years)"
   ]
  },
  {
   "cell_type": "code",
   "execution_count": 268,
   "id": "500e30b4",
   "metadata": {},
   "outputs": [
    {
     "data": {
      "text/plain": [
       "0.06050153046741689"
      ]
     },
     "execution_count": 268,
     "metadata": {},
     "output_type": "execute_result"
    }
   ],
   "source": [
    "df['issue_d'].corr(df['loan_status'])"
   ]
  },
  {
   "cell_type": "code",
   "execution_count": 269,
   "id": "c84a5939",
   "metadata": {},
   "outputs": [
    {
     "name": "stdout",
     "output_type": "stream",
     "text": [
      "<class 'pandas.core.frame.DataFrame'>\n",
      "RangeIndex: 396030 entries, 0 to 396029\n",
      "Data columns (total 27 columns):\n",
      " #   Column                Non-Null Count   Dtype  \n",
      "---  ------                --------------   -----  \n",
      " 0   loan_amnt             396030 non-null  float64\n",
      " 1   int_rate              396030 non-null  float64\n",
      " 2   installment           396030 non-null  float64\n",
      " 3   grade                 396030 non-null  int64  \n",
      " 4   sub_grade             396030 non-null  int64  \n",
      " 5   emp_title             373103 non-null  object \n",
      " 6   emp_length            396030 non-null  float64\n",
      " 7   home_ownership        396030 non-null  int64  \n",
      " 8   annual_inc            396030 non-null  float64\n",
      " 9   verification_status   396030 non-null  int64  \n",
      " 10  issue_d               396030 non-null  int64  \n",
      " 11  loan_status           396030 non-null  int64  \n",
      " 12  purpose               396030 non-null  object \n",
      " 13  title                 394275 non-null  object \n",
      " 14  dti                   396030 non-null  float64\n",
      " 15  earliest_cr_line      396030 non-null  object \n",
      " 16  open_acc              396030 non-null  float64\n",
      " 17  pub_rec               396030 non-null  float64\n",
      " 18  revol_bal             396030 non-null  float64\n",
      " 19  revol_util            395754 non-null  float64\n",
      " 20  total_acc             396030 non-null  float64\n",
      " 21  initial_list_status   396030 non-null  object \n",
      " 22  application_type      396030 non-null  object \n",
      " 23  mort_acc              358235 non-null  float64\n",
      " 24  pub_rec_bankruptcies  395495 non-null  float64\n",
      " 25  address               396030 non-null  object \n",
      " 26  term_ 60 months       396030 non-null  uint8  \n",
      "dtypes: float64(13), int64(6), object(7), uint8(1)\n",
      "memory usage: 78.9+ MB\n"
     ]
    }
   ],
   "source": [
    "df.info()"
   ]
  },
  {
   "cell_type": "code",
   "execution_count": 270,
   "id": "2c64ef01",
   "metadata": {},
   "outputs": [
    {
     "data": {
      "text/plain": [
       "array(['vacation', 'debt_consolidation', 'credit_card',\n",
       "       'home_improvement', 'small_business', 'major_purchase', 'other',\n",
       "       'medical', 'wedding', 'car', 'moving', 'house', 'educational',\n",
       "       'renewable_energy'], dtype=object)"
      ]
     },
     "execution_count": 270,
     "metadata": {},
     "output_type": "execute_result"
    }
   ],
   "source": [
    "df['purpose'].unique()"
   ]
  },
  {
   "cell_type": "code",
   "execution_count": 271,
   "id": "ee8c3644",
   "metadata": {},
   "outputs": [],
   "source": [
    "def purpose_loan_fail(purpose: str):\n",
    "    paid = 0\n",
    "    charged = 0\n",
    "    \n",
    "    for x,y in zip(df['purpose'],df['loan_status']):\n",
    "     \n",
    "        if x == purpose and y == 0:\n",
    "            \n",
    "            paid += 1\n",
    "            \n",
    "        if x == purpose and y == 1:\n",
    "            \n",
    "            charged += 1\n",
    "            \n",
    "    #print(charged,paid)    \n",
    "    return (charged)/(paid+charged) *100.0"
   ]
  },
  {
   "cell_type": "code",
   "execution_count": 272,
   "id": "76d54d41",
   "metadata": {},
   "outputs": [],
   "source": [
    "percents = []\n",
    "for i in df['purpose'].unique():\n",
    "    \n",
    "    percents.append((i,purpose_loan_fail(i)))"
   ]
  },
  {
   "cell_type": "code",
   "execution_count": 273,
   "id": "1c98a2bf",
   "metadata": {},
   "outputs": [
    {
     "data": {
      "text/plain": [
       "array(['vacation', 'debt_consolidation', 'credit_card',\n",
       "       'home_improvement', 'small_business', 'major_purchase', 'other',\n",
       "       'medical', 'wedding', 'car', 'moving', 'house', 'educational',\n",
       "       'renewable_energy'], dtype=object)"
      ]
     },
     "execution_count": 273,
     "metadata": {},
     "output_type": "execute_result"
    }
   ],
   "source": [
    "df['purpose'].unique()"
   ]
  },
  {
   "cell_type": "code",
   "execution_count": 274,
   "id": "913a4423",
   "metadata": {},
   "outputs": [],
   "source": [
    "percents.sort(key = lambda x: x[1])       "
   ]
  },
  {
   "cell_type": "code",
   "execution_count": 275,
   "id": "6da9699f",
   "metadata": {},
   "outputs": [
    {
     "data": {
      "text/plain": [
       "[('wedding', 12.08609271523179),\n",
       " ('car', 13.47668724717905),\n",
       " ('educational', 16.342412451361866),\n",
       " ('major_purchase', 16.47326507394767),\n",
       " ('credit_card', 16.711837049350148),\n",
       " ('home_improvement', 17.007906783187682),\n",
       " ('vacation', 18.92332789559543),\n",
       " ('house', 19.718309859154928),\n",
       " ('debt_consolidation', 20.74138511856789),\n",
       " ('other', 21.217842813311304),\n",
       " ('medical', 21.71115347950429),\n",
       " ('renewable_energy', 23.404255319148938),\n",
       " ('moving', 23.475823405746322),\n",
       " ('small_business', 29.4509735134187)]"
      ]
     },
     "execution_count": 275,
     "metadata": {},
     "output_type": "execute_result"
    }
   ],
   "source": [
    "percents"
   ]
  },
  {
   "cell_type": "code",
   "execution_count": 276,
   "id": "206b7b63",
   "metadata": {},
   "outputs": [],
   "source": [
    "percent_ints = []\n",
    "for i,y in zip(percents, range(0,len(percents))):\n",
    "    #print(i)\n",
    "    percent_ints.append((i[0],y))"
   ]
  },
  {
   "cell_type": "code",
   "execution_count": 277,
   "id": "69f03be0",
   "metadata": {},
   "outputs": [],
   "source": [
    "change_nums = []\n",
    "for x in df['purpose'].unique():\n",
    "    \n",
    "    for y in percent_ints:\n",
    "        \n",
    "        if y[0] == x:\n",
    "            \n",
    "            change_nums.append(y[1])\n"
   ]
  },
  {
   "cell_type": "code",
   "execution_count": 278,
   "id": "aecbb061",
   "metadata": {},
   "outputs": [],
   "source": [
    "df['purpose'] = df['purpose'].replace(df['purpose'].unique(), change_nums)"
   ]
  },
  {
   "cell_type": "code",
   "execution_count": 279,
   "id": "4e6e9f83",
   "metadata": {},
   "outputs": [
    {
     "name": "stdout",
     "output_type": "stream",
     "text": [
      "<class 'pandas.core.frame.DataFrame'>\n",
      "RangeIndex: 396030 entries, 0 to 396029\n",
      "Data columns (total 27 columns):\n",
      " #   Column                Non-Null Count   Dtype  \n",
      "---  ------                --------------   -----  \n",
      " 0   loan_amnt             396030 non-null  float64\n",
      " 1   int_rate              396030 non-null  float64\n",
      " 2   installment           396030 non-null  float64\n",
      " 3   grade                 396030 non-null  int64  \n",
      " 4   sub_grade             396030 non-null  int64  \n",
      " 5   emp_title             373103 non-null  object \n",
      " 6   emp_length            396030 non-null  float64\n",
      " 7   home_ownership        396030 non-null  int64  \n",
      " 8   annual_inc            396030 non-null  float64\n",
      " 9   verification_status   396030 non-null  int64  \n",
      " 10  issue_d               396030 non-null  int64  \n",
      " 11  loan_status           396030 non-null  int64  \n",
      " 12  purpose               396030 non-null  int64  \n",
      " 13  title                 394275 non-null  object \n",
      " 14  dti                   396030 non-null  float64\n",
      " 15  earliest_cr_line      396030 non-null  object \n",
      " 16  open_acc              396030 non-null  float64\n",
      " 17  pub_rec               396030 non-null  float64\n",
      " 18  revol_bal             396030 non-null  float64\n",
      " 19  revol_util            395754 non-null  float64\n",
      " 20  total_acc             396030 non-null  float64\n",
      " 21  initial_list_status   396030 non-null  object \n",
      " 22  application_type      396030 non-null  object \n",
      " 23  mort_acc              358235 non-null  float64\n",
      " 24  pub_rec_bankruptcies  395495 non-null  float64\n",
      " 25  address               396030 non-null  object \n",
      " 26  term_ 60 months       396030 non-null  uint8  \n",
      "dtypes: float64(13), int64(7), object(6), uint8(1)\n",
      "memory usage: 78.9+ MB\n"
     ]
    }
   ],
   "source": [
    "df.info()"
   ]
  },
  {
   "cell_type": "code",
   "execution_count": 280,
   "id": "6e611c30",
   "metadata": {},
   "outputs": [
    {
     "data": {
      "text/plain": [
       "array(['Vacation', 'Debt consolidation', 'Credit card refinancing', ...,\n",
       "       'Credit buster ', 'Loanforpayoff', 'Toxic Debt Payoff'],\n",
       "      dtype=object)"
      ]
     },
     "execution_count": 280,
     "metadata": {},
     "output_type": "execute_result"
    }
   ],
   "source": [
    "df['title'].unique()"
   ]
  },
  {
   "cell_type": "code",
   "execution_count": 281,
   "id": "94648efe",
   "metadata": {},
   "outputs": [
    {
     "data": {
      "text/plain": [
       "48818"
      ]
     },
     "execution_count": 281,
     "metadata": {},
     "output_type": "execute_result"
    }
   ],
   "source": [
    "len(df['title'].unique())"
   ]
  },
  {
   "cell_type": "code",
   "execution_count": 282,
   "id": "bc8d9f12",
   "metadata": {},
   "outputs": [
    {
     "data": {
      "text/plain": [
       "array(['Jun-1990', 'Jul-2004', 'Aug-2007', 'Sep-2006', 'Mar-1999',\n",
       "       'Jan-2005', 'Aug-2005', 'Sep-1994', 'Jun-1994', 'Dec-1997',\n",
       "       'Dec-1990', 'May-1984', 'Apr-1995', 'Jan-1997', 'May-2001',\n",
       "       'Mar-1982', 'Sep-1996', 'Jan-1990', 'Mar-2000', 'Jan-2006',\n",
       "       'Oct-2006', 'Jan-2003', 'May-2008', 'Oct-2003', 'Jun-2004',\n",
       "       'Jan-1999', 'Apr-1994', 'Apr-1998', 'Jul-2007', 'Apr-2002',\n",
       "       'Oct-2007', 'Jun-2009', 'May-1997', 'Jul-2006', 'Sep-2003',\n",
       "       'Aug-1992', 'Dec-1988', 'Feb-2002', 'Jan-1992', 'Aug-2001',\n",
       "       'Dec-2010', 'Oct-1999', 'Sep-2004', 'Aug-1994', 'Jul-2003',\n",
       "       'Apr-2000', 'Dec-2004', 'Jun-1995', 'Dec-2003', 'Jul-1994',\n",
       "       'Oct-1990', 'Dec-2001', 'Apr-1999', 'Feb-1995', 'May-2003',\n",
       "       'Oct-2002', 'Mar-2004', 'Aug-2003', 'Oct-2000', 'Nov-2004',\n",
       "       'Mar-2010', 'Mar-1996', 'May-1994', 'Jun-1996', 'Nov-1986',\n",
       "       'Jan-2001', 'Jan-2002', 'Mar-2001', 'Sep-2012', 'Apr-2006',\n",
       "       'May-1998', 'Dec-2002', 'Nov-2003', 'Oct-2005', 'May-1990',\n",
       "       'Jun-2003', 'Jun-2001', 'Jan-1998', 'Oct-1978', 'Feb-2001',\n",
       "       'Jun-2006', 'Aug-1993', 'Apr-2001', 'Nov-2001', 'Feb-2003',\n",
       "       'Jun-1993', 'Sep-1992', 'Nov-1992', 'Jun-1983', 'Oct-2001',\n",
       "       'Jul-1999', 'Sep-1997', 'Nov-1993', 'Feb-1993', 'Apr-2007',\n",
       "       'Nov-1999', 'Nov-2005', 'Dec-1992', 'Mar-1986', 'May-1989',\n",
       "       'Dec-2000', 'Mar-1991', 'Mar-2005', 'Jun-2010', 'Dec-1998',\n",
       "       'Sep-2001', 'Nov-2000', 'Jan-1994', 'Aug-2002', 'Jan-2011',\n",
       "       'Aug-2008', 'Jun-2005', 'Nov-1997', 'May-1996', 'Apr-2010',\n",
       "       'May-1993', 'Sep-2005', 'Jun-1992', 'Apr-1986', 'Aug-1996',\n",
       "       'Aug-1997', 'Jul-2005', 'May-2011', 'Sep-2002', 'Jan-1989',\n",
       "       'Aug-1999', 'Feb-1992', 'Sep-1999', 'Jul-2001', 'May-1980',\n",
       "       'Oct-2008', 'Nov-2007', 'Apr-1997', 'Jun-1986', 'Sep-1998',\n",
       "       'Jun-1982', 'Oct-1981', 'Feb-1994', 'Dec-1984', 'Nov-1991',\n",
       "       'Nov-2006', 'Aug-2000', 'Oct-2004', 'Jun-2011', 'Apr-1988',\n",
       "       'May-2004', 'Aug-1988', 'Mar-1994', 'Aug-2004', 'Dec-2006',\n",
       "       'Nov-1998', 'Oct-1997', 'Mar-1989', 'Feb-1988', 'Jul-1982',\n",
       "       'Nov-1995', 'Mar-1997', 'Oct-1994', 'Jul-1998', 'Jun-2002',\n",
       "       'May-1991', 'Oct-2011', 'Sep-2007', 'Jan-2007', 'Jan-2010',\n",
       "       'Mar-1987', 'Feb-1997', 'Oct-1986', 'Mar-2002', 'Jul-1993',\n",
       "       'Mar-2007', 'Aug-1989', 'Oct-1995', 'May-2007', 'Dec-1993',\n",
       "       'Jun-1989', 'Apr-2004', 'Jun-1997', 'Apr-1996', 'Apr-1992',\n",
       "       'Oct-1998', 'Mar-1983', 'Mar-1985', 'Oct-1993', 'Feb-2000',\n",
       "       'Apr-2003', 'Oct-1985', 'Jul-1985', 'May-1978', 'Sep-2010',\n",
       "       'Oct-1996', 'Sep-2009', 'Jun-1999', 'Jan-2000', 'Sep-1987',\n",
       "       'Aug-1998', 'Jan-1995', 'Jul-1988', 'May-2000', 'Jun-1981',\n",
       "       'Feb-1998', 'Nov-1996', 'Aug-1967', 'Dec-1999', 'Aug-2006',\n",
       "       'Nov-2009', 'Jul-2000', 'Mar-1988', 'Jul-1992', 'Jul-1991',\n",
       "       'Mar-1990', 'May-1986', 'Jun-1991', 'Dec-1987', 'Jul-1996',\n",
       "       'Jul-1997', 'Aug-1990', 'Jan-1988', 'Dec-2005', 'Mar-2003',\n",
       "       'Feb-1999', 'Nov-1990', 'Jun-2000', 'Dec-1996', 'Jan-2004',\n",
       "       'May-1999', 'Sep-1972', 'Jul-1981', 'Sep-1993', 'Feb-2009',\n",
       "       'Nov-2002', 'Nov-1969', 'Jan-1993', 'May-2005', 'Sep-1982',\n",
       "       'Apr-1990', 'Feb-1996', 'Mar-1993', 'Apr-1978', 'Jul-1995',\n",
       "       'May-1995', 'Apr-1991', 'Mar-1998', 'Aug-1991', 'Jul-2002',\n",
       "       'Oct-1989', 'Apr-1984', 'Dec-2009', 'Sep-2000', 'Jan-1982',\n",
       "       'Jun-1998', 'Jan-1996', 'Nov-1987', 'May-2010', 'Jul-1989',\n",
       "       'Jun-1987', 'Oct-1987', 'Aug-1995', 'Feb-2004', 'Oct-1991',\n",
       "       'Dec-1989', 'Oct-1992', 'Feb-2005', 'Apr-1993', 'Dec-1985',\n",
       "       'Sep-1979', 'Feb-2007', 'Nov-1989', 'Apr-2005', 'Mar-1978',\n",
       "       'Sep-1985', 'Nov-1994', 'Jun-2008', 'Apr-1987', 'Dec-1983',\n",
       "       'Dec-2007', 'May-1979', 'May-1992', 'Jul-1990', 'Mar-1995',\n",
       "       'Feb-2006', 'Feb-1985', 'Sep-1989', 'Aug-2009', 'Nov-2008',\n",
       "       'Nov-1981', 'Jan-2008', 'Aug-1987', 'Nov-1985', 'Dec-1965',\n",
       "       'Sep-1995', 'Jan-1986', 'Oct-2009', 'May-2002', 'Aug-1980',\n",
       "       'Sep-1977', 'Sep-1988', 'Oct-1984', 'May-1988', 'Aug-1984',\n",
       "       'Nov-1988', 'May-1974', 'Nov-1982', 'Oct-1983', 'Sep-1991',\n",
       "       'Feb-1984', 'Feb-1991', 'Jan-1981', 'Jun-1985', 'Dec-1976',\n",
       "       'Dec-1994', 'Dec-1980', 'Sep-1984', 'Jun-2007', 'Aug-1979',\n",
       "       'Sep-2008', 'Apr-1983', 'Mar-2006', 'Jun-1984', 'Jul-1984',\n",
       "       'Jan-1985', 'Dec-1995', 'Apr-2008', 'Mar-2008', 'Jan-1983',\n",
       "       'Dec-1986', 'Jun-1979', 'Dec-1975', 'Nov-1983', 'Jul-1986',\n",
       "       'Nov-1977', 'Dec-1982', 'May-1985', 'Feb-1983', 'Aug-1982',\n",
       "       'Oct-1980', 'Mar-1979', 'Jan-1978', 'Mar-1984', 'May-1983',\n",
       "       'Jul-2008', 'Apr-1982', 'Jul-1983', 'Feb-1990', 'Dec-2008',\n",
       "       'Jul-1975', 'Dec-1971', 'Feb-2008', 'Mar-2011', 'Feb-1987',\n",
       "       'Feb-1989', 'Aug-1985', 'Jul-2010', 'Apr-1989', 'Feb-1980',\n",
       "       'May-2006', 'Nov-2010', 'Apr-2009', 'Feb-2010', 'May-1976',\n",
       "       'Feb-1981', 'Jan-2012', 'Oct-1988', 'Nov-1984', 'May-1982',\n",
       "       'Oct-1975', 'Jun-1988', 'May-1972', 'Apr-2013', 'Sep-1990',\n",
       "       'Oct-1982', 'Feb-2013', 'Mar-1992', 'Aug-1981', 'Feb-2011',\n",
       "       'Nov-1974', 'Feb-1978', 'Sep-1983', 'Jul-2011', 'Nov-1979',\n",
       "       'Aug-1983', 'Apr-1985', 'Jul-2009', 'Jan-1971', 'Jul-1987',\n",
       "       'Aug-1978', 'Aug-2010', 'Oct-1976', 'Aug-1986', 'Jan-1991',\n",
       "       'Dec-1991', 'May-2009', 'Aug-2011', 'Jun-1964', 'Jan-1974',\n",
       "       'May-1981', 'Jun-1972', 'Jun-1978', 'Sep-1986', 'Jan-1987',\n",
       "       'Jan-1975', 'Feb-1982', 'Jan-1980', 'Feb-1977', 'Sep-1980',\n",
       "       'Nov-1978', 'Jul-1974', 'Jun-1970', 'Jan-1984', 'Nov-1980',\n",
       "       'May-1987', 'Sep-1970', 'Jan-1976', 'Feb-1986', 'Oct-2010',\n",
       "       'Apr-1979', 'Oct-1979', 'Jan-1979', 'Sep-2011', 'Jul-1979',\n",
       "       'Sep-1975', 'Mar-1981', 'Aug-1971', 'Apr-1980', 'Apr-1977',\n",
       "       'Jan-1965', 'Nov-1976', 'Nov-1970', 'Nov-2011', 'Nov-1973',\n",
       "       'Sep-1981', 'Jul-1980', 'Mar-2012', 'Dec-1974', 'Mar-1977',\n",
       "       'Dec-1977', 'May-2012', 'Dec-1979', 'Jan-2009', 'Jan-1970',\n",
       "       'Dec-2011', 'Feb-1979', 'Mar-1976', 'Jan-1973', 'Oct-1973',\n",
       "       'Mar-1969', 'Oct-1977', 'Mar-1975', 'Aug-1977', 'Jun-1969',\n",
       "       'Oct-1963', 'Nov-1960', 'Aug-1970', 'Feb-1975', 'Sep-1974',\n",
       "       'May-1966', 'Apr-1972', 'Apr-1973', 'Apr-2012', 'May-1975',\n",
       "       'Sep-1966', 'Feb-1969', 'Feb-2012', 'Jan-1961', 'Aug-1973',\n",
       "       'Feb-1972', 'Apr-1975', 'Jul-1978', 'Oct-1970', 'Mar-1980',\n",
       "       'Sep-1976', 'Apr-2011', 'Nov-2012', 'Aug-1976', 'Jun-1975',\n",
       "       'Apr-1981', 'Mar-2009', 'Jun-1977', 'Apr-1971', 'Sep-1969',\n",
       "       'Jun-2012', 'Apr-1976', 'Feb-1965', 'Jul-1977', 'Jun-1976',\n",
       "       'Mar-1973', 'Oct-1972', 'Dec-1978', 'Nov-1967', 'Sep-1967',\n",
       "       'Nov-1971', 'Jun-1980', 'May-1964', 'Feb-1971', 'May-1970',\n",
       "       'Apr-1970', 'Mar-1971', 'Apr-1969', 'Jan-1963', 'Jun-1974',\n",
       "       'Oct-1974', 'May-1977', 'Dec-1981', 'Jan-1969', 'Feb-1976',\n",
       "       'Mar-1970', 'Aug-1968', 'Feb-1970', 'Jun-1971', 'Jun-1963',\n",
       "       'Jun-2013', 'Mar-1972', 'Aug-2012', 'Jan-1967', 'Feb-1968',\n",
       "       'Dec-1969', 'Jan-1977', 'Jul-1970', 'Feb-1973', 'Mar-1974',\n",
       "       'Feb-1974', 'Dec-1960', 'Jul-1972', 'Jul-1973', 'Sep-1964',\n",
       "       'Jul-1965', 'Oct-1958', 'Jul-2012', 'Jun-1973', 'Sep-1978',\n",
       "       'Nov-1975', 'Jul-1963', 'Jan-1964', 'Dec-1968', 'May-1958',\n",
       "       'Sep-1973', 'May-1971', 'Dec-1972', 'Aug-1965', 'Jul-1976',\n",
       "       'Oct-2012', 'May-1973', 'Apr-1955', 'Apr-1966', 'Jan-1968',\n",
       "       'Nov-1968', 'Oct-1969', 'Mar-2013', 'Jan-2013', 'Jul-1967',\n",
       "       'Oct-1965', 'Jan-1966', 'Aug-1972', 'Jul-1969', 'May-1965',\n",
       "       'Jan-1953', 'Aug-1974', 'May-1968', 'Aug-1969', 'May-2013',\n",
       "       'Oct-1967', 'Aug-1975', 'Apr-1974', 'Sep-1971', 'Apr-1968',\n",
       "       'Jul-1971', 'Jan-1972', 'Nov-1965', 'Dec-1970', 'Dec-1973',\n",
       "       'Nov-1972', 'Oct-1959', 'Oct-1962', 'Apr-1967', 'Oct-1971',\n",
       "       'Nov-1963', 'Oct-1968', 'Dec-1962', 'Jun-1960', 'Jan-1960',\n",
       "       'Sep-2013', 'May-1969', 'Dec-1966', 'Feb-1967', 'Dec-1967',\n",
       "       'Aug-1961', 'Sep-1968', 'Oct-1964', 'Aug-1966', 'Jul-1966',\n",
       "       'Apr-1964', 'Sep-1962', 'Jul-2013', 'Jun-1967', 'Apr-1965',\n",
       "       'Jun-1966', 'Jan-1955', 'Jan-1962', 'Feb-1964', 'Aug-1958',\n",
       "       'Jul-1968', 'May-1967', 'Dec-1959', 'Sep-1963', 'Dec-2012',\n",
       "       'Dec-1963', 'Jan-1944', 'Jun-1965', 'May-1962', 'Mar-1967',\n",
       "       'Mar-1968', 'Jan-1956', 'Sep-1965', 'Dec-1951', 'Aug-2013',\n",
       "       'Jun-1968', 'Mar-1965', 'Oct-1957', 'Nov-1966', 'Dec-1958',\n",
       "       'Feb-1957', 'Feb-1963', 'Mar-1963', 'Jan-1959', 'May-1955',\n",
       "       'Feb-1966', 'Nov-1950', 'Mar-1964', 'Jan-1958', 'Nov-1964',\n",
       "       'Sep-1961', 'Apr-1963', 'Jul-1964', 'Nov-1955', 'Jun-1957',\n",
       "       'Dec-1964', 'Nov-1953', 'Apr-1961', 'Mar-1966', 'Oct-1960',\n",
       "       'Jul-1959', 'Jul-1961', 'Jan-1954', 'Dec-1956', 'Mar-1962',\n",
       "       'Jul-1960', 'Sep-1959', 'Dec-1950', 'Oct-1966', 'Apr-1960',\n",
       "       'Jul-1958', 'Nov-1954', 'Nov-1957', 'Jun-1962', 'May-1963',\n",
       "       'Jul-1955', 'Oct-1950', 'Dec-1961', 'Aug-1951', 'Oct-2013',\n",
       "       'Aug-1964', 'Apr-1962', 'Jun-1955', 'Jul-1962', 'Jan-1957',\n",
       "       'Nov-1958', 'Jul-1951', 'Nov-1959', 'Apr-1958', 'Mar-1960',\n",
       "       'Sep-1957', 'Nov-1961', 'Sep-1960', 'May-1959', 'Jun-1959',\n",
       "       'Feb-1962', 'Sep-1956', 'Aug-1960', 'Feb-1961', 'Jan-1948',\n",
       "       'Aug-1963', 'Oct-1961', 'Aug-1962', 'Aug-1959'], dtype=object)"
      ]
     },
     "execution_count": 282,
     "metadata": {},
     "output_type": "execute_result"
    }
   ],
   "source": [
    "df['earliest_cr_line'].unique()"
   ]
  },
  {
   "cell_type": "code",
   "execution_count": 283,
   "id": "09206241",
   "metadata": {},
   "outputs": [],
   "source": [
    "df['earliest_cr_line'] = pd.DatetimeIndex(df['earliest_cr_line'])"
   ]
  },
  {
   "cell_type": "code",
   "execution_count": 284,
   "id": "0e5af97c",
   "metadata": {},
   "outputs": [],
   "source": [
    "years = []\n",
    "\n",
    "for i in df['earliest_cr_line'].unique():\n",
    "    \n",
    "    years.append(i.astype('datetime64[Y]').astype(int) + 1970)"
   ]
  },
  {
   "cell_type": "code",
   "execution_count": 285,
   "id": "7e7231bf",
   "metadata": {},
   "outputs": [],
   "source": [
    "df['earliest_cr_line'] = df['earliest_cr_line'].replace(df['earliest_cr_line'].unique(), years)"
   ]
  },
  {
   "cell_type": "code",
   "execution_count": 286,
   "id": "58539b78",
   "metadata": {},
   "outputs": [
    {
     "data": {
      "text/plain": [
       "<AxesSubplot:xlabel='loan_status', ylabel='earliest_cr_line'>"
      ]
     },
     "execution_count": 286,
     "metadata": {},
     "output_type": "execute_result"
    },
    {
     "data": {
      "image/png": "[encoded data removed]",
      "text/plain": [
       "<Figure size 432x288 with 1 Axes>"
      ]
     },
     "metadata": {
      "needs_background": "light"
     },
     "output_type": "display_data"
    }
   ],
   "source": [
    "sns.boxplot(x=df['loan_status'], y=df['earliest_cr_line'])"
   ]
  },
  {
   "cell_type": "code",
   "execution_count": 287,
   "id": "79d340d7",
   "metadata": {},
   "outputs": [
    {
     "data": {
      "text/plain": [
       "0.038927904317216024"
      ]
     },
     "execution_count": 287,
     "metadata": {},
     "output_type": "execute_result"
    }
   ],
   "source": [
    "df['loan_status'].corr(df['earliest_cr_line'])"
   ]
  },
  {
   "cell_type": "code",
   "execution_count": 288,
   "id": "2697e031",
   "metadata": {},
   "outputs": [
    {
     "name": "stdout",
     "output_type": "stream",
     "text": [
      "<class 'pandas.core.frame.DataFrame'>\n",
      "RangeIndex: 396030 entries, 0 to 396029\n",
      "Data columns (total 27 columns):\n",
      " #   Column                Non-Null Count   Dtype  \n",
      "---  ------                --------------   -----  \n",
      " 0   loan_amnt             396030 non-null  float64\n",
      " 1   int_rate              396030 non-null  float64\n",
      " 2   installment           396030 non-null  float64\n",
      " 3   grade                 396030 non-null  int64  \n",
      " 4   sub_grade             396030 non-null  int64  \n",
      " 5   emp_title             373103 non-null  object \n",
      " 6   emp_length            396030 non-null  float64\n",
      " 7   home_ownership        396030 non-null  int64  \n",
      " 8   annual_inc            396030 non-null  float64\n",
      " 9   verification_status   396030 non-null  int64  \n",
      " 10  issue_d               396030 non-null  int64  \n",
      " 11  loan_status           396030 non-null  int64  \n",
      " 12  purpose               396030 non-null  int64  \n",
      " 13  title                 394275 non-null  object \n",
      " 14  dti                   396030 non-null  float64\n",
      " 15  earliest_cr_line      396030 non-null  int64  \n",
      " 16  open_acc              396030 non-null  float64\n",
      " 17  pub_rec               396030 non-null  float64\n",
      " 18  revol_bal             396030 non-null  float64\n",
      " 19  revol_util            395754 non-null  float64\n",
      " 20  total_acc             396030 non-null  float64\n",
      " 21  initial_list_status   396030 non-null  object \n",
      " 22  application_type      396030 non-null  object \n",
      " 23  mort_acc              358235 non-null  float64\n",
      " 24  pub_rec_bankruptcies  395495 non-null  float64\n",
      " 25  address               396030 non-null  object \n",
      " 26  term_ 60 months       396030 non-null  uint8  \n",
      "dtypes: float64(13), int64(8), object(5), uint8(1)\n",
      "memory usage: 78.9+ MB\n"
     ]
    }
   ],
   "source": [
    "df.info()"
   ]
  },
  {
   "cell_type": "code",
   "execution_count": 289,
   "id": "4b4797fe",
   "metadata": {},
   "outputs": [
    {
     "data": {
      "text/plain": [
       "array(['w', 'f'], dtype=object)"
      ]
     },
     "execution_count": 289,
     "metadata": {},
     "output_type": "execute_result"
    }
   ],
   "source": [
    "df['initial_list_status'].unique()"
   ]
  },
  {
   "cell_type": "code",
   "execution_count": 290,
   "id": "60de3aef",
   "metadata": {},
   "outputs": [],
   "source": [
    "df['initial_list_status'] = df['initial_list_status'].replace(['w','f'], [0,1])"
   ]
  },
  {
   "cell_type": "code",
   "execution_count": 291,
   "id": "19ec2f7a",
   "metadata": {},
   "outputs": [
    {
     "data": {
      "text/plain": [
       "array(['INDIVIDUAL', 'JOINT', 'DIRECT_PAY'], dtype=object)"
      ]
     },
     "execution_count": 291,
     "metadata": {},
     "output_type": "execute_result"
    }
   ],
   "source": [
    "df['application_type'].unique()"
   ]
  },
  {
   "cell_type": "code",
   "execution_count": 292,
   "id": "64be5651",
   "metadata": {},
   "outputs": [],
   "source": [
    "df['application_type'] = df['application_type'].replace(df['application_type'].unique(), [0,1,2])"
   ]
  },
  {
   "cell_type": "code",
   "execution_count": 300,
   "id": "735a10bf",
   "metadata": {},
   "outputs": [
    {
     "data": {
      "text/plain": [
       "393700"
      ]
     },
     "execution_count": 300,
     "metadata": {},
     "output_type": "execute_result"
    }
   ],
   "source": [
    "len(df['address'].unique())"
   ]
  },
  {
   "cell_type": "code",
   "execution_count": 307,
   "id": "88b92567",
   "metadata": {},
   "outputs": [],
   "source": [
    "zipcodes = []\n",
    "\n",
    "for i in df['address']:\n",
    "    \n",
    "    zipcodes.append(i[len(i)-5:])"
   ]
  },
  {
   "cell_type": "code",
   "execution_count": 308,
   "id": "a201c6ae",
   "metadata": {
    "scrolled": true
   },
   "outputs": [
    {
     "data": {
      "text/plain": [
       "396030"
      ]
     },
     "execution_count": 308,
     "metadata": {},
     "output_type": "execute_result"
    }
   ],
   "source": [
    "len(zipcodes)"
   ]
  },
  {
   "cell_type": "code",
   "execution_count": 309,
   "id": "ee14a48a",
   "metadata": {},
   "outputs": [],
   "source": [
    "df['zipcode'] = zipcodes"
   ]
  },
  {
   "cell_type": "code",
   "execution_count": 310,
   "id": "9ed559dd",
   "metadata": {},
   "outputs": [],
   "source": [
    "zipcodes = pd.get_dummies(df['zipcode'], drop_first = True)\n",
    "df = df.drop(['address', 'zipcode'], axis=1)\n",
    "df = pd.concat([df,zipcodes],axis=1)"
   ]
  },
  {
   "cell_type": "code",
   "execution_count": 311,
   "id": "9356d94e",
   "metadata": {},
   "outputs": [],
   "source": [
    "df = df.drop([ 'emp_title', 'title'], axis=1)"
   ]
  },
  {
   "cell_type": "code",
   "execution_count": 312,
   "id": "8caf5bf4",
   "metadata": {},
   "outputs": [
    {
     "name": "stdout",
     "output_type": "stream",
     "text": [
      "<class 'pandas.core.frame.DataFrame'>\n",
      "RangeIndex: 396030 entries, 0 to 396029\n",
      "Data columns (total 33 columns):\n",
      " #   Column                Non-Null Count   Dtype  \n",
      "---  ------                --------------   -----  \n",
      " 0   loan_amnt             396030 non-null  float64\n",
      " 1   int_rate              396030 non-null  float64\n",
      " 2   installment           396030 non-null  float64\n",
      " 3   grade                 396030 non-null  int64  \n",
      " 4   sub_grade             396030 non-null  int64  \n",
      " 5   emp_length            396030 non-null  float64\n",
      " 6   home_ownership        396030 non-null  int64  \n",
      " 7   annual_inc            396030 non-null  float64\n",
      " 8   verification_status   396030 non-null  int64  \n",
      " 9   issue_d               396030 non-null  int64  \n",
      " 10  loan_status           396030 non-null  int64  \n",
      " 11  purpose               396030 non-null  int64  \n",
      " 12  dti                   396030 non-null  float64\n",
      " 13  earliest_cr_line      396030 non-null  int64  \n",
      " 14  open_acc              396030 non-null  float64\n",
      " 15  pub_rec               396030 non-null  float64\n",
      " 16  revol_bal             396030 non-null  float64\n",
      " 17  revol_util            395754 non-null  float64\n",
      " 18  total_acc             396030 non-null  float64\n",
      " 19  initial_list_status   396030 non-null  int64  \n",
      " 20  application_type      396030 non-null  int64  \n",
      " 21  mort_acc              358235 non-null  float64\n",
      " 22  pub_rec_bankruptcies  395495 non-null  float64\n",
      " 23  term_ 60 months       396030 non-null  uint8  \n",
      " 24  05113                 396030 non-null  uint8  \n",
      " 25  11650                 396030 non-null  uint8  \n",
      " 26  22690                 396030 non-null  uint8  \n",
      " 27  29597                 396030 non-null  uint8  \n",
      " 28  30723                 396030 non-null  uint8  \n",
      " 29  48052                 396030 non-null  uint8  \n",
      " 30  70466                 396030 non-null  uint8  \n",
      " 31  86630                 396030 non-null  uint8  \n",
      " 32  93700                 396030 non-null  uint8  \n",
      "dtypes: float64(13), int64(10), uint8(10)\n",
      "memory usage: 73.3 MB\n"
     ]
    }
   ],
   "source": [
    "df.info()"
   ]
  },
  {
   "cell_type": "code",
   "execution_count": 313,
   "id": "4ecfcee8",
   "metadata": {},
   "outputs": [
    {
     "data": {
      "text/plain": [
       "(396030, 33)"
      ]
     },
     "execution_count": 313,
     "metadata": {},
     "output_type": "execute_result"
    }
   ],
   "source": [
    "df.shape"
   ]
  },
  {
   "cell_type": "code",
   "execution_count": 314,
   "id": "a8769ead",
   "metadata": {},
   "outputs": [
    {
     "data": {
      "text/plain": [
       "<bound method DataFrame.to_numpy of                                                             Description\n",
       "LoanStatNew                                                            \n",
       "loan_amnt             The listed amount of the loan applied for by t...\n",
       "term                  The number of payments on the loan. Values are...\n",
       "int_rate                                      Interest Rate on the loan\n",
       "installment           The monthly payment owed by the borrower if th...\n",
       "grade                                            LC assigned loan grade\n",
       "sub_grade                                     LC assigned loan subgrade\n",
       "emp_title             The job title supplied by the Borrower when ap...\n",
       "emp_length            Employment length in years. Possible values ar...\n",
       "home_ownership        The home ownership status provided by the borr...\n",
       "annual_inc            The self-reported annual income provided by th...\n",
       "verification_status   Indicates if income was verified by LC, not ve...\n",
       "issue_d                             The month which the loan was funded\n",
       "loan_status                                  Current status of the loan\n",
       "purpose               A category provided by the borrower for the lo...\n",
       "title                           The loan title provided by the borrower\n",
       "zip_code              The first 3 numbers of the zip code provided b...\n",
       "addr_state            The state provided by the borrower in the loan...\n",
       "dti                   A ratio calculated using the borrower’s total ...\n",
       "earliest_cr_line      The month the borrower's earliest reported cre...\n",
       "open_acc              The number of open credit lines in the borrowe...\n",
       "pub_rec                             Number of derogatory public records\n",
       "revol_bal                                Total credit revolving balance\n",
       "revol_util            Revolving line utilization rate, or the amount...\n",
       "total_acc             The total number of credit lines currently in ...\n",
       "initial_list_status   The initial listing status of the loan. Possib...\n",
       "application_type      Indicates whether the loan is an individual ap...\n",
       "mort_acc                                   Number of mortgage accounts.\n",
       "pub_rec_bankruptcies               Number of public record bankruptcies>"
      ]
     },
     "execution_count": 314,
     "metadata": {},
     "output_type": "execute_result"
    }
   ],
   "source": [
    "data.to_numpy"
   ]
  },
  {
   "cell_type": "code",
   "execution_count": 315,
   "id": "16ef1172",
   "metadata": {},
   "outputs": [
    {
     "data": {
      "text/plain": [
       "<AxesSubplot:xlabel='mort_acc', ylabel='Count'>"
      ]
     },
     "execution_count": 315,
     "metadata": {},
     "output_type": "execute_result"
    },
    {
     "data": {
      "image/png": "[encoded data removed]",
      "text/plain": [
       "<Figure size 432x288 with 1 Axes>"
      ]
     },
     "metadata": {
      "needs_background": "light"
     },
     "output_type": "display_data"
    }
   ],
   "source": [
    "sns.histplot(df['mort_acc'])"
   ]
  },
  {
   "cell_type": "code",
   "execution_count": 316,
   "id": "8228a4e4",
   "metadata": {},
   "outputs": [],
   "source": [
    "df['mort_acc'] = df[\"mort_acc\"].fillna(0.0)"
   ]
  },
  {
   "cell_type": "code",
   "execution_count": 317,
   "id": "b5d9262e",
   "metadata": {
    "scrolled": true
   },
   "outputs": [
    {
     "data": {
      "text/plain": [
       "open_acc\n",
       "0.0     0.500000\n",
       "1.0     0.929412\n",
       "2.0     0.469500\n",
       "3.0     0.643738\n",
       "4.0     0.872164\n",
       "          ...   \n",
       "56.0    1.500000\n",
       "57.0    3.000000\n",
       "58.0    6.000000\n",
       "76.0    1.000000\n",
       "90.0    2.000000\n",
       "Name: mort_acc, Length: 61, dtype: float64"
      ]
     },
     "execution_count": 317,
     "metadata": {},
     "output_type": "execute_result"
    }
   ],
   "source": [
    "df.groupby('open_acc').mean()['mort_acc']"
   ]
  },
  {
   "cell_type": "code",
   "execution_count": 318,
   "id": "1c312a56",
   "metadata": {},
   "outputs": [
    {
     "data": {
      "text/plain": [
       "<AxesSubplot:xlabel='pub_rec_bankruptcies', ylabel='Count'>"
      ]
     },
     "execution_count": 318,
     "metadata": {},
     "output_type": "execute_result"
    },
    {
     "data": {
      "image/png": "[encoded data removed]",
      "text/plain": [
       "<Figure size 432x288 with 1 Axes>"
      ]
     },
     "metadata": {
      "needs_background": "light"
     },
     "output_type": "display_data"
    }
   ],
   "source": [
    "sns.histplot(df['pub_rec_bankruptcies'])"
   ]
  },
  {
   "cell_type": "code",
   "execution_count": 319,
   "id": "f3bdb261",
   "metadata": {},
   "outputs": [],
   "source": [
    "df['pub_rec_bankruptcies'] = df['pub_rec_bankruptcies'].fillna(0)"
   ]
  },
  {
   "cell_type": "code",
   "execution_count": 320,
   "id": "7c3782c8",
   "metadata": {},
   "outputs": [
    {
     "name": "stdout",
     "output_type": "stream",
     "text": [
      "<class 'pandas.core.frame.DataFrame'>\n",
      "RangeIndex: 396030 entries, 0 to 396029\n",
      "Data columns (total 33 columns):\n",
      " #   Column                Non-Null Count   Dtype  \n",
      "---  ------                --------------   -----  \n",
      " 0   loan_amnt             396030 non-null  float64\n",
      " 1   int_rate              396030 non-null  float64\n",
      " 2   installment           396030 non-null  float64\n",
      " 3   grade                 396030 non-null  int64  \n",
      " 4   sub_grade             396030 non-null  int64  \n",
      " 5   emp_length            396030 non-null  float64\n",
      " 6   home_ownership        396030 non-null  int64  \n",
      " 7   annual_inc            396030 non-null  float64\n",
      " 8   verification_status   396030 non-null  int64  \n",
      " 9   issue_d               396030 non-null  int64  \n",
      " 10  loan_status           396030 non-null  int64  \n",
      " 11  purpose               396030 non-null  int64  \n",
      " 12  dti                   396030 non-null  float64\n",
      " 13  earliest_cr_line      396030 non-null  int64  \n",
      " 14  open_acc              396030 non-null  float64\n",
      " 15  pub_rec               396030 non-null  float64\n",
      " 16  revol_bal             396030 non-null  float64\n",
      " 17  revol_util            395754 non-null  float64\n",
      " 18  total_acc             396030 non-null  float64\n",
      " 19  initial_list_status   396030 non-null  int64  \n",
      " 20  application_type      396030 non-null  int64  \n",
      " 21  mort_acc              396030 non-null  float64\n",
      " 22  pub_rec_bankruptcies  396030 non-null  float64\n",
      " 23  term_ 60 months       396030 non-null  uint8  \n",
      " 24  05113                 396030 non-null  uint8  \n",
      " 25  11650                 396030 non-null  uint8  \n",
      " 26  22690                 396030 non-null  uint8  \n",
      " 27  29597                 396030 non-null  uint8  \n",
      " 28  30723                 396030 non-null  uint8  \n",
      " 29  48052                 396030 non-null  uint8  \n",
      " 30  70466                 396030 non-null  uint8  \n",
      " 31  86630                 396030 non-null  uint8  \n",
      " 32  93700                 396030 non-null  uint8  \n",
      "dtypes: float64(13), int64(10), uint8(10)\n",
      "memory usage: 73.3 MB\n"
     ]
    }
   ],
   "source": [
    "df.info()"
   ]
  },
  {
   "cell_type": "code",
   "execution_count": 321,
   "id": "84833106",
   "metadata": {},
   "outputs": [
    {
     "data": {
      "text/plain": [
       "<AxesSubplot:xlabel='revol_util', ylabel='Count'>"
      ]
     },
     "execution_count": 321,
     "metadata": {},
     "output_type": "execute_result"
    },
    {
     "data": {
      "image/png": "[encoded data removed]",
      "text/plain": [
       "<Figure size 432x288 with 1 Axes>"
      ]
     },
     "metadata": {
      "needs_background": "light"
     },
     "output_type": "display_data"
    }
   ],
   "source": [
    "sns.histplot(df['revol_util'])"
   ]
  },
  {
   "cell_type": "code",
   "execution_count": 322,
   "id": "b67a3f07",
   "metadata": {},
   "outputs": [
    {
     "data": {
      "text/plain": [
       "nan"
      ]
     },
     "execution_count": 322,
     "metadata": {},
     "output_type": "execute_result"
    }
   ],
   "source": [
    "np.median(df['revol_util'])"
   ]
  },
  {
   "cell_type": "code",
   "execution_count": 323,
   "id": "db87cff5",
   "metadata": {},
   "outputs": [
    {
     "data": {
      "text/plain": [
       "53.79174863677942"
      ]
     },
     "execution_count": 323,
     "metadata": {},
     "output_type": "execute_result"
    }
   ],
   "source": [
    "df['revol_util'].mean()"
   ]
  },
  {
   "cell_type": "code",
   "execution_count": 324,
   "id": "da6fd8fb",
   "metadata": {},
   "outputs": [],
   "source": [
    "df['revol_util'] = df['revol_util'].fillna(df['revol_util'].mean())"
   ]
  },
  {
   "cell_type": "code",
   "execution_count": 325,
   "id": "bc812cfe",
   "metadata": {},
   "outputs": [
    {
     "name": "stdout",
     "output_type": "stream",
     "text": [
      "<class 'pandas.core.frame.DataFrame'>\n",
      "RangeIndex: 396030 entries, 0 to 396029\n",
      "Data columns (total 33 columns):\n",
      " #   Column                Non-Null Count   Dtype  \n",
      "---  ------                --------------   -----  \n",
      " 0   loan_amnt             396030 non-null  float64\n",
      " 1   int_rate              396030 non-null  float64\n",
      " 2   installment           396030 non-null  float64\n",
      " 3   grade                 396030 non-null  int64  \n",
      " 4   sub_grade             396030 non-null  int64  \n",
      " 5   emp_length            396030 non-null  float64\n",
      " 6   home_ownership        396030 non-null  int64  \n",
      " 7   annual_inc            396030 non-null  float64\n",
      " 8   verification_status   396030 non-null  int64  \n",
      " 9   issue_d               396030 non-null  int64  \n",
      " 10  loan_status           396030 non-null  int64  \n",
      " 11  purpose               396030 non-null  int64  \n",
      " 12  dti                   396030 non-null  float64\n",
      " 13  earliest_cr_line      396030 non-null  int64  \n",
      " 14  open_acc              396030 non-null  float64\n",
      " 15  pub_rec               396030 non-null  float64\n",
      " 16  revol_bal             396030 non-null  float64\n",
      " 17  revol_util            396030 non-null  float64\n",
      " 18  total_acc             396030 non-null  float64\n",
      " 19  initial_list_status   396030 non-null  int64  \n",
      " 20  application_type      396030 non-null  int64  \n",
      " 21  mort_acc              396030 non-null  float64\n",
      " 22  pub_rec_bankruptcies  396030 non-null  float64\n",
      " 23  term_ 60 months       396030 non-null  uint8  \n",
      " 24  05113                 396030 non-null  uint8  \n",
      " 25  11650                 396030 non-null  uint8  \n",
      " 26  22690                 396030 non-null  uint8  \n",
      " 27  29597                 396030 non-null  uint8  \n",
      " 28  30723                 396030 non-null  uint8  \n",
      " 29  48052                 396030 non-null  uint8  \n",
      " 30  70466                 396030 non-null  uint8  \n",
      " 31  86630                 396030 non-null  uint8  \n",
      " 32  93700                 396030 non-null  uint8  \n",
      "dtypes: float64(13), int64(10), uint8(10)\n",
      "memory usage: 73.3 MB\n"
     ]
    }
   ],
   "source": [
    "df.info()"
   ]
  },
  {
   "cell_type": "code",
   "execution_count": 326,
   "id": "cbd6f213",
   "metadata": {},
   "outputs": [
    {
     "data": {
      "text/plain": [
       "<AxesSubplot:xlabel='pub_rec_bankruptcies', ylabel='Count'>"
      ]
     },
     "execution_count": 326,
     "metadata": {},
     "output_type": "execute_result"
    },
    {
     "data": {
      "image/png": "[encoded data removed]",
      "text/plain": [
       "<Figure size 432x288 with 1 Axes>"
      ]
     },
     "metadata": {
      "needs_background": "light"
     },
     "output_type": "display_data"
    }
   ],
   "source": [
    "sns.histplot(df['pub_rec_bankruptcies'])"
   ]
  },
  {
   "cell_type": "code",
   "execution_count": 327,
   "id": "1b4831f6",
   "metadata": {},
   "outputs": [
    {
     "data": {
      "text/plain": [
       "0.0    350915\n",
       "1.0     42790\n",
       "2.0      1847\n",
       "3.0       351\n",
       "4.0        82\n",
       "5.0        32\n",
       "6.0         7\n",
       "7.0         4\n",
       "8.0         2\n",
       "Name: pub_rec_bankruptcies, dtype: int64"
      ]
     },
     "execution_count": 327,
     "metadata": {},
     "output_type": "execute_result"
    }
   ],
   "source": [
    "df['pub_rec_bankruptcies'].value_counts()"
   ]
  },
  {
   "cell_type": "code",
   "execution_count": 328,
   "id": "d071eb5d",
   "metadata": {},
   "outputs": [
    {
     "name": "stdout",
     "output_type": "stream",
     "text": [
      "<class 'pandas.core.frame.DataFrame'>\n",
      "RangeIndex: 396030 entries, 0 to 396029\n",
      "Data columns (total 33 columns):\n",
      " #   Column                Non-Null Count   Dtype  \n",
      "---  ------                --------------   -----  \n",
      " 0   loan_amnt             396030 non-null  float64\n",
      " 1   int_rate              396030 non-null  float64\n",
      " 2   installment           396030 non-null  float64\n",
      " 3   grade                 396030 non-null  int64  \n",
      " 4   sub_grade             396030 non-null  int64  \n",
      " 5   emp_length            396030 non-null  float64\n",
      " 6   home_ownership        396030 non-null  int64  \n",
      " 7   annual_inc            396030 non-null  float64\n",
      " 8   verification_status   396030 non-null  int64  \n",
      " 9   issue_d               396030 non-null  int64  \n",
      " 10  loan_status           396030 non-null  int64  \n",
      " 11  purpose               396030 non-null  int64  \n",
      " 12  dti                   396030 non-null  float64\n",
      " 13  earliest_cr_line      396030 non-null  int64  \n",
      " 14  open_acc              396030 non-null  float64\n",
      " 15  pub_rec               396030 non-null  float64\n",
      " 16  revol_bal             396030 non-null  float64\n",
      " 17  revol_util            396030 non-null  float64\n",
      " 18  total_acc             396030 non-null  float64\n",
      " 19  initial_list_status   396030 non-null  int64  \n",
      " 20  application_type      396030 non-null  int64  \n",
      " 21  mort_acc              396030 non-null  float64\n",
      " 22  pub_rec_bankruptcies  396030 non-null  float64\n",
      " 23  term_ 60 months       396030 non-null  uint8  \n",
      " 24  05113                 396030 non-null  uint8  \n",
      " 25  11650                 396030 non-null  uint8  \n",
      " 26  22690                 396030 non-null  uint8  \n",
      " 27  29597                 396030 non-null  uint8  \n",
      " 28  30723                 396030 non-null  uint8  \n",
      " 29  48052                 396030 non-null  uint8  \n",
      " 30  70466                 396030 non-null  uint8  \n",
      " 31  86630                 396030 non-null  uint8  \n",
      " 32  93700                 396030 non-null  uint8  \n",
      "dtypes: float64(13), int64(10), uint8(10)\n",
      "memory usage: 73.3 MB\n"
     ]
    }
   ],
   "source": [
    "df.info()"
   ]
  },
  {
   "cell_type": "code",
   "execution_count": 329,
   "id": "c0733201",
   "metadata": {},
   "outputs": [],
   "source": [
    "df['emp_length'] = df['emp_length'].fillna(df['emp_length'].mean())"
   ]
  },
  {
   "cell_type": "code",
   "execution_count": 330,
   "id": "56055abe",
   "metadata": {},
   "outputs": [],
   "source": [
    "from tensorflow.keras.models import Sequential"
   ]
  },
  {
   "cell_type": "code",
   "execution_count": 331,
   "id": "e9534ba9",
   "metadata": {},
   "outputs": [],
   "source": [
    "from tensorflow.keras.layers import Dense,Activation,Dropout"
   ]
  },
  {
   "cell_type": "code",
   "execution_count": 332,
   "id": "b0dd64f5",
   "metadata": {},
   "outputs": [],
   "source": [
    "from sklearn.model_selection import train_test_split"
   ]
  },
  {
   "cell_type": "code",
   "execution_count": 333,
   "id": "acf3547c",
   "metadata": {
    "scrolled": true
   },
   "outputs": [
    {
     "data": {
      "text/html": [
       "<div>\n",
       "<style scoped>\n",
       "    .dataframe tbody tr th:only-of-type {\n",
       "        vertical-align: middle;\n",
       "    }\n",
       "\n",
       "    .dataframe tbody tr th {\n",
       "        vertical-align: top;\n",
       "    }\n",
       "\n",
       "    .dataframe thead th {\n",
       "        text-align: right;\n",
       "    }\n",
       "</style>\n",
       "<table border=\"1\" class=\"dataframe\">\n",
       "  <thead>\n",
       "    <tr style=\"text-align: right;\">\n",
       "      <th></th>\n",
       "      <th>loan_amnt</th>\n",
       "      <th>int_rate</th>\n",
       "      <th>installment</th>\n",
       "      <th>grade</th>\n",
       "      <th>sub_grade</th>\n",
       "      <th>emp_length</th>\n",
       "      <th>home_ownership</th>\n",
       "      <th>annual_inc</th>\n",
       "      <th>verification_status</th>\n",
       "      <th>issue_d</th>\n",
       "      <th>...</th>\n",
       "      <th>term_ 60 months</th>\n",
       "      <th>05113</th>\n",
       "      <th>11650</th>\n",
       "      <th>22690</th>\n",
       "      <th>29597</th>\n",
       "      <th>30723</th>\n",
       "      <th>48052</th>\n",
       "      <th>70466</th>\n",
       "      <th>86630</th>\n",
       "      <th>93700</th>\n",
       "    </tr>\n",
       "  </thead>\n",
       "  <tbody>\n",
       "    <tr>\n",
       "      <th>0</th>\n",
       "      <td>10000.0</td>\n",
       "      <td>11.44</td>\n",
       "      <td>329.48</td>\n",
       "      <td>1</td>\n",
       "      <td>8</td>\n",
       "      <td>10.0</td>\n",
       "      <td>4</td>\n",
       "      <td>117000.0</td>\n",
       "      <td>0</td>\n",
       "      <td>2015</td>\n",
       "      <td>...</td>\n",
       "      <td>0</td>\n",
       "      <td>0</td>\n",
       "      <td>0</td>\n",
       "      <td>1</td>\n",
       "      <td>0</td>\n",
       "      <td>0</td>\n",
       "      <td>0</td>\n",
       "      <td>0</td>\n",
       "      <td>0</td>\n",
       "      <td>0</td>\n",
       "    </tr>\n",
       "    <tr>\n",
       "      <th>1</th>\n",
       "      <td>8000.0</td>\n",
       "      <td>11.99</td>\n",
       "      <td>265.68</td>\n",
       "      <td>1</td>\n",
       "      <td>9</td>\n",
       "      <td>4.0</td>\n",
       "      <td>2</td>\n",
       "      <td>65000.0</td>\n",
       "      <td>0</td>\n",
       "      <td>2015</td>\n",
       "      <td>...</td>\n",
       "      <td>0</td>\n",
       "      <td>1</td>\n",
       "      <td>0</td>\n",
       "      <td>0</td>\n",
       "      <td>0</td>\n",
       "      <td>0</td>\n",
       "      <td>0</td>\n",
       "      <td>0</td>\n",
       "      <td>0</td>\n",
       "      <td>0</td>\n",
       "    </tr>\n",
       "    <tr>\n",
       "      <th>2</th>\n",
       "      <td>15600.0</td>\n",
       "      <td>10.49</td>\n",
       "      <td>506.97</td>\n",
       "      <td>1</td>\n",
       "      <td>7</td>\n",
       "      <td>0.0</td>\n",
       "      <td>4</td>\n",
       "      <td>43057.0</td>\n",
       "      <td>1</td>\n",
       "      <td>2015</td>\n",
       "      <td>...</td>\n",
       "      <td>0</td>\n",
       "      <td>1</td>\n",
       "      <td>0</td>\n",
       "      <td>0</td>\n",
       "      <td>0</td>\n",
       "      <td>0</td>\n",
       "      <td>0</td>\n",
       "      <td>0</td>\n",
       "      <td>0</td>\n",
       "      <td>0</td>\n",
       "    </tr>\n",
       "    <tr>\n",
       "      <th>3</th>\n",
       "      <td>7200.0</td>\n",
       "      <td>6.49</td>\n",
       "      <td>220.65</td>\n",
       "      <td>0</td>\n",
       "      <td>1</td>\n",
       "      <td>6.0</td>\n",
       "      <td>4</td>\n",
       "      <td>54000.0</td>\n",
       "      <td>0</td>\n",
       "      <td>2014</td>\n",
       "      <td>...</td>\n",
       "      <td>0</td>\n",
       "      <td>0</td>\n",
       "      <td>0</td>\n",
       "      <td>0</td>\n",
       "      <td>0</td>\n",
       "      <td>0</td>\n",
       "      <td>0</td>\n",
       "      <td>0</td>\n",
       "      <td>0</td>\n",
       "      <td>0</td>\n",
       "    </tr>\n",
       "    <tr>\n",
       "      <th>4</th>\n",
       "      <td>24375.0</td>\n",
       "      <td>17.27</td>\n",
       "      <td>609.33</td>\n",
       "      <td>2</td>\n",
       "      <td>14</td>\n",
       "      <td>9.0</td>\n",
       "      <td>2</td>\n",
       "      <td>55000.0</td>\n",
       "      <td>2</td>\n",
       "      <td>2013</td>\n",
       "      <td>...</td>\n",
       "      <td>1</td>\n",
       "      <td>0</td>\n",
       "      <td>1</td>\n",
       "      <td>0</td>\n",
       "      <td>0</td>\n",
       "      <td>0</td>\n",
       "      <td>0</td>\n",
       "      <td>0</td>\n",
       "      <td>0</td>\n",
       "      <td>0</td>\n",
       "    </tr>\n",
       "    <tr>\n",
       "      <th>...</th>\n",
       "      <td>...</td>\n",
       "      <td>...</td>\n",
       "      <td>...</td>\n",
       "      <td>...</td>\n",
       "      <td>...</td>\n",
       "      <td>...</td>\n",
       "      <td>...</td>\n",
       "      <td>...</td>\n",
       "      <td>...</td>\n",
       "      <td>...</td>\n",
       "      <td>...</td>\n",
       "      <td>...</td>\n",
       "      <td>...</td>\n",
       "      <td>...</td>\n",
       "      <td>...</td>\n",
       "      <td>...</td>\n",
       "      <td>...</td>\n",
       "      <td>...</td>\n",
       "      <td>...</td>\n",
       "      <td>...</td>\n",
       "      <td>...</td>\n",
       "    </tr>\n",
       "    <tr>\n",
       "      <th>396025</th>\n",
       "      <td>10000.0</td>\n",
       "      <td>10.99</td>\n",
       "      <td>217.38</td>\n",
       "      <td>1</td>\n",
       "      <td>8</td>\n",
       "      <td>2.0</td>\n",
       "      <td>4</td>\n",
       "      <td>40000.0</td>\n",
       "      <td>1</td>\n",
       "      <td>2015</td>\n",
       "      <td>...</td>\n",
       "      <td>1</td>\n",
       "      <td>0</td>\n",
       "      <td>0</td>\n",
       "      <td>0</td>\n",
       "      <td>0</td>\n",
       "      <td>1</td>\n",
       "      <td>0</td>\n",
       "      <td>0</td>\n",
       "      <td>0</td>\n",
       "      <td>0</td>\n",
       "    </tr>\n",
       "    <tr>\n",
       "      <th>396026</th>\n",
       "      <td>21000.0</td>\n",
       "      <td>12.29</td>\n",
       "      <td>700.42</td>\n",
       "      <td>2</td>\n",
       "      <td>10</td>\n",
       "      <td>5.0</td>\n",
       "      <td>2</td>\n",
       "      <td>110000.0</td>\n",
       "      <td>1</td>\n",
       "      <td>2015</td>\n",
       "      <td>...</td>\n",
       "      <td>0</td>\n",
       "      <td>1</td>\n",
       "      <td>0</td>\n",
       "      <td>0</td>\n",
       "      <td>0</td>\n",
       "      <td>0</td>\n",
       "      <td>0</td>\n",
       "      <td>0</td>\n",
       "      <td>0</td>\n",
       "      <td>0</td>\n",
       "    </tr>\n",
       "    <tr>\n",
       "      <th>396027</th>\n",
       "      <td>5000.0</td>\n",
       "      <td>9.99</td>\n",
       "      <td>161.32</td>\n",
       "      <td>1</td>\n",
       "      <td>5</td>\n",
       "      <td>10.0</td>\n",
       "      <td>4</td>\n",
       "      <td>56500.0</td>\n",
       "      <td>2</td>\n",
       "      <td>2013</td>\n",
       "      <td>...</td>\n",
       "      <td>0</td>\n",
       "      <td>0</td>\n",
       "      <td>0</td>\n",
       "      <td>0</td>\n",
       "      <td>0</td>\n",
       "      <td>0</td>\n",
       "      <td>0</td>\n",
       "      <td>1</td>\n",
       "      <td>0</td>\n",
       "      <td>0</td>\n",
       "    </tr>\n",
       "    <tr>\n",
       "      <th>396028</th>\n",
       "      <td>21000.0</td>\n",
       "      <td>15.31</td>\n",
       "      <td>503.02</td>\n",
       "      <td>2</td>\n",
       "      <td>11</td>\n",
       "      <td>10.0</td>\n",
       "      <td>2</td>\n",
       "      <td>64000.0</td>\n",
       "      <td>2</td>\n",
       "      <td>2012</td>\n",
       "      <td>...</td>\n",
       "      <td>1</td>\n",
       "      <td>0</td>\n",
       "      <td>0</td>\n",
       "      <td>0</td>\n",
       "      <td>1</td>\n",
       "      <td>0</td>\n",
       "      <td>0</td>\n",
       "      <td>0</td>\n",
       "      <td>0</td>\n",
       "      <td>0</td>\n",
       "    </tr>\n",
       "    <tr>\n",
       "      <th>396029</th>\n",
       "      <td>2000.0</td>\n",
       "      <td>13.61</td>\n",
       "      <td>67.98</td>\n",
       "      <td>2</td>\n",
       "      <td>11</td>\n",
       "      <td>10.0</td>\n",
       "      <td>4</td>\n",
       "      <td>42996.0</td>\n",
       "      <td>2</td>\n",
       "      <td>2010</td>\n",
       "      <td>...</td>\n",
       "      <td>0</td>\n",
       "      <td>0</td>\n",
       "      <td>0</td>\n",
       "      <td>0</td>\n",
       "      <td>0</td>\n",
       "      <td>0</td>\n",
       "      <td>1</td>\n",
       "      <td>0</td>\n",
       "      <td>0</td>\n",
       "      <td>0</td>\n",
       "    </tr>\n",
       "  </tbody>\n",
       "</table>\n",
       "<p>396030 rows × 33 columns</p>\n",
       "</div>"
      ],
      "text/plain": [
       "        loan_amnt  int_rate  installment  grade  sub_grade  emp_length  \\\n",
       "0         10000.0     11.44       329.48      1          8        10.0   \n",
       "1          8000.0     11.99       265.68      1          9         4.0   \n",
       "2         15600.0     10.49       506.97      1          7         0.0   \n",
       "3          7200.0      6.49       220.65      0          1         6.0   \n",
       "4         24375.0     17.27       609.33      2         14         9.0   \n",
       "...           ...       ...          ...    ...        ...         ...   \n",
       "396025    10000.0     10.99       217.38      1          8         2.0   \n",
       "396026    21000.0     12.29       700.42      2         10         5.0   \n",
       "396027     5000.0      9.99       161.32      1          5        10.0   \n",
       "396028    21000.0     15.31       503.02      2         11        10.0   \n",
       "396029     2000.0     13.61        67.98      2         11        10.0   \n",
       "\n",
       "        home_ownership  annual_inc  verification_status  issue_d  ...  \\\n",
       "0                    4    117000.0                    0     2015  ...   \n",
       "1                    2     65000.0                    0     2015  ...   \n",
       "2                    4     43057.0                    1     2015  ...   \n",
       "3                    4     54000.0                    0     2014  ...   \n",
       "4                    2     55000.0                    2     2013  ...   \n",
       "...                ...         ...                  ...      ...  ...   \n",
       "396025               4     40000.0                    1     2015  ...   \n",
       "396026               2    110000.0                    1     2015  ...   \n",
       "396027               4     56500.0                    2     2013  ...   \n",
       "396028               2     64000.0                    2     2012  ...   \n",
       "396029               4     42996.0                    2     2010  ...   \n",
       "\n",
       "        term_ 60 months  05113  11650  22690  29597  30723  48052  70466  \\\n",
       "0                     0      0      0      1      0      0      0      0   \n",
       "1                     0      1      0      0      0      0      0      0   \n",
       "2                     0      1      0      0      0      0      0      0   \n",
       "3                     0      0      0      0      0      0      0      0   \n",
       "4                     1      0      1      0      0      0      0      0   \n",
       "...                 ...    ...    ...    ...    ...    ...    ...    ...   \n",
       "396025                1      0      0      0      0      1      0      0   \n",
       "396026                0      1      0      0      0      0      0      0   \n",
       "396027                0      0      0      0      0      0      0      1   \n",
       "396028                1      0      0      0      1      0      0      0   \n",
       "396029                0      0      0      0      0      0      1      0   \n",
       "\n",
       "        86630  93700  \n",
       "0           0      0  \n",
       "1           0      0  \n",
       "2           0      0  \n",
       "3           0      0  \n",
       "4           0      0  \n",
       "...       ...    ...  \n",
       "396025      0      0  \n",
       "396026      0      0  \n",
       "396027      0      0  \n",
       "396028      0      0  \n",
       "396029      0      0  \n",
       "\n",
       "[396030 rows x 33 columns]"
      ]
     },
     "execution_count": 333,
     "metadata": {},
     "output_type": "execute_result"
    }
   ],
   "source": [
    "df"
   ]
  },
  {
   "cell_type": "code",
   "execution_count": 334,
   "id": "35340b55",
   "metadata": {},
   "outputs": [],
   "source": [
    "X = df.drop(['loan_status'], axis=1).values\n",
    "y = df['loan_status'].values\n",
    "\n",
    "X_train, X_test, y_train, y_test = train_test_split(X,y,test_size = 0.3, random_state = 101)"
   ]
  },
  {
   "cell_type": "code",
   "execution_count": 335,
   "id": "857d2e56",
   "metadata": {},
   "outputs": [
    {
     "data": {
      "text/plain": [
       "array([[1.8600e+04, 1.5880e+01, 6.5282e+02, ..., 0.0000e+00, 0.0000e+00,\n",
       "        0.0000e+00],\n",
       "       [2.6400e+04, 1.1530e+01, 8.7095e+02, ..., 1.0000e+00, 0.0000e+00,\n",
       "        0.0000e+00],\n",
       "       [1.0000e+04, 1.2990e+01, 3.3690e+02, ..., 0.0000e+00, 0.0000e+00,\n",
       "        0.0000e+00],\n",
       "       ...,\n",
       "       [2.0000e+04, 1.0990e+01, 6.5468e+02, ..., 0.0000e+00, 0.0000e+00,\n",
       "        0.0000e+00],\n",
       "       [1.2800e+04, 7.9000e+00, 4.0052e+02, ..., 0.0000e+00, 0.0000e+00,\n",
       "        0.0000e+00],\n",
       "       [9.5000e+03, 1.2120e+01, 3.1609e+02, ..., 0.0000e+00, 0.0000e+00,\n",
       "        0.0000e+00]])"
      ]
     },
     "execution_count": 335,
     "metadata": {},
     "output_type": "execute_result"
    }
   ],
   "source": [
    "X_train"
   ]
  },
  {
   "cell_type": "code",
   "execution_count": 385,
   "id": "f65e4fc5",
   "metadata": {},
   "outputs": [],
   "source": [
    "from sklearn.preprocessing import StandardScaler\n",
    "scaler = StandardScaler()"
   ]
  },
  {
   "cell_type": "code",
   "execution_count": 386,
   "id": "1b0d6aba",
   "metadata": {},
   "outputs": [],
   "source": [
    "X_train = scaler.fit_transform(X_train)"
   ]
  },
  {
   "cell_type": "code",
   "execution_count": 387,
   "id": "03583314",
   "metadata": {},
   "outputs": [],
   "source": [
    "X_test = scaler.fit_transform(X_test)"
   ]
  },
  {
   "cell_type": "code",
   "execution_count": 388,
   "id": "40fc7015",
   "metadata": {},
   "outputs": [
    {
     "data": {
      "text/plain": [
       "(277221, 32)"
      ]
     },
     "execution_count": 388,
     "metadata": {},
     "output_type": "execute_result"
    }
   ],
   "source": [
    "X_train.shape"
   ]
  },
  {
   "cell_type": "code",
   "execution_count": 401,
   "id": "14299e5c",
   "metadata": {},
   "outputs": [],
   "source": [
    "model = Sequential()"
   ]
  },
  {
   "cell_type": "code",
   "execution_count": 402,
   "id": "7332eea1",
   "metadata": {},
   "outputs": [],
   "source": [
    "model.add(Dense(32, activation = \"relu\"))"
   ]
  },
  {
   "cell_type": "code",
   "execution_count": 403,
   "id": "997e9207",
   "metadata": {},
   "outputs": [],
   "source": [
    "model.add(Dropout(0.3))"
   ]
  },
  {
   "cell_type": "code",
   "execution_count": 404,
   "id": "0278b125",
   "metadata": {},
   "outputs": [],
   "source": [
    "model.add(Dense(16, activation = \"relu\"))"
   ]
  },
  {
   "cell_type": "code",
   "execution_count": 405,
   "id": "3bc86eff",
   "metadata": {},
   "outputs": [],
   "source": [
    "model.add(Dropout(0.2))"
   ]
  },
  {
   "cell_type": "code",
   "execution_count": 406,
   "id": "5dbc954a",
   "metadata": {},
   "outputs": [],
   "source": [
    "model.add(Dense(8, activation = \"relu\"))"
   ]
  },
  {
   "cell_type": "code",
   "execution_count": 407,
   "id": "414988ce",
   "metadata": {},
   "outputs": [],
   "source": [
    "model.add(Dropout(0.1))"
   ]
  },
  {
   "cell_type": "code",
   "execution_count": 408,
   "id": "da7c8a91",
   "metadata": {},
   "outputs": [],
   "source": [
    "model.add(Dense(units = 1, activation = \"sigmoid\"))"
   ]
  },
  {
   "cell_type": "code",
   "execution_count": 409,
   "id": "522ccc6f",
   "metadata": {},
   "outputs": [],
   "source": [
    "model.compile(loss=\"binary_crossentropy\", optimizer = \"adam\")"
   ]
  },
  {
   "cell_type": "code",
   "execution_count": 410,
   "id": "d4a19dc2",
   "metadata": {},
   "outputs": [],
   "source": [
    "from tensorflow.keras.callbacks import EarlyStopping"
   ]
  },
  {
   "cell_type": "code",
   "execution_count": 411,
   "id": "b39375c0",
   "metadata": {},
   "outputs": [],
   "source": [
    "early_stop = EarlyStopping(monitor='val_loss', mode='min', verbose=2, patience=20)"
   ]
  },
  {
   "cell_type": "code",
   "execution_count": 412,
   "id": "480dbb4e",
   "metadata": {},
   "outputs": [
    {
     "name": "stdout",
     "output_type": "stream",
     "text": [
      "Epoch 1/25\n",
      "1083/1083 - 8s - loss: 0.3128 - val_loss: 0.2620\n",
      "Epoch 2/25\n",
      "1083/1083 - 7s - loss: 0.2671 - val_loss: 0.2579\n",
      "Epoch 3/25\n",
      "1083/1083 - 8s - loss: 0.2631 - val_loss: 0.2576\n",
      "Epoch 4/25\n",
      "1083/1083 - 8s - loss: 0.2606 - val_loss: 0.2560\n",
      "Epoch 5/25\n",
      "1083/1083 - 4s - loss: 0.2597 - val_loss: 0.2562\n",
      "Epoch 6/25\n",
      "1083/1083 - 4s - loss: 0.2588 - val_loss: 0.2557\n",
      "Epoch 7/25\n",
      "1083/1083 - 4s - loss: 0.2581 - val_loss: 0.2554\n",
      "Epoch 8/25\n",
      "1083/1083 - 6s - loss: 0.2579 - val_loss: 0.2551\n",
      "Epoch 9/25\n",
      "1083/1083 - 5s - loss: 0.2574 - val_loss: 0.2549\n",
      "Epoch 10/25\n",
      "1083/1083 - 5s - loss: 0.2569 - val_loss: 0.2544\n",
      "Epoch 11/25\n",
      "1083/1083 - 6s - loss: 0.2568 - val_loss: 0.2548\n",
      "Epoch 12/25\n",
      "1083/1083 - 6s - loss: 0.2568 - val_loss: 0.2548\n",
      "Epoch 13/25\n",
      "1083/1083 - 5s - loss: 0.2564 - val_loss: 0.2549\n",
      "Epoch 14/25\n",
      "1083/1083 - 5s - loss: 0.2560 - val_loss: 0.2549\n",
      "Epoch 15/25\n",
      "1083/1083 - 5s - loss: 0.2563 - val_loss: 0.2550\n",
      "Epoch 16/25\n",
      "1083/1083 - 6s - loss: 0.2561 - val_loss: 0.2541\n",
      "Epoch 17/25\n",
      "1083/1083 - 6s - loss: 0.2555 - val_loss: 0.2542\n",
      "Epoch 18/25\n",
      "1083/1083 - 4s - loss: 0.2556 - val_loss: 0.2544\n",
      "Epoch 19/25\n",
      "1083/1083 - 4s - loss: 0.2559 - val_loss: 0.2543\n",
      "Epoch 20/25\n",
      "1083/1083 - 6s - loss: 0.2557 - val_loss: 0.2549\n",
      "Epoch 21/25\n",
      "1083/1083 - 5s - loss: 0.2556 - val_loss: 0.2546\n",
      "Epoch 22/25\n",
      "1083/1083 - 4s - loss: 0.2555 - val_loss: 0.2539\n",
      "Epoch 23/25\n",
      "1083/1083 - 5s - loss: 0.2554 - val_loss: 0.2544\n",
      "Epoch 24/25\n",
      "1083/1083 - 5s - loss: 0.2550 - val_loss: 0.2541\n",
      "Epoch 25/25\n",
      "1083/1083 - 4s - loss: 0.2553 - val_loss: 0.2545\n"
     ]
    },
    {
     "data": {
      "text/plain": [
       "<keras.callbacks.History at 0x1dabb522be0>"
      ]
     },
     "execution_count": 412,
     "metadata": {},
     "output_type": "execute_result"
    }
   ],
   "source": [
    "model.fit(x=X_train, \n",
    "          y=y_train, \n",
    "          epochs=25,\n",
    "          validation_data=(X_test, y_test), verbose=2,\n",
    "          callbacks=[early_stop],\n",
    "          batch_size = 256\n",
    "          )"
   ]
  },
  {
   "cell_type": "code",
   "execution_count": 450,
   "id": "5f82bdd0",
   "metadata": {},
   "outputs": [],
   "source": [
    "predictions = model.predict(X_test)"
   ]
  },
  {
   "cell_type": "code",
   "execution_count": 451,
   "id": "eb1cf4d4",
   "metadata": {},
   "outputs": [
    {
     "data": {
      "text/plain": [
       "<AxesSubplot:ylabel='Count'>"
      ]
     },
     "execution_count": 451,
     "metadata": {},
     "output_type": "execute_result"
    },
    {
     "data": {
      "image/png": "[encoded data removed]",
      "text/plain": [
       "<Figure size 432x288 with 1 Axes>"
      ]
     },
     "metadata": {
      "needs_background": "light"
     },
     "output_type": "display_data"
    }
   ],
   "source": [
    "sns.histplot(predictions)"
   ]
  },
  {
   "cell_type": "code",
   "execution_count": 452,
   "id": "620ef47a",
   "metadata": {},
   "outputs": [],
   "source": [
    "for i in range(0,len(predictions)):\n",
    "    \n",
    "    if predictions[i] > 0.5:\n",
    "        \n",
    "        predictions[i] = 1\n",
    "    \n",
    "    else:\n",
    "        \n",
    "        predictions[i] = 0"
   ]
  },
  {
   "cell_type": "code",
   "execution_count": 453,
   "id": "d1c1e66c",
   "metadata": {},
   "outputs": [
    {
     "data": {
      "text/plain": [
       "<AxesSubplot:ylabel='Count'>"
      ]
     },
     "execution_count": 453,
     "metadata": {},
     "output_type": "execute_result"
    },
    {
     "data": {
      "image/png": "[encoded data removed]",
      "text/plain": [
       "<Figure size 432x288 with 1 Axes>"
      ]
     },
     "metadata": {
      "needs_background": "light"
     },
     "output_type": "display_data"
    }
   ],
   "source": [
    "sns.histplot(predictions)"
   ]
  },
  {
   "cell_type": "code",
   "execution_count": 454,
   "id": "9481343c",
   "metadata": {},
   "outputs": [],
   "source": [
    "from sklearn.metrics import classification_report"
   ]
  },
  {
   "cell_type": "code",
   "execution_count": 456,
   "id": "95cc30ba",
   "metadata": {},
   "outputs": [
    {
     "name": "stdout",
     "output_type": "stream",
     "text": [
      "              precision    recall  f1-score   support\n",
      "\n",
      "           0       0.89      0.99      0.94     95549\n",
      "           1       0.90      0.49      0.63     23260\n",
      "\n",
      "    accuracy                           0.89    118809\n",
      "   macro avg       0.90      0.74      0.79    118809\n",
      "weighted avg       0.89      0.89      0.88    118809\n",
      "\n"
     ]
    }
   ],
   "source": [
    "print(classification_report(y_test,predictions))"
   ]
  },
  {
   "cell_type": "code",
   "execution_count": 419,
   "id": "bfc2dea9",
   "metadata": {},
   "outputs": [],
   "source": [
    "from sklearn.metrics import confusion_matrix"
   ]
  },
  {
   "cell_type": "code",
   "execution_count": 457,
   "id": "d90368c8",
   "metadata": {},
   "outputs": [
    {
     "name": "stdout",
     "output_type": "stream",
     "text": [
      "[[94350  1199]\n",
      " [11884 11376]]\n"
     ]
    }
   ],
   "source": [
    "print(confusion_matrix(y_test,predictions))"
   ]
  },
  {
   "cell_type": "code",
   "execution_count": 428,
   "id": "1947535d",
   "metadata": {},
   "outputs": [],
   "source": [
    "from sklearn.linear_model import LogisticRegression"
   ]
  },
  {
   "cell_type": "code",
   "execution_count": 429,
   "id": "fc781c02",
   "metadata": {},
   "outputs": [],
   "source": [
    "reg = LogisticRegression()"
   ]
  },
  {
   "cell_type": "code",
   "execution_count": 430,
   "id": "837bf7af",
   "metadata": {},
   "outputs": [
    {
     "name": "stderr",
     "output_type": "stream",
     "text": [
      "C:\\Users\\anime\\anaconda3\\envs\\tensor\\lib\\site-packages\\sklearn\\linear_model\\_logistic.py:765: ConvergenceWarning: lbfgs failed to converge (status=1):\n",
      "STOP: TOTAL NO. of ITERATIONS REACHED LIMIT.\n",
      "\n",
      "Increase the number of iterations (max_iter) or scale the data as shown in:\n",
      "    https://scikit-learn.org/stable/modules/preprocessing.html\n",
      "Please also refer to the documentation for alternative solver options:\n",
      "    https://scikit-learn.org/stable/modules/linear_model.html#logistic-regression\n",
      "  extra_warning_msg=_LOGISTIC_SOLVER_CONVERGENCE_MSG)\n"
     ]
    },
    {
     "data": {
      "text/plain": [
       "LogisticRegression()"
      ]
     },
     "execution_count": 430,
     "metadata": {},
     "output_type": "execute_result"
    }
   ],
   "source": [
    "reg.fit(X_train, y_train)"
   ]
  },
  {
   "cell_type": "code",
   "execution_count": 432,
   "id": "422b190b",
   "metadata": {},
   "outputs": [],
   "source": [
    "predictions = reg.predict(X_test)"
   ]
  },
  {
   "cell_type": "code",
   "execution_count": 433,
   "id": "3ee74fcd",
   "metadata": {},
   "outputs": [
    {
     "data": {
      "text/plain": [
       "<AxesSubplot:ylabel='Count'>"
      ]
     },
     "execution_count": 433,
     "metadata": {},
     "output_type": "execute_result"
    },
    {
     "data": {
      "image/png": "[encoded data removed]",
      "text/plain": [
       "<Figure size 432x288 with 1 Axes>"
      ]
     },
     "metadata": {
      "needs_background": "light"
     },
     "output_type": "display_data"
    }
   ],
   "source": [
    "sns.histplot(predictions)"
   ]
  },
  {
   "cell_type": "code",
   "execution_count": 449,
   "id": "558e4ed4",
   "metadata": {},
   "outputs": [
    {
     "name": "stdout",
     "output_type": "stream",
     "text": [
      "              precision    recall  f1-score   support\n",
      "\n",
      "           0       0.89      0.98      0.93     95549\n",
      "           1       0.86      0.51      0.64     23260\n",
      "\n",
      "    accuracy                           0.89    118809\n",
      "   macro avg       0.88      0.75      0.79    118809\n",
      "weighted avg       0.89      0.89      0.88    118809\n",
      "\n"
     ]
    }
   ],
   "source": [
    "print(classification_report(y_test,predictions))"
   ]
  },
  {
   "cell_type": "code",
   "execution_count": 448,
   "id": "07da5bee",
   "metadata": {
    "scrolled": true
   },
   "outputs": [
    {
     "name": "stdout",
     "output_type": "stream",
     "text": [
      "[[93598  1951]\n",
      " [11376 11884]]\n"
     ]
    }
   ],
   "source": [
    "print(confusion_matrix(y_test,predictions))"
   ]
  },
  {
   "cell_type": "code",
   "execution_count": null,
   "id": "ce7597ae",
   "metadata": {},
   "outputs": [],
   "source": []
  }
 ],
 "metadata": {
  "kernelspec": {
   "display_name": "Python 3",
   "language": "python",
   "name": "python3"
  },
  "language_info": {
   "codemirror_mode": {
    "name": "ipython",
    "version": 3
   },
   "file_extension": ".py",
   "mimetype": "text/x-python",
   "name": "python",
   "nbconvert_exporter": "python",
   "pygments_lexer": "ipython3",
   "version": "3.6.13"
  }
 },
 "nbformat": 4,
 "nbformat_minor": 5
}
